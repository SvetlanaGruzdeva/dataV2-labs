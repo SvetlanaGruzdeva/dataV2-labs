{
 "cells": [
  {
   "cell_type": "markdown",
   "metadata": {},
   "source": [
    "# Challenge 1 - Tic Tac Toe\n",
    "\n",
    "In this lab you will perform deep learning analysis on a dataset of playing [Tic Tac Toe](https://en.wikipedia.org/wiki/Tic-tac-toe).\n",
    "\n",
    "There are 9 grids in Tic Tac Toe that are coded as the following picture shows:\n",
    "\n",
    "![Tic Tac Toe Grids](tttboard.jpg)\n",
    "\n",
    "In the first 9 columns of the dataset you can find which marks (`x` or `o`) exist in the grids. If there is no mark in a certain grid, it is labeled as `b`. The last column is `class` which tells you whether Player X (who always moves first in Tic Tac Toe) wins in this configuration. Note that when `class` has the value `False`, it means either Player O wins the game or it ends up as a draw."
   ]
  },
  {
   "cell_type": "markdown",
   "metadata": {},
   "source": [
    "Follow the steps suggested below to conduct a neural network analysis using Tensorflow and Keras. You will build a deep learning model to predict whether Player X wins the game or not.\n",
    "\n",
    "## Step 1: Data Engineering\n",
    "\n",
    "This dataset is almost in the ready-to-use state so you do not need to worry about missing values and so on. Still, some simple data engineering is needed.\n",
    "\n",
    "1. Read `tic-tac-toe.csv` into a dataframe.\n",
    "1. Inspect the dataset. Determine if the dataset is reliable by eyeballing the data.\n",
    "1. Convert the categorical values to numeric in all columns.\n",
    "1. Separate the inputs and output.\n",
    "1. Normalize the input data."
   ]
  },
  {
   "cell_type": "code",
   "execution_count": 26,
   "metadata": {},
   "outputs": [],
   "source": [
    "import pandas as pd\n",
    "import numpy as np\n",
    "from sklearn.model_selection import train_test_split\n",
    "import tensorflow as tf\n",
    "import tensorflow.keras as keras"
   ]
  },
  {
   "cell_type": "code",
   "execution_count": 37,
   "metadata": {},
   "outputs": [],
   "source": [
    "# your code here\n",
    "df = pd.read_csv('tic-tac-toe.csv')"
   ]
  },
  {
   "cell_type": "code",
   "execution_count": 38,
   "metadata": {},
   "outputs": [
    {
     "data": {
      "text/html": [
       "<div>\n",
       "<style scoped>\n",
       "    .dataframe tbody tr th:only-of-type {\n",
       "        vertical-align: middle;\n",
       "    }\n",
       "\n",
       "    .dataframe tbody tr th {\n",
       "        vertical-align: top;\n",
       "    }\n",
       "\n",
       "    .dataframe thead th {\n",
       "        text-align: right;\n",
       "    }\n",
       "</style>\n",
       "<table border=\"1\" class=\"dataframe\">\n",
       "  <thead>\n",
       "    <tr style=\"text-align: right;\">\n",
       "      <th></th>\n",
       "      <th>TL</th>\n",
       "      <th>TM</th>\n",
       "      <th>TR</th>\n",
       "      <th>ML</th>\n",
       "      <th>MM</th>\n",
       "      <th>MR</th>\n",
       "      <th>BL</th>\n",
       "      <th>BM</th>\n",
       "      <th>BR</th>\n",
       "      <th>class</th>\n",
       "    </tr>\n",
       "  </thead>\n",
       "  <tbody>\n",
       "    <tr>\n",
       "      <th>0</th>\n",
       "      <td>x</td>\n",
       "      <td>x</td>\n",
       "      <td>x</td>\n",
       "      <td>x</td>\n",
       "      <td>o</td>\n",
       "      <td>o</td>\n",
       "      <td>x</td>\n",
       "      <td>o</td>\n",
       "      <td>o</td>\n",
       "      <td>True</td>\n",
       "    </tr>\n",
       "    <tr>\n",
       "      <th>1</th>\n",
       "      <td>x</td>\n",
       "      <td>x</td>\n",
       "      <td>x</td>\n",
       "      <td>x</td>\n",
       "      <td>o</td>\n",
       "      <td>o</td>\n",
       "      <td>o</td>\n",
       "      <td>x</td>\n",
       "      <td>o</td>\n",
       "      <td>True</td>\n",
       "    </tr>\n",
       "    <tr>\n",
       "      <th>2</th>\n",
       "      <td>x</td>\n",
       "      <td>x</td>\n",
       "      <td>x</td>\n",
       "      <td>x</td>\n",
       "      <td>o</td>\n",
       "      <td>o</td>\n",
       "      <td>o</td>\n",
       "      <td>o</td>\n",
       "      <td>x</td>\n",
       "      <td>True</td>\n",
       "    </tr>\n",
       "    <tr>\n",
       "      <th>3</th>\n",
       "      <td>x</td>\n",
       "      <td>x</td>\n",
       "      <td>x</td>\n",
       "      <td>x</td>\n",
       "      <td>o</td>\n",
       "      <td>o</td>\n",
       "      <td>o</td>\n",
       "      <td>b</td>\n",
       "      <td>b</td>\n",
       "      <td>True</td>\n",
       "    </tr>\n",
       "    <tr>\n",
       "      <th>4</th>\n",
       "      <td>x</td>\n",
       "      <td>x</td>\n",
       "      <td>x</td>\n",
       "      <td>x</td>\n",
       "      <td>o</td>\n",
       "      <td>o</td>\n",
       "      <td>b</td>\n",
       "      <td>o</td>\n",
       "      <td>b</td>\n",
       "      <td>True</td>\n",
       "    </tr>\n",
       "  </tbody>\n",
       "</table>\n",
       "</div>"
      ],
      "text/plain": [
       "  TL TM TR ML MM MR BL BM BR  class\n",
       "0  x  x  x  x  o  o  x  o  o   True\n",
       "1  x  x  x  x  o  o  o  x  o   True\n",
       "2  x  x  x  x  o  o  o  o  x   True\n",
       "3  x  x  x  x  o  o  o  b  b   True\n",
       "4  x  x  x  x  o  o  b  o  b   True"
      ]
     },
     "execution_count": 38,
     "metadata": {},
     "output_type": "execute_result"
    }
   ],
   "source": [
    "df.head()"
   ]
  },
  {
   "cell_type": "code",
   "execution_count": 39,
   "metadata": {},
   "outputs": [
    {
     "name": "stdout",
     "output_type": "stream",
     "text": [
      "<class 'pandas.core.frame.DataFrame'>\n",
      "RangeIndex: 958 entries, 0 to 957\n",
      "Data columns (total 10 columns):\n",
      " #   Column  Non-Null Count  Dtype \n",
      "---  ------  --------------  ----- \n",
      " 0   TL      958 non-null    object\n",
      " 1   TM      958 non-null    object\n",
      " 2   TR      958 non-null    object\n",
      " 3   ML      958 non-null    object\n",
      " 4   MM      958 non-null    object\n",
      " 5   MR      958 non-null    object\n",
      " 6   BL      958 non-null    object\n",
      " 7   BM      958 non-null    object\n",
      " 8   BR      958 non-null    object\n",
      " 9   class   958 non-null    bool  \n",
      "dtypes: bool(1), object(9)\n",
      "memory usage: 68.4+ KB\n"
     ]
    }
   ],
   "source": [
    "df.info()"
   ]
  },
  {
   "cell_type": "code",
   "execution_count": 40,
   "metadata": {},
   "outputs": [],
   "source": [
    "df.replace(['x', 'o', 'b'], [2, 1, 0], inplace=True)"
   ]
  },
  {
   "cell_type": "code",
   "execution_count": 41,
   "metadata": {},
   "outputs": [
    {
     "name": "stdout",
     "output_type": "stream",
     "text": [
      "<class 'pandas.core.frame.DataFrame'>\n",
      "RangeIndex: 958 entries, 0 to 957\n",
      "Data columns (total 10 columns):\n",
      " #   Column  Non-Null Count  Dtype\n",
      "---  ------  --------------  -----\n",
      " 0   TL      958 non-null    int64\n",
      " 1   TM      958 non-null    int64\n",
      " 2   TR      958 non-null    int64\n",
      " 3   ML      958 non-null    int64\n",
      " 4   MM      958 non-null    int64\n",
      " 5   MR      958 non-null    int64\n",
      " 6   BL      958 non-null    int64\n",
      " 7   BM      958 non-null    int64\n",
      " 8   BR      958 non-null    int64\n",
      " 9   class   958 non-null    bool \n",
      "dtypes: bool(1), int64(9)\n",
      "memory usage: 68.4 KB\n"
     ]
    }
   ],
   "source": [
    "df.info()"
   ]
  },
  {
   "cell_type": "code",
   "execution_count": 42,
   "metadata": {},
   "outputs": [],
   "source": [
    "df['class'].replace([True, False], [1, 0], inplace=True)"
   ]
  },
  {
   "cell_type": "code",
   "execution_count": 43,
   "metadata": {},
   "outputs": [
    {
     "name": "stdout",
     "output_type": "stream",
     "text": [
      "<class 'pandas.core.frame.DataFrame'>\n",
      "RangeIndex: 958 entries, 0 to 957\n",
      "Data columns (total 10 columns):\n",
      " #   Column  Non-Null Count  Dtype\n",
      "---  ------  --------------  -----\n",
      " 0   TL      958 non-null    int64\n",
      " 1   TM      958 non-null    int64\n",
      " 2   TR      958 non-null    int64\n",
      " 3   ML      958 non-null    int64\n",
      " 4   MM      958 non-null    int64\n",
      " 5   MR      958 non-null    int64\n",
      " 6   BL      958 non-null    int64\n",
      " 7   BM      958 non-null    int64\n",
      " 8   BR      958 non-null    int64\n",
      " 9   class   958 non-null    int64\n",
      "dtypes: int64(10)\n",
      "memory usage: 75.0 KB\n"
     ]
    }
   ],
   "source": [
    "df.info()"
   ]
  },
  {
   "cell_type": "code",
   "execution_count": 44,
   "metadata": {},
   "outputs": [
    {
     "data": {
      "text/html": [
       "<div>\n",
       "<style scoped>\n",
       "    .dataframe tbody tr th:only-of-type {\n",
       "        vertical-align: middle;\n",
       "    }\n",
       "\n",
       "    .dataframe tbody tr th {\n",
       "        vertical-align: top;\n",
       "    }\n",
       "\n",
       "    .dataframe thead th {\n",
       "        text-align: right;\n",
       "    }\n",
       "</style>\n",
       "<table border=\"1\" class=\"dataframe\">\n",
       "  <thead>\n",
       "    <tr style=\"text-align: right;\">\n",
       "      <th></th>\n",
       "      <th>TL</th>\n",
       "      <th>TM</th>\n",
       "      <th>TR</th>\n",
       "      <th>ML</th>\n",
       "      <th>MM</th>\n",
       "      <th>MR</th>\n",
       "      <th>BL</th>\n",
       "      <th>BM</th>\n",
       "      <th>BR</th>\n",
       "      <th>class</th>\n",
       "    </tr>\n",
       "  </thead>\n",
       "  <tbody>\n",
       "    <tr>\n",
       "      <th>0</th>\n",
       "      <td>2</td>\n",
       "      <td>2</td>\n",
       "      <td>2</td>\n",
       "      <td>2</td>\n",
       "      <td>1</td>\n",
       "      <td>1</td>\n",
       "      <td>2</td>\n",
       "      <td>1</td>\n",
       "      <td>1</td>\n",
       "      <td>1</td>\n",
       "    </tr>\n",
       "    <tr>\n",
       "      <th>1</th>\n",
       "      <td>2</td>\n",
       "      <td>2</td>\n",
       "      <td>2</td>\n",
       "      <td>2</td>\n",
       "      <td>1</td>\n",
       "      <td>1</td>\n",
       "      <td>1</td>\n",
       "      <td>2</td>\n",
       "      <td>1</td>\n",
       "      <td>1</td>\n",
       "    </tr>\n",
       "    <tr>\n",
       "      <th>2</th>\n",
       "      <td>2</td>\n",
       "      <td>2</td>\n",
       "      <td>2</td>\n",
       "      <td>2</td>\n",
       "      <td>1</td>\n",
       "      <td>1</td>\n",
       "      <td>1</td>\n",
       "      <td>1</td>\n",
       "      <td>2</td>\n",
       "      <td>1</td>\n",
       "    </tr>\n",
       "    <tr>\n",
       "      <th>3</th>\n",
       "      <td>2</td>\n",
       "      <td>2</td>\n",
       "      <td>2</td>\n",
       "      <td>2</td>\n",
       "      <td>1</td>\n",
       "      <td>1</td>\n",
       "      <td>1</td>\n",
       "      <td>0</td>\n",
       "      <td>0</td>\n",
       "      <td>1</td>\n",
       "    </tr>\n",
       "    <tr>\n",
       "      <th>4</th>\n",
       "      <td>2</td>\n",
       "      <td>2</td>\n",
       "      <td>2</td>\n",
       "      <td>2</td>\n",
       "      <td>1</td>\n",
       "      <td>1</td>\n",
       "      <td>0</td>\n",
       "      <td>1</td>\n",
       "      <td>0</td>\n",
       "      <td>1</td>\n",
       "    </tr>\n",
       "  </tbody>\n",
       "</table>\n",
       "</div>"
      ],
      "text/plain": [
       "   TL  TM  TR  ML  MM  MR  BL  BM  BR  class\n",
       "0   2   2   2   2   1   1   2   1   1      1\n",
       "1   2   2   2   2   1   1   1   2   1      1\n",
       "2   2   2   2   2   1   1   1   1   2      1\n",
       "3   2   2   2   2   1   1   1   0   0      1\n",
       "4   2   2   2   2   1   1   0   1   0      1"
      ]
     },
     "execution_count": 44,
     "metadata": {},
     "output_type": "execute_result"
    }
   ],
   "source": [
    "df.head()"
   ]
  },
  {
   "cell_type": "code",
   "execution_count": 45,
   "metadata": {},
   "outputs": [],
   "source": [
    "X = df.drop('class', axis=1)\n",
    "y = df['class']"
   ]
  },
  {
   "cell_type": "markdown",
   "metadata": {},
   "source": [
    "## Step 2: Build Neural Network\n",
    "\n",
    "To build the neural network, you can refer to your own codes you wrote while following the [Deep Learning with Python, TensorFlow, and Keras tutorial](https://www.youtube.com/watch?v=wQ8BIBpya2k) in the lesson. It's pretty similar to what you will be doing in this lab.\n",
    "\n",
    "1. Split the training and test data.\n",
    "1. Create a `Sequential` model.\n",
    "1. Add several layers to your model. Make sure you use ReLU as the activation function for the middle layers. Use Softmax for the output layer because each output has a single lable and all the label probabilities add up to 1.\n",
    "1. Compile the model using `adam` as the optimizer and `sparse_categorical_crossentropy` as the loss function. For metrics, use `accuracy` for now.\n",
    "1. Fit the training data.\n",
    "1. Evaluate your neural network model with the test data.\n",
    "1. Save your model as `tic-tac-toe.model`."
   ]
  },
  {
   "cell_type": "code",
   "execution_count": 46,
   "metadata": {},
   "outputs": [],
   "source": [
    "# your code here\n",
    "\n",
    "X_train, X_test, y_train, y_test = train_test_split(X, y, test_size=0.2, random_state=42)"
   ]
  },
  {
   "cell_type": "code",
   "execution_count": 84,
   "metadata": {
    "scrolled": true
   },
   "outputs": [
    {
     "name": "stdout",
     "output_type": "stream",
     "text": [
      "Epoch 1/20\n",
      "24/24 [==============================] - 0s 768us/step - loss: 0.9502 - accuracy: 0.5705\n",
      "Epoch 2/20\n",
      "24/24 [==============================] - 0s 872us/step - loss: 0.6452 - accuracy: 0.6632\n",
      "Epoch 3/20\n",
      "24/24 [==============================] - 0s 790us/step - loss: 0.6159 - accuracy: 0.6697\n",
      "Epoch 4/20\n",
      "24/24 [==============================] - 0s 833us/step - loss: 0.5967 - accuracy: 0.7063\n",
      "Epoch 5/20\n",
      "24/24 [==============================] - 0s 819us/step - loss: 0.5729 - accuracy: 0.7037\n",
      "Epoch 6/20\n",
      "24/24 [==============================] - 0s 1ms/step - loss: 0.5484 - accuracy: 0.7428\n",
      "Epoch 7/20\n",
      "24/24 [==============================] - 0s 1ms/step - loss: 0.5297 - accuracy: 0.7585\n",
      "Epoch 8/20\n",
      "24/24 [==============================] - 0s 1ms/step - loss: 0.5134 - accuracy: 0.7689\n",
      "Epoch 9/20\n",
      "24/24 [==============================] - 0s 1ms/step - loss: 0.4918 - accuracy: 0.7755\n",
      "Epoch 10/20\n",
      "24/24 [==============================] - 0s 997us/step - loss: 0.4749 - accuracy: 0.7898\n",
      "Epoch 11/20\n",
      "24/24 [==============================] - 0s 997us/step - loss: 0.4562 - accuracy: 0.8120\n",
      "Epoch 12/20\n",
      "24/24 [==============================] - 0s 873us/step - loss: 0.4338 - accuracy: 0.8303\n",
      "Epoch 13/20\n",
      "24/24 [==============================] - 0s 956us/step - loss: 0.4394 - accuracy: 0.8133\n",
      "Epoch 14/20\n",
      "24/24 [==============================] - 0s 956us/step - loss: 0.4167 - accuracy: 0.8211\n",
      "Epoch 15/20\n",
      "24/24 [==============================] - 0s 1ms/step - loss: 0.3902 - accuracy: 0.8394\n",
      "Epoch 16/20\n",
      "24/24 [==============================] - 0s 873us/step - loss: 0.3823 - accuracy: 0.8486\n",
      "Epoch 17/20\n",
      "24/24 [==============================] - 0s 915us/step - loss: 0.3692 - accuracy: 0.8525\n",
      "Epoch 18/20\n",
      "24/24 [==============================] - 0s 665us/step - loss: 0.3514 - accuracy: 0.8603\n",
      "Epoch 19/20\n",
      "24/24 [==============================] - 0s 790us/step - loss: 0.3397 - accuracy: 0.8642\n",
      "Epoch 20/20\n",
      "24/24 [==============================] - 0s 582us/step - loss: 0.3397 - accuracy: 0.8603\n"
     ]
    },
    {
     "data": {
      "text/plain": [
       "<tensorflow.python.keras.callbacks.History at 0x2a46194b3d0>"
      ]
     },
     "execution_count": 84,
     "metadata": {},
     "output_type": "execute_result"
    }
   ],
   "source": [
    "model = tf.keras.models.Sequential()\n",
    "model.add(tf.keras.layers.Flatten())\n",
    "model.add(tf.keras.layers.Dense(100, activation=tf.nn.relu))\n",
    "model.add(tf.keras.layers.Dense(100, activation=tf.nn.relu))\n",
    "model.add(tf.keras.layers.Dense(5, activation=tf.nn.softmax))\n",
    "model.compile(optimizer='adam',\n",
    "              loss='sparse_categorical_crossentropy',\n",
    "              metrics=['accuracy'])\n",
    "model.fit(X_train, y_train, epochs=20)"
   ]
  },
  {
   "cell_type": "code",
   "execution_count": 75,
   "metadata": {},
   "outputs": [
    {
     "name": "stdout",
     "output_type": "stream",
     "text": [
      "WARNING:tensorflow:From C:\\Users\\gruzd\\AppData\\Roaming\\Python\\Python38\\site-packages\\tensorflow\\python\\training\\tracking\\tracking.py:111: Model.state_updates (from tensorflow.python.keras.engine.training) is deprecated and will be removed in a future version.\n",
      "Instructions for updating:\n",
      "This property should not be used in TensorFlow 2.0, as updates are applied automatically.\n",
      "WARNING:tensorflow:From C:\\Users\\gruzd\\AppData\\Roaming\\Python\\Python38\\site-packages\\tensorflow\\python\\training\\tracking\\tracking.py:111: Layer.updates (from tensorflow.python.keras.engine.base_layer) is deprecated and will be removed in a future version.\n",
      "Instructions for updating:\n",
      "This property should not be used in TensorFlow 2.0, as updates are applied automatically.\n",
      "INFO:tensorflow:Assets written to: tic-tac-toe.model\\assets\n"
     ]
    }
   ],
   "source": [
    "model.save('tic-tac-toe.model')"
   ]
  },
  {
   "cell_type": "markdown",
   "metadata": {},
   "source": [
    "## Step 3: Make Predictions\n",
    "\n",
    "Now load your saved model and use it to make predictions on a few random rows in the test dataset. Check if the predictions are correct."
   ]
  },
  {
   "cell_type": "code",
   "execution_count": 85,
   "metadata": {},
   "outputs": [
    {
     "name": "stdout",
     "output_type": "stream",
     "text": [
      "6/6 [==============================] - 0s 665us/step - loss: 0.4438 - accuracy: 0.8073\n",
      "0.44376441836357117\n",
      "0.8072916865348816\n"
     ]
    }
   ],
   "source": [
    "# your code here\n",
    "val_loss, val_acc = model.evaluate(X_test, y_test)\n",
    "print(val_loss)\n",
    "print(val_acc)"
   ]
  },
  {
   "cell_type": "markdown",
   "metadata": {},
   "source": [
    "## Step 4: Improve Your Model\n",
    "\n",
    "Did your model achieve low loss (<0.1) and high accuracy (>0.95)? If not, try to improve your model.\n",
    "\n",
    "But how? There are so many things you can play with in Tensorflow and in the next challenge you'll learn about these things. But in this challenge, let's just do a few things to see if they will help.\n",
    "\n",
    "* Add more layers to your model. If the data are complex you need more layers. But don't use more layers than you need. If adding more layers does not improve the model performance you don't need additional layers.\n",
    "* Adjust the learning rate when you compile the model. This means you will create a custom `tf.keras.optimizers.Adam` instance where you specify the learning rate you want. Then pass the instance to `model.compile` as the optimizer.\n",
    "    * `tf.keras.optimizers.Adam` [reference](https://www.tensorflow.org/api_docs/python/tf/keras/optimizers/Adam).\n",
    "    * Don't worry if you don't understand what the learning rate does. You'll learn about it in the next challenge.\n",
    "* Adjust the number of epochs when you fit the training data to the model. Your model performance continues to improve as you train more epochs. But eventually it will reach the ceiling and the performance will stay the same."
   ]
  },
  {
   "cell_type": "code",
   "execution_count": 87,
   "metadata": {
    "scrolled": true
   },
   "outputs": [
    {
     "name": "stdout",
     "output_type": "stream",
     "text": [
      "Epoch 1/36\n",
      "24/24 [==============================] - 0s 912us/step - loss: 0.8584 - accuracy: 0.6292\n",
      "Epoch 2/36\n",
      "24/24 [==============================] - 0s 1ms/step - loss: 0.6321 - accuracy: 0.6593\n",
      "Epoch 3/36\n",
      "24/24 [==============================] - 0s 1ms/step - loss: 0.5973 - accuracy: 0.6854\n",
      "Epoch 4/36\n",
      "24/24 [==============================] - 0s 1ms/step - loss: 0.5665 - accuracy: 0.7141\n",
      "Epoch 5/36\n",
      "24/24 [==============================] - 0s 873us/step - loss: 0.5349 - accuracy: 0.7428\n",
      "Epoch 6/36\n",
      "24/24 [==============================] - 0s 1ms/step - loss: 0.5104 - accuracy: 0.7520\n",
      "Epoch 7/36\n",
      "24/24 [==============================] - 0s 905us/step - loss: 0.4824 - accuracy: 0.7781\n",
      "Epoch 8/36\n",
      "24/24 [==============================] - 0s 972us/step - loss: 0.4152 - accuracy: 0.8225\n",
      "Epoch 9/36\n",
      "24/24 [==============================] - 0s 873us/step - loss: 0.3703 - accuracy: 0.8538\n",
      "Epoch 10/36\n",
      "24/24 [==============================] - 0s 1ms/step - loss: 0.3549 - accuracy: 0.8394\n",
      "Epoch 11/36\n",
      "24/24 [==============================] - 0s 871us/step - loss: 0.3217 - accuracy: 0.8564\n",
      "Epoch 12/36\n",
      "24/24 [==============================] - 0s 997us/step - loss: 0.2992 - accuracy: 0.8603\n",
      "Epoch 13/36\n",
      "24/24 [==============================] - 0s 881us/step - loss: 0.2842 - accuracy: 0.8799\n",
      "Epoch 14/36\n",
      "24/24 [==============================] - 0s 956us/step - loss: 0.2532 - accuracy: 0.8982\n",
      "Epoch 15/36\n",
      "24/24 [==============================] - 0s 873us/step - loss: 0.2142 - accuracy: 0.9099\n",
      "Epoch 16/36\n",
      "24/24 [==============================] - 0s 1ms/step - loss: 0.2281 - accuracy: 0.9073\n",
      "Epoch 17/36\n",
      "24/24 [==============================] - 0s 830us/step - loss: 0.1946 - accuracy: 0.9230\n",
      "Epoch 18/36\n",
      "24/24 [==============================] - 0s 844us/step - loss: 0.1517 - accuracy: 0.9478\n",
      "Epoch 19/36\n",
      "24/24 [==============================] - 0s 914us/step - loss: 0.1427 - accuracy: 0.9504\n",
      "Epoch 20/36\n",
      "24/24 [==============================] - 0s 873us/step - loss: 0.1270 - accuracy: 0.9543\n",
      "Epoch 21/36\n",
      "24/24 [==============================] - 0s 955us/step - loss: 0.1007 - accuracy: 0.9739\n",
      "Epoch 22/36\n",
      "24/24 [==============================] - 0s 954us/step - loss: 0.0873 - accuracy: 0.9700\n",
      "Epoch 23/36\n",
      "24/24 [==============================] - 0s 706us/step - loss: 0.0611 - accuracy: 0.9883\n",
      "Epoch 24/36\n",
      "24/24 [==============================] - 0s 914us/step - loss: 0.0545 - accuracy: 0.9909\n",
      "Epoch 25/36\n",
      "24/24 [==============================] - 0s 1ms/step - loss: 0.0663 - accuracy: 0.9791\n",
      "Epoch 26/36\n",
      "24/24 [==============================] - 0s 1ms/step - loss: 0.0408 - accuracy: 0.9922\n",
      "Epoch 27/36\n",
      "24/24 [==============================] - 0s 914us/step - loss: 0.0341 - accuracy: 0.9935\n",
      "Epoch 28/36\n",
      "24/24 [==============================] - 0s 1ms/step - loss: 0.0235 - accuracy: 0.9974\n",
      "Epoch 29/36\n",
      "24/24 [==============================] - 0s 873us/step - loss: 0.0146 - accuracy: 1.0000\n",
      "Epoch 30/36\n",
      "24/24 [==============================] - 0s 873us/step - loss: 0.0104 - accuracy: 1.0000\n",
      "Epoch 31/36\n",
      "24/24 [==============================] - 0s 873us/step - loss: 0.0087 - accuracy: 1.0000\n",
      "Epoch 32/36\n",
      "24/24 [==============================] - 0s 956us/step - loss: 0.0078 - accuracy: 1.0000\n",
      "Epoch 33/36\n",
      "24/24 [==============================] - 0s 831us/step - loss: 0.0056 - accuracy: 1.0000\n",
      "Epoch 34/36\n",
      "24/24 [==============================] - 0s 706us/step - loss: 0.0038 - accuracy: 1.0000\n",
      "Epoch 35/36\n",
      "24/24 [==============================] - 0s 873us/step - loss: 0.0037 - accuracy: 1.0000\n",
      "Epoch 36/36\n",
      "24/24 [==============================] - 0s 860us/step - loss: 0.0031 - accuracy: 1.0000\n"
     ]
    },
    {
     "data": {
      "text/plain": [
       "<tensorflow.python.keras.callbacks.History at 0x2a45fb76640>"
      ]
     },
     "execution_count": 87,
     "metadata": {},
     "output_type": "execute_result"
    }
   ],
   "source": [
    "model = tf.keras.models.Sequential()\n",
    "model.add(tf.keras.layers.Flatten())\n",
    "model.add(tf.keras.layers.Dense(100, activation=tf.nn.relu))\n",
    "model.add(tf.keras.layers.Dense(100, activation=tf.nn.relu))\n",
    "model.add(tf.keras.layers.Dense(100, activation=tf.nn.relu))\n",
    "model.add(tf.keras.layers.Dense(100, activation=tf.nn.relu))\n",
    "model.add(tf.keras.layers.Dense(5, activation=tf.nn.softmax))\n",
    "model.compile(optimizer='adam',\n",
    "              loss='sparse_categorical_crossentropy',\n",
    "              metrics=['accuracy'])\n",
    "model.fit(X_train, y_train, epochs=36)"
   ]
  },
  {
   "cell_type": "code",
   "execution_count": 88,
   "metadata": {},
   "outputs": [
    {
     "name": "stdout",
     "output_type": "stream",
     "text": [
      "6/6 [==============================] - 0s 665us/step - loss: 0.3875 - accuracy: 0.9062\n",
      "0.38753724098205566\n",
      "0.90625\n"
     ]
    }
   ],
   "source": [
    "val_loss, val_acc = model.evaluate(X_test, y_test)\n",
    "print(val_loss)\n",
    "print(val_acc)"
   ]
  },
  {
   "cell_type": "code",
   "execution_count": 89,
   "metadata": {
    "scrolled": true
   },
   "outputs": [
    {
     "name": "stdout",
     "output_type": "stream",
     "text": [
      "Epoch 1/36\n",
      "24/24 [==============================] - 1s 22ms/step - loss: 1.7153 - accuracy: 0.5144\n",
      "Epoch 2/36\n",
      "24/24 [==============================] - 1s 22ms/step - loss: 0.6427 - accuracy: 0.6606\n",
      "Epoch 3/36\n",
      "24/24 [==============================] - 1s 22ms/step - loss: 0.5835 - accuracy: 0.7023\n",
      "Epoch 4/36\n",
      "24/24 [==============================] - 1s 25ms/step - loss: 0.5066 - accuracy: 0.7715\n",
      "Epoch 5/36\n",
      "24/24 [==============================] - 1s 24ms/step - loss: 0.4731 - accuracy: 0.7885\n",
      "Epoch 6/36\n",
      "24/24 [==============================] - 1s 22ms/step - loss: 0.4229 - accuracy: 0.8172\n",
      "Epoch 7/36\n",
      "24/24 [==============================] - 1s 22ms/step - loss: 0.3680 - accuracy: 0.8342\n",
      "Epoch 8/36\n",
      "24/24 [==============================] - 1s 22ms/step - loss: 0.3040 - accuracy: 0.8708\n",
      "Epoch 9/36\n",
      "24/24 [==============================] - 1s 22ms/step - loss: 0.2929 - accuracy: 0.8812\n",
      "Epoch 10/36\n",
      "24/24 [==============================] - 1s 22ms/step - loss: 0.2491 - accuracy: 0.9034\n",
      "Epoch 11/36\n",
      "24/24 [==============================] - 1s 22ms/step - loss: 0.2148 - accuracy: 0.9112\n",
      "Epoch 12/36\n",
      "24/24 [==============================] - 1s 22ms/step - loss: 0.1782 - accuracy: 0.9334\n",
      "Epoch 13/36\n",
      "24/24 [==============================] - 1s 22ms/step - loss: 0.1146 - accuracy: 0.9569\n",
      "Epoch 14/36\n",
      "24/24 [==============================] - 1s 22ms/step - loss: 0.0959 - accuracy: 0.9569\n",
      "Epoch 15/36\n",
      "24/24 [==============================] - 1s 25ms/step - loss: 0.1069 - accuracy: 0.9595\n",
      "Epoch 16/36\n",
      "24/24 [==============================] - 1s 22ms/step - loss: 0.0774 - accuracy: 0.9765\n",
      "Epoch 17/36\n",
      "24/24 [==============================] - 1s 22ms/step - loss: 0.0401 - accuracy: 0.9843\n",
      "Epoch 18/36\n",
      "24/24 [==============================] - 1s 24ms/step - loss: 0.0461 - accuracy: 0.9830\n",
      "Epoch 19/36\n",
      "24/24 [==============================] - 1s 22ms/step - loss: 0.0796 - accuracy: 0.9713 0s - loss: 0.1011 - accu\n",
      "Epoch 20/36\n",
      "24/24 [==============================] - 1s 22ms/step - loss: 0.0321 - accuracy: 0.9856\n",
      "Epoch 21/36\n",
      "24/24 [==============================] - 1s 23ms/step - loss: 0.0103 - accuracy: 1.0000\n",
      "Epoch 22/36\n",
      "24/24 [==============================] - 1s 22ms/step - loss: 0.0017 - accuracy: 1.0000\n",
      "Epoch 23/36\n",
      "24/24 [==============================] - 1s 22ms/step - loss: 5.9235e-04 - accuracy: 1.0000\n",
      "Epoch 24/36\n",
      "24/24 [==============================] - 1s 23ms/step - loss: 2.2656e-04 - accuracy: 1.0000\n",
      "Epoch 25/36\n",
      "24/24 [==============================] - 1s 25ms/step - loss: 9.5879e-05 - accuracy: 1.0000\n",
      "Epoch 26/36\n",
      "24/24 [==============================] - 1s 23ms/step - loss: 5.2526e-05 - accuracy: 1.0000\n",
      "Epoch 27/36\n",
      "24/24 [==============================] - 1s 22ms/step - loss: 3.3753e-05 - accuracy: 1.0000\n",
      "Epoch 28/36\n",
      "24/24 [==============================] - 1s 22ms/step - loss: 2.4305e-05 - accuracy: 1.0000\n",
      "Epoch 29/36\n",
      "24/24 [==============================] - 1s 22ms/step - loss: 1.8655e-05 - accuracy: 1.0000\n",
      "Epoch 30/36\n",
      "24/24 [==============================] - 1s 22ms/step - loss: 1.4350e-05 - accuracy: 1.0000\n",
      "Epoch 31/36\n",
      "24/24 [==============================] - 1s 23ms/step - loss: 1.1771e-05 - accuracy: 1.0000\n",
      "Epoch 32/36\n",
      "24/24 [==============================] - 1s 23ms/step - loss: 9.5507e-06 - accuracy: 1.0000\n",
      "Epoch 33/36\n",
      "24/24 [==============================] - 1s 22ms/step - loss: 7.2192e-06 - accuracy: 1.0000\n",
      "Epoch 34/36\n",
      "24/24 [==============================] - 1s 23ms/step - loss: 5.1544e-06 - accuracy: 1.0000\n",
      "Epoch 35/36\n",
      "24/24 [==============================] - 1s 24ms/step - loss: 3.8344e-06 - accuracy: 1.0000\n",
      "Epoch 36/36\n",
      "24/24 [==============================] - 1s 23ms/step - loss: 3.0150e-06 - accuracy: 1.0000\n"
     ]
    },
    {
     "data": {
      "text/plain": [
       "<tensorflow.python.keras.callbacks.History at 0x2a4657da310>"
      ]
     },
     "execution_count": 89,
     "metadata": {},
     "output_type": "execute_result"
    }
   ],
   "source": [
    "# your code here\n",
    "\n",
    "model = tf.keras.models.Sequential()\n",
    "model.add(tf.keras.layers.Flatten())\n",
    "model.add(tf.keras.layers.Dense(900, activation=tf.nn.relu))\n",
    "model.add(tf.keras.layers.Dense(900, activation=tf.nn.relu))\n",
    "model.add(tf.keras.layers.Dense(900, activation=tf.nn.relu))\n",
    "model.add(tf.keras.layers.Dense(900, activation=tf.nn.relu))\n",
    "model.add(tf.keras.layers.Dense(900, activation=tf.nn.softmax))\n",
    "model.compile(optimizer='adam',\n",
    "              loss='sparse_categorical_crossentropy',\n",
    "              metrics=['accuracy'])\n",
    "model.fit(X_train, y_train, epochs=36)"
   ]
  },
  {
   "cell_type": "code",
   "execution_count": 90,
   "metadata": {},
   "outputs": [
    {
     "name": "stdout",
     "output_type": "stream",
     "text": [
      "6/6 [==============================] - 0s 5ms/step - loss: 0.5470 - accuracy: 0.9375\n",
      "0.5470104813575745\n",
      "0.9375\n"
     ]
    }
   ],
   "source": [
    "val_loss, val_acc = model.evaluate(X_test, y_test)\n",
    "print(val_loss)\n",
    "print(val_acc)"
   ]
  },
  {
   "cell_type": "markdown",
   "metadata": {},
   "source": [
    "**Which approach(es) did you find helpful to improve your model performance?**"
   ]
  },
  {
   "cell_type": "code",
   "execution_count": null,
   "metadata": {},
   "outputs": [],
   "source": [
    "# your answer here\n",
    "\n",
    "# I've increased number or layers from 2 to 5, I increased number of epochs from 5 to 35, and for the final improval I increased\n",
    "# number of units to 900. Last step decreases the number of epochs required to get perfect acuracy but doesn't improve the\n",
    "# quality of the model."
   ]
  }
 ],
 "metadata": {
  "kernelspec": {
   "display_name": "Python 3",
   "language": "python",
   "name": "python3"
  },
  "language_info": {
   "codemirror_mode": {
    "name": "ipython",
    "version": 3
   },
   "file_extension": ".py",
   "mimetype": "text/x-python",
   "name": "python",
   "nbconvert_exporter": "python",
   "pygments_lexer": "ipython3",
   "version": "3.8.3"
  }
 },
 "nbformat": 4,
 "nbformat_minor": 2
}
