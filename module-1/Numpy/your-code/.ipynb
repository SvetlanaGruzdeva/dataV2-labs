{
 "cells": [
  {
   "cell_type": "markdown",
   "metadata": {},
   "source": [
    "Write a function insertDash(num)/InsertDash(int num) that will insert dashes ('-') between each two odd numbers in num. \n",
    "For example: if num is 454793 the output should be 4547-9-3. Don't count zero as an odd number.\n",
    "\n",
    "Note that the number will always be non-negative (>= 0)."
   ]
  },
  {
   "cell_type": "code",
   "execution_count": 30,
   "metadata": {},
   "outputs": [
    {
     "name": "stdout",
     "output_type": "stream",
     "text": [
      "4547-9-3\n"
     ]
    }
   ],
   "source": [
    "number = 454793\n",
    "\n",
    "def insert_dash(num):\n",
    "    result = ''\n",
    "    my_list = []\n",
    "    for n in str(num):\n",
    "        my_list.append(n)\n",
    "\n",
    "    for i in range(len(my_list) - 1):\n",
    "        if int(my_list[i])%2 != 0 and int(my_list[i+1])%2 != 0:\n",
    "            my_list[i+1] = '-' + str(my_list[i+1])\n",
    "    result = ''.join(my_list)\n",
    "    return(result)\n",
    "\n",
    "print(insert_dash(number))\n",
    "\n",
    "### How to solve it using numpy?"
   ]
  },
  {
   "cell_type": "markdown",
   "metadata": {},
   "source": [
    "You're playing a game with a friend involving a bag of marbles. In the bag are ten marbles:\n",
    "\n",
    "1 smooth red marble\n",
    "4 bumpy red marbles\n",
    "2 bumpy yellow marbles\n",
    "1 smooth yellow marble\n",
    "1 bumpy green marble\n",
    "1 smooth green marble\n",
    "You can see that the probability of picking a smooth red marble from the bag is 1 / 10 or 0.10 and the probability of picking a bumpy yellow marble is 2 / 10 or 0.20.\n",
    "\n",
    "The game works like this: your friend puts her hand in the bag, chooses a marble (without looking at it) and tells you whether it's bumpy or smooth. Then you have to guess which color it is before she pulls it out and reveals whether you're correct or not.\n",
    "\n",
    "You know that the information about whether the marble is bumpy or smooth changes the probability of what color it is, and you want some help with your guesses.\n",
    "\n",
    "Write a function color_probability() that takes two arguments: a color ('red', 'yellow', or 'green') and a texture ('bumpy' or 'smooth') and returns the probability as a decimal fraction accurate to two places.\n",
    "\n",
    "The probability should be a string and should discard any digits after the 100ths place. For example, 2 / 3 or 0.6666666666666666 would become the string '0.66'. Note this is different from rounding.\n",
    "\n",
    "As a complete example, color_probability('red', 'bumpy') should return the string '0.57'."
   ]
  },
  {
   "cell_type": "code",
   "execution_count": 109,
   "metadata": {},
   "outputs": [
    {
     "data": {
      "text/plain": [
       "'0.33'"
      ]
     },
     "execution_count": 109,
     "metadata": {},
     "output_type": "execute_result"
    }
   ],
   "source": [
    "color = 'red'\n",
    "texture = 'bumpy'\n",
    "\n",
    "def color_probability(color, texture):\n",
    "    import numpy as np\n",
    "\n",
    "    marbles = np.array([[4.0,1.0], [2.0,1.0], [1.0,1.0]]) # How to change type to float? 'astype' doesn't seem to work.\n",
    "\n",
    "    color_dict = {'red': 0, 'yellow': 1, 'green': 2}\n",
    "    texture_dict = {'bumpy': 0, 'smooth': 1}\n",
    "    totals = sum(marbles)\n",
    "\n",
    "    marbles[:,0] *= (1/totals[0])\n",
    "    marbles[:,1] *= (1/totals[1])\n",
    "\n",
    "\n",
    "    result = str(marbles[color_dict[color], texture_dict[texture]])[:4]\n",
    "\n",
    "    return(result)\n",
    "color_probability('green', 'smooth')"
   ]
  },
  {
   "cell_type": "code",
   "execution_count": null,
   "metadata": {},
   "outputs": [],
   "source": []
  }
 ],
 "metadata": {
  "kernelspec": {
   "display_name": "Python 3",
   "language": "python",
   "name": "python3"
  },
  "language_info": {
   "codemirror_mode": {
    "name": "ipython",
    "version": 3
   },
   "file_extension": ".py",
   "mimetype": "text/x-python",
   "name": "python",
   "nbconvert_exporter": "python",
   "pygments_lexer": "ipython3",
   "version": "3.8.3"
  }
 },
 "nbformat": 4,
 "nbformat_minor": 4
}
