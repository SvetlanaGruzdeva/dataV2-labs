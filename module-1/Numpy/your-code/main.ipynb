{
 "cells": [
  {
   "cell_type": "markdown",
   "metadata": {},
   "source": [
    "# Introduction to NumPy\n",
    "\n",
    "\n",
    "#### 1. Import NumPy under the name np."
   ]
  },
  {
   "cell_type": "code",
   "execution_count": 1,
   "metadata": {},
   "outputs": [],
   "source": [
    "# your code here\n",
    "import numpy as np"
   ]
  },
  {
   "cell_type": "markdown",
   "metadata": {},
   "source": [
    "#### 2. Print your NumPy version."
   ]
  },
  {
   "cell_type": "code",
   "execution_count": 2,
   "metadata": {},
   "outputs": [
    {
     "data": {
      "text/plain": [
       "'1.19.2'"
      ]
     },
     "execution_count": 2,
     "metadata": {},
     "output_type": "execute_result"
    }
   ],
   "source": [
    "# your code here\n",
    "np.version.version"
   ]
  },
  {
   "cell_type": "markdown",
   "metadata": {},
   "source": [
    "#### 3. Generate a 2x3x5 3-dimensional array with random values. Assign the array to variable *a*.\n",
    "**Challenge**: there are at least three easy ways that use numpy to generate random arrays. How many ways can you find?"
   ]
  },
  {
   "cell_type": "code",
   "execution_count": 3,
   "metadata": {},
   "outputs": [
    {
     "name": "stdout",
     "output_type": "stream",
     "text": [
      "[[[0.06099631 0.69828728 0.8729253  0.74971691 0.9162324 ]\n",
      "  [0.13354842 0.90379456 0.85858169 0.72792694 0.79191822]\n",
      "  [0.89064847 0.97338695 0.28084119 0.04933401 0.25830648]]\n",
      "\n",
      " [[0.915803   0.95743389 0.20480855 0.25937482 0.73292556]\n",
      "  [0.32880825 0.09263819 0.32770128 0.26079221 0.43000821]\n",
      "  [0.18237069 0.3120574  0.79775776 0.98095463 0.37393761]]]\n"
     ]
    }
   ],
   "source": [
    "# Method 1\n",
    "a = np.random.random((2,3,5))\n",
    "print(a)"
   ]
  },
  {
   "cell_type": "code",
   "execution_count": 4,
   "metadata": {},
   "outputs": [
    {
     "name": "stdout",
     "output_type": "stream",
     "text": [
      "[[[0.96344249 0.43001879 0.46521636 0.72004308 0.34983335]\n",
      "  [0.14622864 0.35427591 0.06896681 0.00375272 0.67409856]\n",
      "  [0.39812903 0.16489658 0.529987   0.74788115 0.07853583]]\n",
      "\n",
      " [[0.35460367 0.15810692 0.9300802  0.79907352 0.32294628]\n",
      "  [0.54945511 0.86715496 0.42762452 0.2618994  0.79592025]\n",
      "  [0.69020535 0.07943121 0.21026792 0.13352356 0.67038229]]]\n"
     ]
    }
   ],
   "source": [
    "# Method 2\n",
    "a = np.random.uniform(0,1,(2,3,5))\n",
    "print(a)"
   ]
  },
  {
   "cell_type": "code",
   "execution_count": 32,
   "metadata": {},
   "outputs": [
    {
     "name": "stdout",
     "output_type": "stream",
     "text": [
      "[[[99 71 98 10 53]\n",
      "  [87 27 89  1 97]\n",
      "  [92  2 52 49 15]]\n",
      "\n",
      " [[97 24 13 13 15]\n",
      "  [ 1 54 53 74 77]\n",
      "  [56  1 62 77 17]]]\n"
     ]
    }
   ],
   "source": [
    "# Method 3\n",
    "from random import random\n",
    "\n",
    "a = np.random.randint(0,101, (2,3,5))\n",
    "print(a)"
   ]
  },
  {
   "cell_type": "markdown",
   "metadata": {},
   "source": [
    "#### 4. Print *a*.\n"
   ]
  },
  {
   "cell_type": "code",
   "execution_count": 6,
   "metadata": {},
   "outputs": [
    {
     "name": "stdout",
     "output_type": "stream",
     "text": [
      "[[[0.92272623 0.41774762 0.40161261 0.04922266 0.43094794]\n",
      "  [0.98198193 0.5830641  0.95784867 0.06073866 0.79745993]\n",
      "  [0.74058518 0.24141192 0.02727748 0.97752878 0.63595715]]\n",
      "\n",
      " [[0.72296745 0.8905472  0.59562659 0.48627427 0.95848058]\n",
      "  [0.6851408  0.4990804  0.06107971 0.71000119 0.08648818]\n",
      "  [0.19013572 0.08378064 0.98697333 0.99061416 0.76110947]]]\n"
     ]
    }
   ],
   "source": [
    "# your code here\n",
    "print(a)"
   ]
  },
  {
   "cell_type": "markdown",
   "metadata": {},
   "source": [
    "#### 5. Create a 5x2x3 3-dimensional array with all values equaling 1. Assign the array to variable *b*."
   ]
  },
  {
   "cell_type": "code",
   "execution_count": 7,
   "metadata": {},
   "outputs": [],
   "source": [
    "# your code here\n",
    "b = np.full((5,2,3), 1)"
   ]
  },
  {
   "cell_type": "markdown",
   "metadata": {},
   "source": [
    "#### 6. Print *b*.\n"
   ]
  },
  {
   "cell_type": "code",
   "execution_count": 8,
   "metadata": {},
   "outputs": [
    {
     "name": "stdout",
     "output_type": "stream",
     "text": [
      "[[[1 1 1]\n",
      "  [1 1 1]]\n",
      "\n",
      " [[1 1 1]\n",
      "  [1 1 1]]\n",
      "\n",
      " [[1 1 1]\n",
      "  [1 1 1]]\n",
      "\n",
      " [[1 1 1]\n",
      "  [1 1 1]]\n",
      "\n",
      " [[1 1 1]\n",
      "  [1 1 1]]]\n"
     ]
    }
   ],
   "source": [
    "# your code here\n",
    "print(b)"
   ]
  },
  {
   "cell_type": "markdown",
   "metadata": {},
   "source": [
    "#### 7. Do *a* and *b* have the same size? How do you prove that in Python code?"
   ]
  },
  {
   "cell_type": "code",
   "execution_count": 9,
   "metadata": {},
   "outputs": [
    {
     "name": "stdout",
     "output_type": "stream",
     "text": [
      "30\n",
      "30\n",
      "True\n"
     ]
    }
   ],
   "source": [
    "# your code here\n",
    "print(a.size)\n",
    "print(b.size)\n",
    "print(a.size == b.size)"
   ]
  },
  {
   "cell_type": "markdown",
   "metadata": {},
   "source": [
    "#### 8. Are you able to add *a* and *b*? Why or why not?\n"
   ]
  },
  {
   "cell_type": "code",
   "execution_count": 10,
   "metadata": {},
   "outputs": [
    {
     "ename": "ValueError",
     "evalue": "operands could not be broadcast together with shapes (2,3,5) (5,2,3) ",
     "output_type": "error",
     "traceback": [
      "\u001b[1;31m---------------------------------------------------------------------------\u001b[0m",
      "\u001b[1;31mValueError\u001b[0m                                Traceback (most recent call last)",
      "\u001b[1;32m<ipython-input-10-eed82963c5e2>\u001b[0m in \u001b[0;36m<module>\u001b[1;34m\u001b[0m\n\u001b[0;32m      1\u001b[0m \u001b[1;31m# your answer here\u001b[0m\u001b[1;33m\u001b[0m\u001b[1;33m\u001b[0m\u001b[1;33m\u001b[0m\u001b[0m\n\u001b[1;32m----> 2\u001b[1;33m \u001b[0mprint\u001b[0m\u001b[1;33m(\u001b[0m\u001b[0mnp\u001b[0m\u001b[1;33m.\u001b[0m\u001b[0madd\u001b[0m\u001b[1;33m(\u001b[0m\u001b[0ma\u001b[0m\u001b[1;33m,\u001b[0m \u001b[0mb\u001b[0m\u001b[1;33m)\u001b[0m\u001b[1;33m)\u001b[0m\u001b[1;33m\u001b[0m\u001b[1;33m\u001b[0m\u001b[0m\n\u001b[0m\u001b[0;32m      3\u001b[0m \u001b[1;33m\u001b[0m\u001b[0m\n\u001b[0;32m      4\u001b[0m '''\n\u001b[0;32m      5\u001b[0m \u001b[0mIt\u001b[0m\u001b[0;31m'\u001b[0m\u001b[0ms\u001b[0m \u001b[1;32mnot\u001b[0m \u001b[0mpossible\u001b[0m \u001b[0mbecause\u001b[0m \u001b[0marrays\u001b[0m \u001b[0mhave\u001b[0m \u001b[0mdifferent\u001b[0m \u001b[0mshapes\u001b[0m\u001b[1;33m.\u001b[0m\u001b[1;33m\u001b[0m\u001b[1;33m\u001b[0m\u001b[0m\n",
      "\u001b[1;31mValueError\u001b[0m: operands could not be broadcast together with shapes (2,3,5) (5,2,3) "
     ]
    }
   ],
   "source": [
    "# your answer here\n",
    "print(np.add(a, b))\n",
    "\n",
    "'''\n",
    "It's not possible because arrays have different shapes.\n",
    "'''"
   ]
  },
  {
   "cell_type": "markdown",
   "metadata": {},
   "source": [
    "#### 9. Transpose *b* so that it has the same structure of *a* (i.e. become a 2x3x5 array). Assign the transposed array to variable *c*."
   ]
  },
  {
   "cell_type": "code",
   "execution_count": 11,
   "metadata": {},
   "outputs": [
    {
     "name": "stdout",
     "output_type": "stream",
     "text": [
      "[[[1 1 1 1 1]\n",
      "  [1 1 1 1 1]\n",
      "  [1 1 1 1 1]]\n",
      "\n",
      " [[1 1 1 1 1]\n",
      "  [1 1 1 1 1]\n",
      "  [1 1 1 1 1]]]\n"
     ]
    }
   ],
   "source": [
    "# your code here\n",
    "c = b.transpose(1, 2, 0)\n",
    "print(c)"
   ]
  },
  {
   "cell_type": "markdown",
   "metadata": {},
   "source": [
    "#### 10. Try to add *a* and *c*. Now it should work. Assign the sum to variable *d*. But why does it work now?"
   ]
  },
  {
   "cell_type": "code",
   "execution_count": 12,
   "metadata": {},
   "outputs": [
    {
     "name": "stdout",
     "output_type": "stream",
     "text": [
      "[[[1.92272623 1.41774762 1.40161261 1.04922266 1.43094794]\n",
      "  [1.98198193 1.5830641  1.95784867 1.06073866 1.79745993]\n",
      "  [1.74058518 1.24141192 1.02727748 1.97752878 1.63595715]]\n",
      "\n",
      " [[1.72296745 1.8905472  1.59562659 1.48627427 1.95848058]\n",
      "  [1.6851408  1.4990804  1.06107971 1.71000119 1.08648818]\n",
      "  [1.19013572 1.08378064 1.98697333 1.99061416 1.76110947]]]\n"
     ]
    },
    {
     "data": {
      "text/plain": [
       "'\\nThis works because arrays a & c have the same shape.\\n'"
      ]
     },
     "execution_count": 12,
     "metadata": {},
     "output_type": "execute_result"
    }
   ],
   "source": [
    "# your code/answer here\n",
    "d = np.add(a, c)\n",
    "print(d)\n",
    "\n",
    "'''\n",
    "This works because arrays a & c have the same shape.\n",
    "'''"
   ]
  },
  {
   "cell_type": "markdown",
   "metadata": {},
   "source": [
    "#### 11. Print *a* and *d*. Notice the difference and relation of the two array in terms of the values? Explain."
   ]
  },
  {
   "cell_type": "code",
   "execution_count": 13,
   "metadata": {},
   "outputs": [
    {
     "name": "stdout",
     "output_type": "stream",
     "text": [
      "[[[0.92272623 0.41774762 0.40161261 0.04922266 0.43094794]\n",
      "  [0.98198193 0.5830641  0.95784867 0.06073866 0.79745993]\n",
      "  [0.74058518 0.24141192 0.02727748 0.97752878 0.63595715]]\n",
      "\n",
      " [[0.72296745 0.8905472  0.59562659 0.48627427 0.95848058]\n",
      "  [0.6851408  0.4990804  0.06107971 0.71000119 0.08648818]\n",
      "  [0.19013572 0.08378064 0.98697333 0.99061416 0.76110947]]]\n",
      "************************************************************\n",
      "[[[1.92272623 1.41774762 1.40161261 1.04922266 1.43094794]\n",
      "  [1.98198193 1.5830641  1.95784867 1.06073866 1.79745993]\n",
      "  [1.74058518 1.24141192 1.02727748 1.97752878 1.63595715]]\n",
      "\n",
      " [[1.72296745 1.8905472  1.59562659 1.48627427 1.95848058]\n",
      "  [1.6851408  1.4990804  1.06107971 1.71000119 1.08648818]\n",
      "  [1.19013572 1.08378064 1.98697333 1.99061416 1.76110947]]]\n"
     ]
    },
    {
     "data": {
      "text/plain": [
       "\"\\nEach value in array d is more than each value in array a situated in the same position by 1, because we added array c (which\\ncontains from 1's) to create array d.\\n\""
      ]
     },
     "execution_count": 13,
     "metadata": {},
     "output_type": "execute_result"
    }
   ],
   "source": [
    "# your code/answer here\n",
    "\n",
    "print(a)\n",
    "print('*'*60)\n",
    "print(d)\n",
    "\n",
    "'''\n",
    "Each value in array d is more than each value in array a situated in the same position by 1, because we added array c (which\n",
    "contains from 1's) to create array d.\n",
    "'''"
   ]
  },
  {
   "cell_type": "markdown",
   "metadata": {},
   "source": [
    "#### 12. Multiply *a* and *c*. Assign the result to *e*."
   ]
  },
  {
   "cell_type": "code",
   "execution_count": 14,
   "metadata": {},
   "outputs": [
    {
     "name": "stdout",
     "output_type": "stream",
     "text": [
      "[[[0.92272623 0.41774762 0.40161261 0.04922266 0.43094794]\n",
      "  [0.98198193 0.5830641  0.95784867 0.06073866 0.79745993]\n",
      "  [0.74058518 0.24141192 0.02727748 0.97752878 0.63595715]]\n",
      "\n",
      " [[0.72296745 0.8905472  0.59562659 0.48627427 0.95848058]\n",
      "  [0.6851408  0.4990804  0.06107971 0.71000119 0.08648818]\n",
      "  [0.19013572 0.08378064 0.98697333 0.99061416 0.76110947]]]\n"
     ]
    }
   ],
   "source": [
    "# your code here\n",
    "e = np.multiply(a, c)\n",
    "print(e)"
   ]
  },
  {
   "cell_type": "markdown",
   "metadata": {},
   "source": [
    "#### 13. Does *e* equal to *a*? Why or why not?\n"
   ]
  },
  {
   "cell_type": "code",
   "execution_count": 15,
   "metadata": {},
   "outputs": [
    {
     "name": "stdout",
     "output_type": "stream",
     "text": [
      "[[[ True  True  True  True  True]\n",
      "  [ True  True  True  True  True]\n",
      "  [ True  True  True  True  True]]\n",
      "\n",
      " [[ True  True  True  True  True]\n",
      "  [ True  True  True  True  True]\n",
      "  [ True  True  True  True  True]]]\n"
     ]
    },
    {
     "data": {
      "text/plain": [
       "\"\\nArrays a and e are identical because multiplication to 1 doesn't change the value.\\n\""
      ]
     },
     "execution_count": 15,
     "metadata": {},
     "output_type": "execute_result"
    }
   ],
   "source": [
    "# your code/answer here\n",
    "\n",
    "print(a == e)\n",
    "\n",
    "'''\n",
    "Arrays a and e are identical because multiplication to 1 doesn't change the value.\n",
    "'''"
   ]
  },
  {
   "cell_type": "markdown",
   "metadata": {},
   "source": [
    "#### 14. Identify the max, min, and mean values in *d*. Assign those values to variables *d_max*, *d_min* and *d_mean*."
   ]
  },
  {
   "cell_type": "code",
   "execution_count": 16,
   "metadata": {},
   "outputs": [
    {
     "name": "stdout",
     "output_type": "stream",
     "text": [
      "1.9906141633277958 1.027277482376572 1.5644803524341906\n"
     ]
    }
   ],
   "source": [
    "# your code here\n",
    "d_max = np.max(d)\n",
    "d_min = np.min(d)\n",
    "d_mean = np.mean(d)\n",
    "print(d_max, d_min, d_mean)"
   ]
  },
  {
   "cell_type": "markdown",
   "metadata": {},
   "source": [
    "#### 15. Now we want to label the values in *d*. First create an empty array *f* with the same shape (i.e. 2x3x5) as *d* using `np.empty`.\n"
   ]
  },
  {
   "cell_type": "code",
   "execution_count": 17,
   "metadata": {
    "scrolled": true
   },
   "outputs": [
    {
     "name": "stdout",
     "output_type": "stream",
     "text": [
      "[[[0.92272623 0.41774762 0.40161261 0.04922266 0.43094794]\n",
      "  [0.98198193 0.5830641  0.95784867 0.06073866 0.79745993]\n",
      "  [0.74058518 0.24141192 0.02727748 0.97752878 0.63595715]]\n",
      "\n",
      " [[0.72296745 0.8905472  0.59562659 0.48627427 0.95848058]\n",
      "  [0.6851408  0.4990804  0.06107971 0.71000119 0.08648818]\n",
      "  [0.19013572 0.08378064 0.98697333 0.99061416 0.76110947]]]\n"
     ]
    }
   ],
   "source": [
    "# your code here\n",
    "f = np.empty((2, 3, 5), float)\n",
    "print(f)"
   ]
  },
  {
   "cell_type": "markdown",
   "metadata": {},
   "source": [
    "#### 16. Populate the values in *f*. \n",
    "\n",
    "For each value in *d*, if it's larger than *d_min* but smaller than *d_mean*, assign 25 to the corresponding value in *f*. If a value in *d* is larger than *d_mean* but smaller than *d_max*, assign 75 to the corresponding value in *f*. If a value equals to *d_mean*, assign 50 to the corresponding value in *f*. Assign 0 to the corresponding value(s) in *f* for *d_min* in *d*. Assign 100 to the corresponding value(s) in *f* for *d_max* in *d*. In the end, f should have only the following values: 0, 25, 50, 75, and 100.\n",
    "\n",
    "**Note**: you don't have to use Numpy in this question."
   ]
  },
  {
   "cell_type": "code",
   "execution_count": 24,
   "metadata": {},
   "outputs": [],
   "source": [
    "'''\n",
    "**For each value in d, if it's larger than d_min but smaller than d_mean, assign 25 to the corresponding value in f.\n",
    "**If a value in d is larger than d_mean but smaller than d_max, assign 75 to the corresponding value in f.\n",
    "**If a value equals to d_mean, assign 50 to the corresponding value in f.\n",
    "**Assign 0 to the corresponding value(s) in f for d_min in d.\n",
    "**Assign 100 to the corresponding value(s) in f for d_max in d.\n",
    "'''\n",
    "\n",
    "# your code here\n",
    "\n",
    "'''\n",
    "Expresions included in this comment doesn't solve the task but it's a nice way to apply simple condition to each element in \n",
    "array and I would like to keep it as a tip for the future.\n",
    "f[d == d_max] = 100\n",
    "f[d < d_mean] = 5\n",
    "'''\n",
    "\n",
    "for x in range(d.shape[0]):\n",
    "    for y in range(d.shape[1]):\n",
    "        for z in range(d.shape[2]):\n",
    "            if d[x][y][z] == d_max:\n",
    "                f[x][y][z] = 100\n",
    "            if d[x][y][z] == d_min:\n",
    "                f[x][y][z] = 0\n",
    "            if d[x][y][z] == d_mean:\n",
    "                f[x][y][z] = 50\n",
    "            if d[x][y][z] > d_min and d[x][y][z] < d_mean:\n",
    "                f[x][y][z] = 25\n",
    "            if d[x][y][z] < d_max and d[x][y][z] > d_mean:\n",
    "                f[x][y][z] = 75"
   ]
  },
  {
   "cell_type": "markdown",
   "metadata": {},
   "source": [
    "#### 17. Print *d* and *f*. Do you have your expected *f*?\n",
    "For instance, if your *d* is:\n",
    "```python\n",
    "[[[1.85836099, 1.67064465, 1.62576044, 1.40243961, 1.88454931],\n",
    "[1.75354326, 1.69403643, 1.36729252, 1.61415071, 1.12104981],\n",
    "[1.72201435, 1.1862918 , 1.87078449, 1.7726778 , 1.88180042]],\n",
    "[[1.44747908, 1.31673383, 1.02000951, 1.52218947, 1.97066381],\n",
    "[1.79129243, 1.74983003, 1.96028037, 1.85166831, 1.65450881],\n",
    "[1.18068344, 1.9587381 , 1.00656599, 1.93402165, 1.73514584]]]\n",
    "```\n",
    "Your *f* should be:\n",
    "```python\n",
    "[[[ 75.,  75.,  75.,  25.,  75.],\n",
    "[ 75.,  75.,  25.,  25.,  25.],\n",
    "[ 75.,  25.,  75.,  75.,  75.]],\n",
    "[[ 25.,  25.,  25.,  25., 100.],\n",
    "[ 75.,  75.,  75.,  75.,  75.],\n",
    "[ 25.,  75.,   0.,  75.,  75.]]]\n",
    "```"
   ]
  },
  {
   "cell_type": "code",
   "execution_count": 25,
   "metadata": {},
   "outputs": [
    {
     "name": "stdout",
     "output_type": "stream",
     "text": [
      "[[[1.92272623 1.41774762 1.40161261 1.04922266 1.43094794]\n",
      "  [1.98198193 1.5830641  1.95784867 1.06073866 1.79745993]\n",
      "  [1.74058518 1.24141192 1.02727748 1.97752878 1.63595715]]\n",
      "\n",
      " [[1.72296745 1.8905472  1.59562659 1.48627427 1.95848058]\n",
      "  [1.6851408  1.4990804  1.06107971 1.71000119 1.08648818]\n",
      "  [1.19013572 1.08378064 1.98697333 1.99061416 1.76110947]]]\n",
      "************************************************************\n",
      "[[[75 25 25 25 25]\n",
      "  [75 75 75 25 75]\n",
      "  [75 25 0 75 75]]\n",
      "\n",
      " [[75 75 75 25 75]\n",
      "  [75 25 25 75 25]\n",
      "  [25 25 75 100 75]]]\n"
     ]
    }
   ],
   "source": [
    "# your code here\n",
    "print(d)\n",
    "print('*'*60)\n",
    "print(f)"
   ]
  },
  {
   "cell_type": "markdown",
   "metadata": {},
   "source": [
    "#### 18. Bonus question: instead of using numbers (i.e. 0, 25, 50, 75, and 100), use string values  (\"A\", \"B\", \"C\", \"D\", and \"E\") to label the array elements. For the example above, the expected result is:\n",
    "\n",
    "```python\n",
    "[[[ 'D',  'D',  'D',  'B',  'D'],\n",
    "[ 'D',  'D',  'B',  'B',  'B'],\n",
    "[ 'D',  'B',  'D',  'D',  'D']],\n",
    "[[ 'B',  'B',  'B',  'B',  'E'],\n",
    "[ 'D',  'D',  'D',  'D',  'D'],\n",
    "[ 'B',  'D',   'A',  'D', 'D']]]\n",
    "```\n",
    "**Note**: you don't have to use Numpy in this question."
   ]
  },
  {
   "cell_type": "code",
   "execution_count": 26,
   "metadata": {},
   "outputs": [
    {
     "name": "stdout",
     "output_type": "stream",
     "text": [
      "d_max is 1.9906141633277958. d_min is 1.027277482376572. d_mean is 1.5644803524341906.\n",
      "************************************************************\n",
      "[[['D' 'B' 'B' 'B' 'B']\n",
      "  ['D' 'D' 'D' 'B' 'D']\n",
      "  ['D' 'B' 'A' 'D' 'D']]\n",
      "\n",
      " [['D' 'D' 'D' 'B' 'D']\n",
      "  ['D' 'B' 'B' 'D' 'B']\n",
      "  ['B' 'B' 'D' 'E' 'D']]]\n",
      "************************************************************\n",
      "[[[1.92272623 1.41774762 1.40161261 1.04922266 1.43094794]\n",
      "  [1.98198193 1.5830641  1.95784867 1.06073866 1.79745993]\n",
      "  [1.74058518 1.24141192 1.02727748 1.97752878 1.63595715]]\n",
      "\n",
      " [[1.72296745 1.8905472  1.59562659 1.48627427 1.95848058]\n",
      "  [1.6851408  1.4990804  1.06107971 1.71000119 1.08648818]\n",
      "  [1.19013572 1.08378064 1.98697333 1.99061416 1.76110947]]]\n"
     ]
    }
   ],
   "source": [
    "# your code here\n",
    "\n",
    "f = f.astype('object') \n",
    "\n",
    "for x in range(d.shape[0]):\n",
    "    for y in range(d.shape[1]):\n",
    "        for z in range(d.shape[2]):\n",
    "            if d[x][y][z] == d_max:\n",
    "                f[x][y][z] = 'E'\n",
    "            if d[x][y][z] == d_min:\n",
    "                f[x][y][z] = 'A'\n",
    "            if d[x][y][z] == d_mean:\n",
    "                f[x][y][z] = 'C'\n",
    "            if d[x][y][z] > d_min and d[x][y][z] < d_mean:\n",
    "                f[x][y][z] = 'B'\n",
    "            if d[x][y][z] < d_max and d[x][y][z] > d_mean:\n",
    "                f[x][y][z] = 'D'\n",
    "\n",
    "                \n",
    "# Debugging:\n",
    "print(f\"d_max is {d_max}. d_min is {d_min}. d_mean is {d_mean}.\")\n",
    "print('*'*60)\n",
    "print(f)\n",
    "print('*'*60)\n",
    "print(d)"
   ]
  },
  {
   "cell_type": "code",
   "execution_count": null,
   "metadata": {},
   "outputs": [],
   "source": []
  }
 ],
 "metadata": {
  "kernelspec": {
   "display_name": "Python 3",
   "language": "python",
   "name": "python3"
  },
  "language_info": {
   "codemirror_mode": {
    "name": "ipython",
    "version": 3
   },
   "file_extension": ".py",
   "mimetype": "text/x-python",
   "name": "python",
   "nbconvert_exporter": "python",
   "pygments_lexer": "ipython3",
   "version": "3.8.3"
  }
 },
 "nbformat": 4,
 "nbformat_minor": 2
}
