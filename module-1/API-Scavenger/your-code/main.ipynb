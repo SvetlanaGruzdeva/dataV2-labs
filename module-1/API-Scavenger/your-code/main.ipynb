{
 "cells": [
  {
   "cell_type": "markdown",
   "metadata": {},
   "source": [
    "# API Scavenger Game\n",
    "\n",
    "## Challenge 1: Fork Languages\n",
    "\n",
    "You will find out how many programming languages are used among all the forks created from the main lab repo of your bootcamp."
   ]
  },
  {
   "cell_type": "code",
   "execution_count": 131,
   "metadata": {},
   "outputs": [],
   "source": [
    "# import libraries here\n",
    "import json\n",
    "import requests\n",
    "import pandas as pd\n",
    "import numpy as np\n",
    "import base64"
   ]
  },
  {
   "cell_type": "code",
   "execution_count": 2,
   "metadata": {},
   "outputs": [],
   "source": [
    "username = 'SvetlanaGruzdeva'\n",
    "token = '5fa5888d2bb91f87183edcd0e4efcce08b3d44d3'\n",
    "base_url = 'https://api.github.com'\n",
    "owner = 'jmolendijk'\n",
    "repo = 'dataV2-labs'"
   ]
  },
  {
   "cell_type": "markdown",
   "metadata": {},
   "source": [
    "Assuming the main lab repo is ironhack-datalabs/madrid-oct-2018, you will:\n",
    "\n",
    "#### 1. Obtain the full list of forks created from the main lab repo via Github API."
   ]
  },
  {
   "cell_type": "markdown",
   "metadata": {},
   "source": [
    "To list forks, we can use the GET method. As explained in the GitHub API documentation, we need to make the request to: GET /repos/:owner/:repo/forks."
   ]
  },
  {
   "cell_type": "code",
   "execution_count": 3,
   "metadata": {
    "scrolled": true
   },
   "outputs": [
    {
     "data": {
      "text/plain": [
       "['id',\n",
       " 'node_id',\n",
       " 'name',\n",
       " 'full_name',\n",
       " 'private',\n",
       " 'owner',\n",
       " 'html_url',\n",
       " 'description',\n",
       " 'fork',\n",
       " 'url',\n",
       " 'forks_url',\n",
       " 'keys_url',\n",
       " 'collaborators_url',\n",
       " 'teams_url',\n",
       " 'hooks_url',\n",
       " 'issue_events_url',\n",
       " 'events_url',\n",
       " 'assignees_url',\n",
       " 'branches_url',\n",
       " 'tags_url',\n",
       " 'blobs_url',\n",
       " 'git_tags_url',\n",
       " 'git_refs_url',\n",
       " 'trees_url',\n",
       " 'statuses_url',\n",
       " 'languages_url',\n",
       " 'stargazers_url',\n",
       " 'contributors_url',\n",
       " 'subscribers_url',\n",
       " 'subscription_url',\n",
       " 'commits_url',\n",
       " 'git_commits_url',\n",
       " 'comments_url',\n",
       " 'issue_comment_url',\n",
       " 'contents_url',\n",
       " 'compare_url',\n",
       " 'merges_url',\n",
       " 'archive_url',\n",
       " 'downloads_url',\n",
       " 'issues_url',\n",
       " 'pulls_url',\n",
       " 'milestones_url',\n",
       " 'notifications_url',\n",
       " 'labels_url',\n",
       " 'releases_url',\n",
       " 'deployments_url',\n",
       " 'created_at',\n",
       " 'updated_at',\n",
       " 'pushed_at',\n",
       " 'git_url',\n",
       " 'ssh_url',\n",
       " 'clone_url',\n",
       " 'svn_url',\n",
       " 'homepage',\n",
       " 'size',\n",
       " 'stargazers_count',\n",
       " 'watchers_count',\n",
       " 'language',\n",
       " 'has_issues',\n",
       " 'has_projects',\n",
       " 'has_downloads',\n",
       " 'has_wiki',\n",
       " 'has_pages',\n",
       " 'forks_count',\n",
       " 'mirror_url',\n",
       " 'archived',\n",
       " 'disabled',\n",
       " 'open_issues_count',\n",
       " 'license',\n",
       " 'forks',\n",
       " 'open_issues',\n",
       " 'watchers',\n",
       " 'default_branch',\n",
       " 'permissions']"
      ]
     },
     "execution_count": 3,
     "metadata": {},
     "output_type": "execute_result"
    }
   ],
   "source": [
    "# your code here\n",
    "response = requests.get(f'{base_url}/repos/{owner}/{repo}/forks', auth=(username,token))\n",
    "data = pd.DataFrame(response.json())\n",
    "col = list(data.columns.values)\n",
    "col"
   ]
  },
  {
   "cell_type": "markdown",
   "metadata": {},
   "source": [
    "#### 2. Loop the JSON response to find out the language attribute of each fork. Use an array to store the language attributes of each fork.\n",
    "Hint: Each language should appear only once in your array.\n",
    "Print the language array. It should be something like: [\"Python\", \"Jupyter Notebook\", \"HTML\"]"
   ]
  },
  {
   "cell_type": "code",
   "execution_count": 4,
   "metadata": {},
   "outputs": [
    {
     "data": {
      "text/plain": [
       "0     Jupyter Notebook\n",
       "1     Jupyter Notebook\n",
       "2     Jupyter Notebook\n",
       "3     Jupyter Notebook\n",
       "4     Jupyter Notebook\n",
       "5     Jupyter Notebook\n",
       "6     Jupyter Notebook\n",
       "7     Jupyter Notebook\n",
       "8     Jupyter Notebook\n",
       "9     Jupyter Notebook\n",
       "10    Jupyter Notebook\n",
       "11    Jupyter Notebook\n",
       "12    Jupyter Notebook\n",
       "Name: language, dtype: object"
      ]
     },
     "execution_count": 4,
     "metadata": {},
     "output_type": "execute_result"
    }
   ],
   "source": [
    "data['language']"
   ]
  },
  {
   "cell_type": "code",
   "execution_count": 5,
   "metadata": {},
   "outputs": [
    {
     "data": {
      "text/plain": [
       "array(['Jupyter Notebook'], dtype=object)"
      ]
     },
     "execution_count": 5,
     "metadata": {},
     "output_type": "execute_result"
    }
   ],
   "source": [
    "# your code here\n",
    "lang = data['language'].unique()\n",
    "lang"
   ]
  },
  {
   "cell_type": "markdown",
   "metadata": {},
   "source": [
    "## Challenge 2: Count Commits\n",
    "Count how many commits were made in the month of october of 2018.\n",
    "#### 1. Obtain all the commits made in October 2018 via API, which is a JSON array that contains multiple commit objects."
   ]
  },
  {
   "cell_type": "code",
   "execution_count": 6,
   "metadata": {
    "scrolled": true
   },
   "outputs": [
    {
     "data": {
      "text/html": [
       "<div>\n",
       "<style scoped>\n",
       "    .dataframe tbody tr th:only-of-type {\n",
       "        vertical-align: middle;\n",
       "    }\n",
       "\n",
       "    .dataframe tbody tr th {\n",
       "        vertical-align: top;\n",
       "    }\n",
       "\n",
       "    .dataframe thead th {\n",
       "        text-align: right;\n",
       "    }\n",
       "</style>\n",
       "<table border=\"1\" class=\"dataframe\">\n",
       "  <thead>\n",
       "    <tr style=\"text-align: right;\">\n",
       "      <th></th>\n",
       "      <th>sha</th>\n",
       "      <th>node_id</th>\n",
       "      <th>commit</th>\n",
       "      <th>url</th>\n",
       "      <th>html_url</th>\n",
       "      <th>comments_url</th>\n",
       "      <th>author</th>\n",
       "      <th>committer</th>\n",
       "      <th>parents</th>\n",
       "    </tr>\n",
       "  </thead>\n",
       "  <tbody>\n",
       "    <tr>\n",
       "      <th>0</th>\n",
       "      <td>80189cce124398781df93e115bf60755e3ed4d7b</td>\n",
       "      <td>MDY6Q29tbWl0MjgyNjY1MjcyOjgwMTg5Y2NlMTI0Mzk4Nz...</td>\n",
       "      <td>{'author': {'name': 'Jan Molendijk', 'email': ...</td>\n",
       "      <td>https://api.github.com/repos/jmolendijk/dataV2...</td>\n",
       "      <td>https://github.com/jmolendijk/dataV2-labs/comm...</td>\n",
       "      <td>https://api.github.com/repos/jmolendijk/dataV2...</td>\n",
       "      <td>{'login': 'jmolendijk', 'id': 54313084, 'node_...</td>\n",
       "      <td>{'login': 'jmolendijk', 'id': 54313084, 'node_...</td>\n",
       "      <td>[{'sha': '820a60e936eb06c25271744ac773d4179950...</td>\n",
       "    </tr>\n",
       "    <tr>\n",
       "      <th>1</th>\n",
       "      <td>820a60e936eb06c25271744ac773d41799501388</td>\n",
       "      <td>MDY6Q29tbWl0MjgyNjY1MjcyOjgyMGE2MGU5MzZlYjA2Yz...</td>\n",
       "      <td>{'author': {'name': 'jmolendijk', 'email': '54...</td>\n",
       "      <td>https://api.github.com/repos/jmolendijk/dataV2...</td>\n",
       "      <td>https://github.com/jmolendijk/dataV2-labs/comm...</td>\n",
       "      <td>https://api.github.com/repos/jmolendijk/dataV2...</td>\n",
       "      <td>{'login': 'jmolendijk', 'id': 54313084, 'node_...</td>\n",
       "      <td>{'login': 'web-flow', 'id': 19864447, 'node_id...</td>\n",
       "      <td>[]</td>\n",
       "    </tr>\n",
       "  </tbody>\n",
       "</table>\n",
       "</div>"
      ],
      "text/plain": [
       "                                        sha  \\\n",
       "0  80189cce124398781df93e115bf60755e3ed4d7b   \n",
       "1  820a60e936eb06c25271744ac773d41799501388   \n",
       "\n",
       "                                             node_id  \\\n",
       "0  MDY6Q29tbWl0MjgyNjY1MjcyOjgwMTg5Y2NlMTI0Mzk4Nz...   \n",
       "1  MDY6Q29tbWl0MjgyNjY1MjcyOjgyMGE2MGU5MzZlYjA2Yz...   \n",
       "\n",
       "                                              commit  \\\n",
       "0  {'author': {'name': 'Jan Molendijk', 'email': ...   \n",
       "1  {'author': {'name': 'jmolendijk', 'email': '54...   \n",
       "\n",
       "                                                 url  \\\n",
       "0  https://api.github.com/repos/jmolendijk/dataV2...   \n",
       "1  https://api.github.com/repos/jmolendijk/dataV2...   \n",
       "\n",
       "                                            html_url  \\\n",
       "0  https://github.com/jmolendijk/dataV2-labs/comm...   \n",
       "1  https://github.com/jmolendijk/dataV2-labs/comm...   \n",
       "\n",
       "                                        comments_url  \\\n",
       "0  https://api.github.com/repos/jmolendijk/dataV2...   \n",
       "1  https://api.github.com/repos/jmolendijk/dataV2...   \n",
       "\n",
       "                                              author  \\\n",
       "0  {'login': 'jmolendijk', 'id': 54313084, 'node_...   \n",
       "1  {'login': 'jmolendijk', 'id': 54313084, 'node_...   \n",
       "\n",
       "                                           committer  \\\n",
       "0  {'login': 'jmolendijk', 'id': 54313084, 'node_...   \n",
       "1  {'login': 'web-flow', 'id': 19864447, 'node_id...   \n",
       "\n",
       "                                             parents  \n",
       "0  [{'sha': '820a60e936eb06c25271744ac773d4179950...  \n",
       "1                                                 []  "
      ]
     },
     "execution_count": 6,
     "metadata": {},
     "output_type": "execute_result"
    }
   ],
   "source": [
    "# your code here\n",
    "response = requests.get(f'{base_url}/repos/{owner}/{repo}/commits?since=2020-07-01T00:00:00Z&until=2020-07-31T00:00:00Z', auth=(username,token))\n",
    "data = pd.DataFrame(response.json())\n",
    "col = list(data.columns.values)\n",
    "data['commit'][0]['author']['date']\n",
    "data"
   ]
  },
  {
   "cell_type": "markdown",
   "metadata": {},
   "source": [
    "#### 2. Count how many commit objects are contained in the array."
   ]
  },
  {
   "cell_type": "code",
   "execution_count": 7,
   "metadata": {},
   "outputs": [
    {
     "data": {
      "text/html": [
       "<div>\n",
       "<style scoped>\n",
       "    .dataframe tbody tr th:only-of-type {\n",
       "        vertical-align: middle;\n",
       "    }\n",
       "\n",
       "    .dataframe tbody tr th {\n",
       "        vertical-align: top;\n",
       "    }\n",
       "\n",
       "    .dataframe thead th {\n",
       "        text-align: right;\n",
       "    }\n",
       "</style>\n",
       "<table border=\"1\" class=\"dataframe\">\n",
       "  <thead>\n",
       "    <tr style=\"text-align: right;\">\n",
       "      <th></th>\n",
       "      <th>sha</th>\n",
       "      <th>node_id</th>\n",
       "      <th>commit</th>\n",
       "      <th>url</th>\n",
       "      <th>html_url</th>\n",
       "      <th>comments_url</th>\n",
       "      <th>author</th>\n",
       "      <th>committer</th>\n",
       "      <th>parents</th>\n",
       "    </tr>\n",
       "  </thead>\n",
       "  <tbody>\n",
       "    <tr>\n",
       "      <th>0</th>\n",
       "      <td>732d41f99c3460826fc321566ca79cb2f8bfb2b3</td>\n",
       "      <td>MDY6Q29tbWl0MjgyNjY1MjcyOjczMmQ0MWY5OWMzNDYwOD...</td>\n",
       "      <td>{'author': {'name': 'Jan Molendijk', 'email': ...</td>\n",
       "      <td>https://api.github.com/repos/jmolendijk/dataV2...</td>\n",
       "      <td>https://github.com/jmolendijk/dataV2-labs/comm...</td>\n",
       "      <td>https://api.github.com/repos/jmolendijk/dataV2...</td>\n",
       "      <td>{'login': 'jmolendijk', 'id': 54313084, 'node_...</td>\n",
       "      <td>{'login': 'jmolendijk', 'id': 54313084, 'node_...</td>\n",
       "      <td>[{'sha': '80189cce124398781df93e115bf60755e3ed...</td>\n",
       "    </tr>\n",
       "    <tr>\n",
       "      <th>1</th>\n",
       "      <td>80189cce124398781df93e115bf60755e3ed4d7b</td>\n",
       "      <td>MDY6Q29tbWl0MjgyNjY1MjcyOjgwMTg5Y2NlMTI0Mzk4Nz...</td>\n",
       "      <td>{'author': {'name': 'Jan Molendijk', 'email': ...</td>\n",
       "      <td>https://api.github.com/repos/jmolendijk/dataV2...</td>\n",
       "      <td>https://github.com/jmolendijk/dataV2-labs/comm...</td>\n",
       "      <td>https://api.github.com/repos/jmolendijk/dataV2...</td>\n",
       "      <td>{'login': 'jmolendijk', 'id': 54313084, 'node_...</td>\n",
       "      <td>{'login': 'jmolendijk', 'id': 54313084, 'node_...</td>\n",
       "      <td>[{'sha': '820a60e936eb06c25271744ac773d4179950...</td>\n",
       "    </tr>\n",
       "    <tr>\n",
       "      <th>2</th>\n",
       "      <td>820a60e936eb06c25271744ac773d41799501388</td>\n",
       "      <td>MDY6Q29tbWl0MjgyNjY1MjcyOjgyMGE2MGU5MzZlYjA2Yz...</td>\n",
       "      <td>{'author': {'name': 'jmolendijk', 'email': '54...</td>\n",
       "      <td>https://api.github.com/repos/jmolendijk/dataV2...</td>\n",
       "      <td>https://github.com/jmolendijk/dataV2-labs/comm...</td>\n",
       "      <td>https://api.github.com/repos/jmolendijk/dataV2...</td>\n",
       "      <td>{'login': 'jmolendijk', 'id': 54313084, 'node_...</td>\n",
       "      <td>{'login': 'web-flow', 'id': 19864447, 'node_id...</td>\n",
       "      <td>[]</td>\n",
       "    </tr>\n",
       "  </tbody>\n",
       "</table>\n",
       "</div>"
      ],
      "text/plain": [
       "                                        sha  \\\n",
       "0  732d41f99c3460826fc321566ca79cb2f8bfb2b3   \n",
       "1  80189cce124398781df93e115bf60755e3ed4d7b   \n",
       "2  820a60e936eb06c25271744ac773d41799501388   \n",
       "\n",
       "                                             node_id  \\\n",
       "0  MDY6Q29tbWl0MjgyNjY1MjcyOjczMmQ0MWY5OWMzNDYwOD...   \n",
       "1  MDY6Q29tbWl0MjgyNjY1MjcyOjgwMTg5Y2NlMTI0Mzk4Nz...   \n",
       "2  MDY6Q29tbWl0MjgyNjY1MjcyOjgyMGE2MGU5MzZlYjA2Yz...   \n",
       "\n",
       "                                              commit  \\\n",
       "0  {'author': {'name': 'Jan Molendijk', 'email': ...   \n",
       "1  {'author': {'name': 'Jan Molendijk', 'email': ...   \n",
       "2  {'author': {'name': 'jmolendijk', 'email': '54...   \n",
       "\n",
       "                                                 url  \\\n",
       "0  https://api.github.com/repos/jmolendijk/dataV2...   \n",
       "1  https://api.github.com/repos/jmolendijk/dataV2...   \n",
       "2  https://api.github.com/repos/jmolendijk/dataV2...   \n",
       "\n",
       "                                            html_url  \\\n",
       "0  https://github.com/jmolendijk/dataV2-labs/comm...   \n",
       "1  https://github.com/jmolendijk/dataV2-labs/comm...   \n",
       "2  https://github.com/jmolendijk/dataV2-labs/comm...   \n",
       "\n",
       "                                        comments_url  \\\n",
       "0  https://api.github.com/repos/jmolendijk/dataV2...   \n",
       "1  https://api.github.com/repos/jmolendijk/dataV2...   \n",
       "2  https://api.github.com/repos/jmolendijk/dataV2...   \n",
       "\n",
       "                                              author  \\\n",
       "0  {'login': 'jmolendijk', 'id': 54313084, 'node_...   \n",
       "1  {'login': 'jmolendijk', 'id': 54313084, 'node_...   \n",
       "2  {'login': 'jmolendijk', 'id': 54313084, 'node_...   \n",
       "\n",
       "                                           committer  \\\n",
       "0  {'login': 'jmolendijk', 'id': 54313084, 'node_...   \n",
       "1  {'login': 'jmolendijk', 'id': 54313084, 'node_...   \n",
       "2  {'login': 'web-flow', 'id': 19864447, 'node_id...   \n",
       "\n",
       "                                             parents  \n",
       "0  [{'sha': '80189cce124398781df93e115bf60755e3ed...  \n",
       "1  [{'sha': '820a60e936eb06c25271744ac773d4179950...  \n",
       "2                                                 []  "
      ]
     },
     "execution_count": 7,
     "metadata": {},
     "output_type": "execute_result"
    }
   ],
   "source": [
    "# your code here\n",
    "response = requests.get(f'{base_url}/repos/{owner}/{repo}/commits?', auth=(username,token))\n",
    "data = pd.DataFrame(response.json())\n",
    "data['sha'].count()\n",
    "data"
   ]
  },
  {
   "cell_type": "markdown",
   "metadata": {},
   "source": [
    "## Challenge 3: Hidden Cold Joke\n",
    "\n",
    "Using Python, call Github API to find out the cold joke contained in the 24 secret files in the following repo:\n",
    "\n",
    "https://github.com/ironhack-datalabs/scavenger\n",
    "\n",
    "The filenames of the secret files contain .scavengerhunt and they are scattered in different directories of this repo. The secret files are named from .0001.scavengerhunt to .0024.scavengerhunt. They are scattered randomly throughout this repo. You need to search for these files by calling the Github API, not searching the local files on your computer.\n",
    "\n",
    "#### 1. Find the secret files."
   ]
  },
  {
   "cell_type": "code",
   "execution_count": 8,
   "metadata": {},
   "outputs": [
    {
     "data": {
      "text/plain": [
       "['15024',\n",
       " '15534',\n",
       " '17020',\n",
       " '30351',\n",
       " '40303',\n",
       " '44639',\n",
       " '45525',\n",
       " '47222',\n",
       " '47830',\n",
       " '49418',\n",
       " '50896',\n",
       " '55417',\n",
       " '55685',\n",
       " '60224',\n",
       " '64880',\n",
       " '66032',\n",
       " '68848',\n",
       " '70751',\n",
       " '70985',\n",
       " '88596',\n",
       " '89046',\n",
       " '89338',\n",
       " '91701',\n",
       " '97881',\n",
       " '98750']"
      ]
     },
     "execution_count": 8,
     "metadata": {},
     "output_type": "execute_result"
    }
   ],
   "source": [
    "# your code here\n",
    "response = requests.get(f'{base_url}/repos/ironhack-datalabs/scavenger/contents', auth=(username,token))\n",
    "response.json()\n",
    "data = pd.DataFrame(response.json())\n",
    "path = data['path'].tolist()\n",
    "path = path[1:]\n",
    "path"
   ]
  },
  {
   "cell_type": "code",
   "execution_count": 103,
   "metadata": {
    "scrolled": true
   },
   "outputs": [
    {
     "data": {
      "text/html": [
       "<div>\n",
       "<style scoped>\n",
       "    .dataframe tbody tr th:only-of-type {\n",
       "        vertical-align: middle;\n",
       "    }\n",
       "\n",
       "    .dataframe tbody tr th {\n",
       "        vertical-align: top;\n",
       "    }\n",
       "\n",
       "    .dataframe thead th {\n",
       "        text-align: right;\n",
       "    }\n",
       "</style>\n",
       "<table border=\"1\" class=\"dataframe\">\n",
       "  <thead>\n",
       "    <tr style=\"text-align: right;\">\n",
       "      <th></th>\n",
       "      <th>no need</th>\n",
       "      <th>0</th>\n",
       "      <th>1</th>\n",
       "      <th>2</th>\n",
       "      <th>3</th>\n",
       "    </tr>\n",
       "  </thead>\n",
       "  <tbody>\n",
       "    <tr>\n",
       "      <th>name</th>\n",
       "      <td>NaN</td>\n",
       "      <td>.0006.scavengerhunt</td>\n",
       "      <td>40</td>\n",
       "      <td>74</td>\n",
       "      <td>99</td>\n",
       "    </tr>\n",
       "    <tr>\n",
       "      <th>name</th>\n",
       "      <td>NaN</td>\n",
       "      <td>.0008.scavengerhunt</td>\n",
       "      <td>.0012.scavengerhunt</td>\n",
       "      <td>2</td>\n",
       "      <td>98</td>\n",
       "    </tr>\n",
       "    <tr>\n",
       "      <th>name</th>\n",
       "      <td>NaN</td>\n",
       "      <td>.0007.scavengerhunt</td>\n",
       "      <td>46</td>\n",
       "      <td>97</td>\n",
       "      <td>NaN</td>\n",
       "    </tr>\n",
       "    <tr>\n",
       "      <th>name</th>\n",
       "      <td>NaN</td>\n",
       "      <td>.0021.scavengerhunt</td>\n",
       "      <td>22</td>\n",
       "      <td>96</td>\n",
       "      <td>NaN</td>\n",
       "    </tr>\n",
       "    <tr>\n",
       "      <th>name</th>\n",
       "      <td>NaN</td>\n",
       "      <td>.0022.scavengerhunt</td>\n",
       "      <td>51</td>\n",
       "      <td>65</td>\n",
       "      <td>NaN</td>\n",
       "    </tr>\n",
       "    <tr>\n",
       "      <th>name</th>\n",
       "      <td>NaN</td>\n",
       "      <td>.0005.scavengerhunt</td>\n",
       "      <td>76</td>\n",
       "      <td>91</td>\n",
       "      <td>NaN</td>\n",
       "    </tr>\n",
       "    <tr>\n",
       "      <th>name</th>\n",
       "      <td>NaN</td>\n",
       "      <td>.0018.scavengerhunt</td>\n",
       "      <td>67</td>\n",
       "      <td>90</td>\n",
       "      <td>NaN</td>\n",
       "    </tr>\n",
       "    <tr>\n",
       "      <th>name</th>\n",
       "      <td>NaN</td>\n",
       "      <td>.0016.scavengerhunt</td>\n",
       "      <td>.0024.scavengerhunt</td>\n",
       "      <td>7</td>\n",
       "      <td>89</td>\n",
       "    </tr>\n",
       "    <tr>\n",
       "      <th>name</th>\n",
       "      <td>NaN</td>\n",
       "      <td>.0010.scavengerhunt</td>\n",
       "      <td>66</td>\n",
       "      <td>85</td>\n",
       "      <td>NaN</td>\n",
       "    </tr>\n",
       "    <tr>\n",
       "      <th>name</th>\n",
       "      <td>NaN</td>\n",
       "      <td>.0014.scavengerhunt</td>\n",
       "      <td>30</td>\n",
       "      <td>38</td>\n",
       "      <td>84</td>\n",
       "    </tr>\n",
       "    <tr>\n",
       "      <th>name</th>\n",
       "      <td>NaN</td>\n",
       "      <td>.0011.scavengerhunt</td>\n",
       "      <td>4</td>\n",
       "      <td>83</td>\n",
       "      <td>NaN</td>\n",
       "    </tr>\n",
       "    <tr>\n",
       "      <th>name</th>\n",
       "      <td>NaN</td>\n",
       "      <td>.0023.scavengerhunt</td>\n",
       "      <td>14</td>\n",
       "      <td>82</td>\n",
       "      <td>NaN</td>\n",
       "    </tr>\n",
       "    <tr>\n",
       "      <th>name</th>\n",
       "      <td>NaN</td>\n",
       "      <td>.0020.scavengerhunt</td>\n",
       "      <td>5</td>\n",
       "      <td>81</td>\n",
       "      <td>NaN</td>\n",
       "    </tr>\n",
       "    <tr>\n",
       "      <th>name</th>\n",
       "      <td>NaN</td>\n",
       "      <td>.0003.scavengerhunt</td>\n",
       "      <td>1</td>\n",
       "      <td>80</td>\n",
       "      <td>NaN</td>\n",
       "    </tr>\n",
       "    <tr>\n",
       "      <th>name</th>\n",
       "      <td>NaN</td>\n",
       "      <td>3</td>\n",
       "      <td>57</td>\n",
       "      <td>79</td>\n",
       "      <td>NaN</td>\n",
       "    </tr>\n",
       "    <tr>\n",
       "      <th>name</th>\n",
       "      <td>NaN</td>\n",
       "      <td>28</td>\n",
       "      <td>47</td>\n",
       "      <td>77</td>\n",
       "      <td>NaN</td>\n",
       "    </tr>\n",
       "    <tr>\n",
       "      <th>name</th>\n",
       "      <td>NaN</td>\n",
       "      <td>.0004.scavengerhunt</td>\n",
       "      <td>16</td>\n",
       "      <td>75</td>\n",
       "      <td>NaN</td>\n",
       "    </tr>\n",
       "    <tr>\n",
       "      <th>name</th>\n",
       "      <td>NaN</td>\n",
       "      <td>.0019.scavengerhunt</td>\n",
       "      <td>18</td>\n",
       "      <td>44</td>\n",
       "      <td>68</td>\n",
       "    </tr>\n",
       "    <tr>\n",
       "      <th>name</th>\n",
       "      <td>NaN</td>\n",
       "      <td>.0017.scavengerhunt</td>\n",
       "      <td>11</td>\n",
       "      <td>59</td>\n",
       "      <td>NaN</td>\n",
       "    </tr>\n",
       "    <tr>\n",
       "      <th>name</th>\n",
       "      <td>NaN</td>\n",
       "      <td>.0002.scavengerhunt</td>\n",
       "      <td>12</td>\n",
       "      <td>32</td>\n",
       "      <td>55</td>\n",
       "    </tr>\n",
       "    <tr>\n",
       "      <th>name</th>\n",
       "      <td>NaN</td>\n",
       "      <td>64</td>\n",
       "      <td>70</td>\n",
       "      <td>73</td>\n",
       "      <td>NaN</td>\n",
       "    </tr>\n",
       "    <tr>\n",
       "      <th>name</th>\n",
       "      <td>NaN</td>\n",
       "      <td>.0013.scavengerhunt</td>\n",
       "      <td>35</td>\n",
       "      <td>43</td>\n",
       "      <td>8</td>\n",
       "    </tr>\n",
       "    <tr>\n",
       "      <th>name</th>\n",
       "      <td>NaN</td>\n",
       "      <td>.0015.scavengerhunt</td>\n",
       "      <td>33</td>\n",
       "      <td>39</td>\n",
       "      <td>NaN</td>\n",
       "    </tr>\n",
       "    <tr>\n",
       "      <th>name</th>\n",
       "      <td>NaN</td>\n",
       "      <td>.0009.scavengerhunt</td>\n",
       "      <td>26</td>\n",
       "      <td>36</td>\n",
       "      <td>71</td>\n",
       "    </tr>\n",
       "    <tr>\n",
       "      <th>name</th>\n",
       "      <td>NaN</td>\n",
       "      <td>.0001.scavengerhunt</td>\n",
       "      <td>20</td>\n",
       "      <td>62</td>\n",
       "      <td>NaN</td>\n",
       "    </tr>\n",
       "  </tbody>\n",
       "</table>\n",
       "</div>"
      ],
      "text/plain": [
       "      no need                    0                    1   2    3\n",
       "name      NaN  .0006.scavengerhunt                   40  74   99\n",
       "name      NaN  .0008.scavengerhunt  .0012.scavengerhunt   2   98\n",
       "name      NaN  .0007.scavengerhunt                   46  97  NaN\n",
       "name      NaN  .0021.scavengerhunt                   22  96  NaN\n",
       "name      NaN  .0022.scavengerhunt                   51  65  NaN\n",
       "name      NaN  .0005.scavengerhunt                   76  91  NaN\n",
       "name      NaN  .0018.scavengerhunt                   67  90  NaN\n",
       "name      NaN  .0016.scavengerhunt  .0024.scavengerhunt   7   89\n",
       "name      NaN  .0010.scavengerhunt                   66  85  NaN\n",
       "name      NaN  .0014.scavengerhunt                   30  38   84\n",
       "name      NaN  .0011.scavengerhunt                    4  83  NaN\n",
       "name      NaN  .0023.scavengerhunt                   14  82  NaN\n",
       "name      NaN  .0020.scavengerhunt                    5  81  NaN\n",
       "name      NaN  .0003.scavengerhunt                    1  80  NaN\n",
       "name      NaN                    3                   57  79  NaN\n",
       "name      NaN                   28                   47  77  NaN\n",
       "name      NaN  .0004.scavengerhunt                   16  75  NaN\n",
       "name      NaN  .0019.scavengerhunt                   18  44   68\n",
       "name      NaN  .0017.scavengerhunt                   11  59  NaN\n",
       "name      NaN  .0002.scavengerhunt                   12  32   55\n",
       "name      NaN                   64                   70  73  NaN\n",
       "name      NaN  .0013.scavengerhunt                   35  43    8\n",
       "name      NaN  .0015.scavengerhunt                   33  39  NaN\n",
       "name      NaN  .0009.scavengerhunt                   26  36   71\n",
       "name      NaN  .0001.scavengerhunt                   20  62  NaN"
      ]
     },
     "execution_count": 103,
     "metadata": {},
     "output_type": "execute_result"
    }
   ],
   "source": [
    "a = pd.DataFrame({'no need' : []})\n",
    "for i in path:\n",
    "    resp1 = requests.get(f'{base_url}/repos/ironhack-datalabs/scavenger/contents/{i}', auth=(username,token))\n",
    "    a = a.append(pd.DataFrame(resp1.json())['name'])\n",
    "a"
   ]
  },
  {
   "cell_type": "code",
   "execution_count": 108,
   "metadata": {},
   "outputs": [
    {
     "data": {
      "text/plain": [
       "{'15024': ('.0006.scavengerhunt', '40'),\n",
       " '15534': ('.0008.scavengerhunt', '.0012.scavengerhunt'),\n",
       " '17020': ('.0007.scavengerhunt', '46'),\n",
       " '30351': ('.0021.scavengerhunt', '22'),\n",
       " '40303': ('.0022.scavengerhunt', '51'),\n",
       " '44639': ('.0005.scavengerhunt', '76'),\n",
       " '45525': ('.0018.scavengerhunt', '67'),\n",
       " '47222': ('.0016.scavengerhunt', '.0024.scavengerhunt'),\n",
       " '47830': ('.0010.scavengerhunt', '66'),\n",
       " '49418': ('.0014.scavengerhunt', '30'),\n",
       " '50896': ('.0011.scavengerhunt', '4'),\n",
       " '55417': ('.0023.scavengerhunt', '14'),\n",
       " '55685': ('.0020.scavengerhunt', '5'),\n",
       " '60224': ('.0003.scavengerhunt', '1'),\n",
       " '64880': ('3', '57'),\n",
       " '66032': ('28', '47'),\n",
       " '68848': ('.0004.scavengerhunt', '16'),\n",
       " '70751': ('.0019.scavengerhunt', '18'),\n",
       " '70985': ('.0017.scavengerhunt', '11'),\n",
       " '88596': ('.0002.scavengerhunt', '12'),\n",
       " '89046': ('64', '70'),\n",
       " '89338': ('.0013.scavengerhunt', '35'),\n",
       " '91701': ('.0015.scavengerhunt', '33'),\n",
       " '97881': ('.0009.scavengerhunt', '26'),\n",
       " '98750': ('.0001.scavengerhunt', '20')}"
      ]
     },
     "execution_count": 108,
     "metadata": {},
     "output_type": "execute_result"
    }
   ],
   "source": [
    "# Almost in the end of the task I realised that it will be handy to have a dictionary with path as a key and required files as\n",
    "# values. Couldn't finish it though so had to look for work around anyway.\n",
    "# temp = a.copy()\n",
    "# temp['path'] = pd.Series(path).values\n",
    "# temp = temp.drop(columns=['no need', 2, 3])\n",
    "# temp\n",
    "# z1 = list(zip(temp[0], temp[1]))\n",
    "# z2 = dict(zip(temp['path'], z1))\n",
    "# z2"
   ]
  },
  {
   "cell_type": "code",
   "execution_count": 128,
   "metadata": {},
   "outputs": [
    {
     "data": {
      "text/plain": [
       "{'15024': '.0006.scavengerhunt',\n",
       " '15534': '.0012.scavengerhunt',\n",
       " '17020': '.0007.scavengerhunt',\n",
       " '30351': '.0021.scavengerhunt',\n",
       " '40303': '.0022.scavengerhunt',\n",
       " '44639': '.0005.scavengerhunt',\n",
       " '45525': '.0018.scavengerhunt',\n",
       " '47222': '.0024.scavengerhunt',\n",
       " '47830': '.0010.scavengerhunt',\n",
       " '49418': '.0014.scavengerhunt',\n",
       " '50896': '.0011.scavengerhunt',\n",
       " '55417': '.0023.scavengerhunt',\n",
       " '55685': '.0020.scavengerhunt',\n",
       " '60224': '.0003.scavengerhunt',\n",
       " '68848': '.0004.scavengerhunt',\n",
       " '70751': '.0019.scavengerhunt',\n",
       " '70985': '.0017.scavengerhunt',\n",
       " '88596': '.0002.scavengerhunt',\n",
       " '89338': '.0013.scavengerhunt',\n",
       " '91701': '.0015.scavengerhunt',\n",
       " '97881': '.0009.scavengerhunt',\n",
       " '98750': '.0001.scavengerhunt'}"
      ]
     },
     "execution_count": 128,
     "metadata": {},
     "output_type": "execute_result"
    }
   ],
   "source": [
    "# z3 = {}\n",
    "# for key, value in z2.items():\n",
    "#     for i in range(0,2):\n",
    "#         if value[i].endswith('.scavengerhunt'):\n",
    "#             z3[key] = value[i]\n",
    "# z3"
   ]
  },
  {
   "cell_type": "markdown",
   "metadata": {},
   "source": [
    "#### 2.  Sort the filenames ascendingly."
   ]
  },
  {
   "cell_type": "code",
   "execution_count": 41,
   "metadata": {},
   "outputs": [
    {
     "data": {
      "text/plain": [
       "['.0001.scavengerhunt',\n",
       " '.0002.scavengerhunt',\n",
       " '.0003.scavengerhunt',\n",
       " '.0004.scavengerhunt',\n",
       " '.0005.scavengerhunt',\n",
       " '.0006.scavengerhunt',\n",
       " '.0007.scavengerhunt',\n",
       " '.0008.scavengerhunt',\n",
       " '.0009.scavengerhunt',\n",
       " '.0010.scavengerhunt',\n",
       " '.0011.scavengerhunt',\n",
       " '.0012.scavengerhunt',\n",
       " '.0013.scavengerhunt',\n",
       " '.0014.scavengerhunt',\n",
       " '.0015.scavengerhunt',\n",
       " '.0016.scavengerhunt',\n",
       " '.0017.scavengerhunt',\n",
       " '.0018.scavengerhunt',\n",
       " '.0019.scavengerhunt',\n",
       " '.0020.scavengerhunt',\n",
       " '.0021.scavengerhunt',\n",
       " '.0022.scavengerhunt',\n",
       " '.0023.scavengerhunt',\n",
       " '.0024.scavengerhunt']"
      ]
     },
     "execution_count": 41,
     "metadata": {},
     "output_type": "execute_result"
    }
   ],
   "source": [
    "# your code here\n",
    "files = sorted([name for name in (a[0].tolist() + a[1].tolist()) if name.endswith('.scavengerhunt')])\n",
    "\n",
    "files"
   ]
  },
  {
   "cell_type": "markdown",
   "metadata": {},
   "source": [
    "#### 3. Read the content of each secret files into an array of strings.\n",
    "Since the response is encoded, you will need to send the following information in the header of your request:\n",
    "````python\n",
    "headers = {'Accept': 'application/vnd.github.v3.raw'}\n",
    "````"
   ]
  },
  {
   "cell_type": "code",
   "execution_count": 137,
   "metadata": {},
   "outputs": [
    {
     "data": {
      "text/plain": [
       "<Response [200]>"
      ]
     },
     "execution_count": 137,
     "metadata": {},
     "output_type": "execute_result"
    }
   ],
   "source": [
    "# your code here\n",
    "import base64\n",
    "resp2 = requests.get(f'{base_url}/repos/ironhack-datalabs/scavenger/contents/44639/.0005.scavengerhunt', auth=(username,token), headers = {'Accept': 'application/vnd.github.v3.raw'})\n",
    "# resp2.content.decode('ascii')\n",
    "resp3 = requests.get(f'{base_url}/repos/ironhack-datalabs/scavenger/contents/44639/.0005.scavengerhunt', auth=(username,token))\n",
    "resp3"
   ]
  },
  {
   "cell_type": "code",
   "execution_count": 93,
   "metadata": {},
   "outputs": [
    {
     "name": "stdout",
     "output_type": "stream",
     "text": [
      "['15024', '15534', '17020', '30351', '40303', '44639', '45525', '47222', '47830', '49418', '50896', '55417', '55685', '60224', '64880', '66032', '68848', '70751', '70985', '88596', '89046', '89338', '91701', '97881', '98750']\n",
      "['.0001.scavengerhunt', '.0002.scavengerhunt', '.0003.scavengerhunt', '.0004.scavengerhunt', '.0005.scavengerhunt', '.0006.scavengerhunt', '.0007.scavengerhunt', '.0008.scavengerhunt', '.0009.scavengerhunt', '.0010.scavengerhunt', '.0011.scavengerhunt', '.0012.scavengerhunt', '.0013.scavengerhunt', '.0014.scavengerhunt', '.0015.scavengerhunt', '.0016.scavengerhunt', '.0017.scavengerhunt', '.0018.scavengerhunt', '.0019.scavengerhunt', '.0020.scavengerhunt', '.0021.scavengerhunt', '.0022.scavengerhunt', '.0023.scavengerhunt', '.0024.scavengerhunt']\n"
     ]
    }
   ],
   "source": [
    "print(path)\n",
    "print(files)"
   ]
  },
  {
   "cell_type": "code",
   "execution_count": 156,
   "metadata": {},
   "outputs": [
    {
     "name": "stdout",
     "output_type": "stream",
     "text": [
      "percent\n",
      "\n"
     ]
    }
   ],
   "source": [
    "import re\n",
    "q = ['15024', '44639']\n",
    "w = ['.0005.scavengerhunt']\n",
    "error = '{\"message\":\"Not Found\",\"documentation_url\":\"https://docs.github.com/rest/reference/repos#get-repository-content\"}'\n",
    "\n",
    "my_dict = {}\n",
    "for p in q:\n",
    "    for f in w:\n",
    "#         print(p, type(p))\n",
    "#         print(f, type(f))\n",
    "        resp2 = requests.get(f'{base_url}/repos/ironhack-datalabs/scavenger/contents/{p}/{f}', auth=(username,token), headers = {'Accept': 'application/vnd.github.v3.raw'})\n",
    "        if resp2.content.decode('ascii') != error:\n",
    "            print(resp2.content.decode('ascii'))"
   ]
  },
  {
   "cell_type": "code",
   "execution_count": 159,
   "metadata": {
    "scrolled": true
   },
   "outputs": [
    {
     "name": "stdout",
     "output_type": "stream",
     "text": [
      "{'.0006.scavengerhunt': 'of\\n', '.0008.scavengerhunt': 'spent\\n', '.0012.scavengerhunt': '20\\n', '.0007.scavengerhunt': 'time\\n', '.0021.scavengerhunt': 'need\\n', '.0022.scavengerhunt': 'to\\n', '.0005.scavengerhunt': 'percent\\n', '.0018.scavengerhunt': 'complaining\\n', '.0016.scavengerhunt': 'is\\n', '.0024.scavengerhunt': 'data.\\n', '.0010.scavengerhunt': 'preparing\\n', '.0014.scavengerhunt': 'of\\n', '.0011.scavengerhunt': 'data,\\n', '.0023.scavengerhunt': 'prepare\\n', '.0020.scavengerhunt': 'the\\n', '.0003.scavengerhunt': 'science,\\n', '.0004.scavengerhunt': '80\\n', '.0019.scavengerhunt': 'about\\n', '.0017.scavengerhunt': 'spent\\n', '.0002.scavengerhunt': 'data\\n', '.0013.scavengerhunt': 'percent\\n', '.0015.scavengerhunt': 'time\\n', '.0009.scavengerhunt': 'is\\n', '.0001.scavengerhunt': 'In\\n'}\n"
     ]
    }
   ],
   "source": [
    "# To run this request takes veeeeery long time but I couldn't figure out how to read file without looping through folders.\n",
    "# And to do this efficient I couldn't figure out how to put folders and files in dictionary.\n",
    "my_dict = {}\n",
    "error = '{\"message\":\"Not Found\",\"documentation_url\":\"https://docs.github.com/rest/reference/repos#get-repository-content\"}'\n",
    "for p in path:\n",
    "    for f in files:\n",
    "#         print(p, type(p))\n",
    "#         print(f, type(f))\n",
    "        resp2 = requests.get(f'{base_url}/repos/ironhack-datalabs/scavenger/contents/{p}/{f}', auth=(username,token), headers = {'Accept': 'application/vnd.github.v3.raw'})\n",
    "        if resp2.content.decode('ascii') != error:\n",
    "            my_dict[f] = resp2.content.decode('ascii')\n",
    "print(my_dict)"
   ]
  },
  {
   "cell_type": "code",
   "execution_count": 172,
   "metadata": {},
   "outputs": [
    {
     "data": {
      "text/plain": [
       "['In',\n",
       " 'data',\n",
       " 'science,',\n",
       " '80',\n",
       " 'percent',\n",
       " 'of',\n",
       " 'time',\n",
       " 'spent',\n",
       " 'is',\n",
       " 'preparing',\n",
       " 'data,',\n",
       " '20',\n",
       " 'percent',\n",
       " 'of',\n",
       " 'time',\n",
       " 'is',\n",
       " 'spent',\n",
       " 'complaining',\n",
       " 'about',\n",
       " 'the',\n",
       " 'need',\n",
       " 'to',\n",
       " 'prepare',\n",
       " 'data.']"
      ]
     },
     "execution_count": 172,
     "metadata": {},
     "output_type": "execute_result"
    }
   ],
   "source": [
    "sorted_d = sorted(my_dict.items())\n",
    "my_string = []\n",
    "for i in sorted_d:\n",
    "    y = i[1].replace('\\n', '')\n",
    "    my_string.append(y)\n",
    "my_string"
   ]
  },
  {
   "cell_type": "markdown",
   "metadata": {},
   "source": [
    "#### 4. Concatenate the strings in the array separating each two with a whitespace."
   ]
  },
  {
   "cell_type": "code",
   "execution_count": 174,
   "metadata": {},
   "outputs": [
    {
     "data": {
      "text/plain": [
       "'In data science, 80 percent of time spent is preparing data, 20 percent of time is spent complaining about the need to prepare data.'"
      ]
     },
     "execution_count": 174,
     "metadata": {},
     "output_type": "execute_result"
    }
   ],
   "source": [
    "# your code here\n",
    "' '.join(my_string)"
   ]
  },
  {
   "cell_type": "markdown",
   "metadata": {},
   "source": [
    "#### 5. Print out the joke."
   ]
  },
  {
   "cell_type": "code",
   "execution_count": null,
   "metadata": {},
   "outputs": [],
   "source": [
    "# your code here"
   ]
  }
 ],
 "metadata": {
  "kernelspec": {
   "display_name": "Python 3",
   "language": "python",
   "name": "python3"
  },
  "language_info": {
   "codemirror_mode": {
    "name": "ipython",
    "version": 3
   },
   "file_extension": ".py",
   "mimetype": "text/x-python",
   "name": "python",
   "nbconvert_exporter": "python",
   "pygments_lexer": "ipython3",
   "version": "3.8.3"
  }
 },
 "nbformat": 4,
 "nbformat_minor": 2
}
