{
 "cells": [
  {
   "cell_type": "markdown",
   "metadata": {},
   "source": [
    "# Web Scraping Lab\n",
    "\n",
    "You will find in this notebook some scrapy exercises to practise your scraping skills.\n",
    "\n",
    "**Tips:**\n",
    "\n",
    "- Check the response status code for each request to ensure you have obtained the intended content.\n",
    "- Print the response text in each request to understand the kind of info you are getting and its format.\n",
    "- Check for patterns in the response text to extract the data/info requested in each question.\n",
    "- Visit the urls below and take a look at their source code through Chrome DevTools. You'll need to identify the html tags, special class names, etc used in the html content you are expected to extract.\n",
    "\n",
    "**Resources**:\n",
    "- [Requests library](http://docs.python-requests.org/en/master/#the-user-guide)\n",
    "- [Beautiful Soup Doc](https://www.crummy.com/software/BeautifulSoup/bs4/doc/)\n",
    "- [Urllib](https://docs.python.org/3/library/urllib.html#module-urllib)\n",
    "- [re lib](https://docs.python.org/3/library/re.html)\n",
    "- [lxml lib](https://lxml.de/)\n",
    "- [Scrapy](https://scrapy.org/)\n",
    "- [List of HTTP status codes](https://en.wikipedia.org/wiki/List_of_HTTP_status_codes)\n",
    "- [HTML basics](http://www.simplehtmlguide.com/cheatsheet.php)\n",
    "- [CSS basics](https://www.cssbasics.com/#page_start)"
   ]
  },
  {
   "cell_type": "markdown",
   "metadata": {},
   "source": [
    "#### Below are the libraries and modules you may need. `requests`,  `BeautifulSoup` and `pandas` are already imported for you. If you prefer to use additional libraries feel free to do it."
   ]
  },
  {
   "cell_type": "code",
   "execution_count": 1,
   "metadata": {},
   "outputs": [],
   "source": [
    "import requests\n",
    "from bs4 import BeautifulSoup\n",
    "import pandas as pd\n",
    "import re"
   ]
  },
  {
   "cell_type": "markdown",
   "metadata": {},
   "source": [
    "#### Download, parse (using BeautifulSoup), and print the content from the Trending Developers page from GitHub:"
   ]
  },
  {
   "cell_type": "code",
   "execution_count": null,
   "metadata": {},
   "outputs": [],
   "source": [
    "# This is the url you will scrape in this exercise\n",
    "url = 'https://github.com/trending/developers'"
   ]
  },
  {
   "cell_type": "code",
   "execution_count": null,
   "metadata": {},
   "outputs": [],
   "source": [
    "# your code here\n",
    "html = requests.get(url).content\n",
    "html[0:600]"
   ]
  },
  {
   "cell_type": "markdown",
   "metadata": {},
   "source": [
    "#### Display the names of the trending developers retrieved in the previous step.\n",
    "\n",
    "Your output should be a Python list of developer names. Each name should not contain any html tag.\n",
    "\n",
    "**Instructions:**\n",
    "\n",
    "1. Find out the html tag and class names used for the developer names. You can achieve this using Chrome DevTools.\n",
    "\n",
    "1. Use BeautifulSoup to extract all the html elements that contain the developer names.\n",
    "\n",
    "1. Use string manipulation techniques to replace whitespaces and linebreaks (i.e. `\\n`) in the *text* of each html element. Use a list to store the clean names.\n",
    "\n",
    "1. Print the list of names.\n",
    "\n",
    "Your output should look like below:\n",
    "\n",
    "```\n",
    "['trimstray (@trimstray)',\n",
    " 'joewalnes (JoeWalnes)',\n",
    " 'charlax (Charles-AxelDein)',\n",
    " 'ForrestKnight (ForrestKnight)',\n",
    " 'revery-ui (revery-ui)',\n",
    " 'alibaba (Alibaba)',\n",
    " 'Microsoft (Microsoft)',\n",
    " 'github (GitHub)',\n",
    " 'facebook (Facebook)',\n",
    " 'boazsegev (Bo)',\n",
    " 'google (Google)',\n",
    " 'cloudfetch',\n",
    " 'sindresorhus (SindreSorhus)',\n",
    " 'tensorflow',\n",
    " 'apache (TheApacheSoftwareFoundation)',\n",
    " 'DevonCrawford (DevonCrawford)',\n",
    " 'ARMmbed (ArmMbed)',\n",
    " 'vuejs (vuejs)',\n",
    " 'fastai (fast.ai)',\n",
    " 'QiShaoXuan (Qi)',\n",
    " 'joelparkerhenderson (JoelParkerHenderson)',\n",
    " 'torvalds (LinusTorvalds)',\n",
    " 'CyC2018',\n",
    " 'komeiji-satori (神楽坂覚々)',\n",
    " 'script-8']\n",
    " ```"
   ]
  },
  {
   "cell_type": "code",
   "execution_count": null,
   "metadata": {},
   "outputs": [],
   "source": [
    "# your code here\n",
    "soup = BeautifulSoup(html, \"lxml\")"
   ]
  },
  {
   "cell_type": "code",
   "execution_count": null,
   "metadata": {},
   "outputs": [],
   "source": [
    "cdict = {'class':'h3'}\n",
    "table = soup.find_all('h1', cdict)\n",
    "type(table[0])"
   ]
  },
  {
   "cell_type": "code",
   "execution_count": null,
   "metadata": {},
   "outputs": [],
   "source": [
    "print(table[0].attr)\n",
    "# This was the moment when I couldn't find any way to get into details within h3 class but then doing one of the next questions\n",
    "#I found Navigating the Parse Tree thing so I came back to finish this task."
   ]
  },
  {
   "cell_type": "code",
   "execution_count": null,
   "metadata": {},
   "outputs": [],
   "source": [
    "a = table[0].contents\n",
    "# Below I'm looking into elements of a, how can I reach needed information.\n",
    "for i in range(len(a)):\n",
    "    print(a[i])\n",
    "b = a[1].contents\n",
    "b\n",
    "a[1].get('href')"
   ]
  },
  {
   "cell_type": "code",
   "execution_count": null,
   "metadata": {},
   "outputs": [],
   "source": [
    "dev_list = []\n",
    "for i in range(len(table)):\n",
    "    user = table[i].contents[1].get('href')[1:]\n",
    "    name = re.sub('\\n', '', table[i].contents[1].contents[0]).strip()\n",
    "    dev_list.append((f'{user} ({name})'))\n",
    "dev_list"
   ]
  },
  {
   "cell_type": "markdown",
   "metadata": {},
   "source": [
    "#### Display the trending Python repositories in GitHub.\n",
    "\n",
    "The steps to solve this problem is similar to the previous one except that you need to find out the repository names instead of developer names."
   ]
  },
  {
   "cell_type": "code",
   "execution_count": null,
   "metadata": {},
   "outputs": [],
   "source": [
    "# This is the url you will scrape in this exercise\n",
    "url = 'https://github.com/trending/python?since=daily'\n",
    "html = requests.get(url).content\n",
    "html[0:600]"
   ]
  },
  {
   "cell_type": "code",
   "execution_count": null,
   "metadata": {},
   "outputs": [],
   "source": [
    "# your code here\n",
    "soup = BeautifulSoup(html, \"lxml\")"
   ]
  },
  {
   "cell_type": "code",
   "execution_count": null,
   "metadata": {},
   "outputs": [],
   "source": [
    "cdict = {'class':'h3'}\n",
    "repos = soup.find_all('h1', cdict)\n",
    "repos\n",
    "len(repos)"
   ]
  },
  {
   "cell_type": "code",
   "execution_count": null,
   "metadata": {},
   "outputs": [],
   "source": [
    "print(repos[0].attr)\n",
    "# Same as above, had no clue what to do further and came back to this question later."
   ]
  },
  {
   "cell_type": "code",
   "execution_count": null,
   "metadata": {},
   "outputs": [],
   "source": [
    "a = repos[0].contents\n",
    "# Below I'm looking into elements of a, how can I reach needed information.\n",
    "# print(a)\n",
    "# print(type(a))\n",
    "# print(len(a))\n",
    "# print(a[1])\n",
    "# print(type(a[1]))\n",
    "print(a[1].contents)\n",
    "print(type(a[1].contents))\n",
    "print(len(a[1].contents))\n",
    "print(a[1].contents[4])"
   ]
  },
  {
   "cell_type": "code",
   "execution_count": null,
   "metadata": {},
   "outputs": [],
   "source": [
    "repo_list = []\n",
    "for i in range(len(repos)):\n",
    "    result = repos[i].contents[1].contents[4]\n",
    "    result = re.sub('\\n', '', result).strip()\n",
    "    repo_list.append(result)\n",
    "repo_list"
   ]
  },
  {
   "cell_type": "markdown",
   "metadata": {},
   "source": [
    "#### Display all the image links from Walt Disney wikipedia page."
   ]
  },
  {
   "cell_type": "code",
   "execution_count": null,
   "metadata": {},
   "outputs": [],
   "source": [
    "# This is the url you will scrape in this exercise\n",
    "url = 'https://en.wikipedia.org/wiki/Walt_Disney'\n",
    "html = requests.get(url).content\n",
    "html[0:600]"
   ]
  },
  {
   "cell_type": "code",
   "execution_count": null,
   "metadata": {},
   "outputs": [],
   "source": [
    "# your code here\n",
    "soup = BeautifulSoup(html, \"lxml\")"
   ]
  },
  {
   "cell_type": "code",
   "execution_count": null,
   "metadata": {},
   "outputs": [],
   "source": [
    "images = []\n",
    "for img in soup.findAll('img'):\n",
    "    images.append(img.get('src'))\n",
    "images"
   ]
  },
  {
   "cell_type": "markdown",
   "metadata": {},
   "source": [
    "#### Retrieve an arbitary Wikipedia page of \"Python\" and create a list of links on that page."
   ]
  },
  {
   "cell_type": "code",
   "execution_count": null,
   "metadata": {},
   "outputs": [],
   "source": [
    "# This is the url you will scrape in this exercise\n",
    "url ='https://en.wikipedia.org/wiki/Python'\n",
    "html = requests.get(url).content\n",
    "html[0:600]"
   ]
  },
  {
   "cell_type": "code",
   "execution_count": null,
   "metadata": {},
   "outputs": [],
   "source": [
    "# your code here\n",
    "soup = BeautifulSoup(html, \"lxml\")"
   ]
  },
  {
   "cell_type": "code",
   "execution_count": null,
   "metadata": {},
   "outputs": [],
   "source": [
    "links = [i for i in soup.findAll('link')]\n",
    "links"
   ]
  },
  {
   "cell_type": "markdown",
   "metadata": {},
   "source": [
    "#### Find the number of titles that have changed in the United States Code since its last release point."
   ]
  },
  {
   "cell_type": "code",
   "execution_count": null,
   "metadata": {},
   "outputs": [],
   "source": [
    "# This is the url you will scrape in this exercise\n",
    "url = 'http://uscode.house.gov/download/download.shtml'\n",
    "html = requests.get(url).content\n",
    "soup = BeautifulSoup(html, \"lxml\")"
   ]
  },
  {
   "cell_type": "code",
   "execution_count": null,
   "metadata": {},
   "outputs": [],
   "source": [
    "cdict = {'class':'usctitlechanged'}\n",
    "changes = soup.find_all('div', cdict)\n",
    "changes_list = []\n",
    "for i in changes:\n",
    "    changes_list.append(re.sub('\\n', '', i.contents[0]).strip())\n",
    "changes_list"
   ]
  },
  {
   "cell_type": "markdown",
   "metadata": {},
   "source": [
    "#### Find a Python list with the top ten FBI's Most Wanted names."
   ]
  },
  {
   "cell_type": "code",
   "execution_count": null,
   "metadata": {},
   "outputs": [],
   "source": [
    "# This is the url you will scrape in this exercise\n",
    "url = 'https://www.fbi.gov/wanted/topten'\n",
    "html = requests.get(url).content\n",
    "soup = BeautifulSoup(html, \"lxml\")"
   ]
  },
  {
   "cell_type": "code",
   "execution_count": null,
   "metadata": {},
   "outputs": [],
   "source": [
    "# your code here\n",
    "cdict = {'class':'title'}\n",
    "wanted = soup.find_all('h3', cdict)\n",
    "wanted_list = [wanted[i].contents[1].contents[0] for i in range(len(wanted))]\n",
    "wanted_list"
   ]
  },
  {
   "cell_type": "markdown",
   "metadata": {},
   "source": [
    "####  Display the 20 latest earthquakes info (date, time, latitude, longitude and region name) by the EMSC as a pandas dataframe."
   ]
  },
  {
   "cell_type": "code",
   "execution_count": 2,
   "metadata": {},
   "outputs": [],
   "source": [
    "# This is the url you will scrape in this exercise\n",
    "url = 'https://www.emsc-csem.org/Earthquake/'\n",
    "html = requests.get(url).content\n",
    "soup = BeautifulSoup(html, \"lxml\")"
   ]
  },
  {
   "cell_type": "code",
   "execution_count": 49,
   "metadata": {},
   "outputs": [
    {
     "data": {
      "text/plain": [
       "<table border=\"0\" cellpadding=\"0\" cellspacing=\"0\" width=\"100%\"><thead>\n",
       "<tr>\n",
       "<td colspan=\"13\" style=\"background: white;height: 1px\"></td>\n",
       "</tr>\n",
       "<tr id=\"haut_tableau\"><th class=\"th2 th3\" colspan=\"3\" style=\"width:90px;display:table-csell;\"><div onmouseout=\"info_b('notshow','','');\" onmouseover=\"info_b('show','Represents the results of information provided by users (Felt earthquake, pictures, testimonies ,...)&lt;br&gt;See an intensity map for more details on the macroseismic intensity scale.','Citizen response');\">Citizen<br/>Response</div><br/><table cellpadding=\"0\" cellspacing=\"0\" style=\"width:100%;margin:0;text-align:center;\"><tr><td><div onclick=\"change_tri('im_report');\" onmouseout=\"change_image(this,'out','im_report');\" onmouseover=\"change_image(this,'over','im_report');\"><span class=\"spriteorig sp_ico_list\" onmouseout=\"info_b2('notshow','');\" onmouseover=\"info_b2('show','Sorted by number of &lt;b&gt;Comments&lt;/b&gt;');\"></span><span class=\"spriteorig sp_s_asc\" id=\"im_report\" style=\"display:none;\"></span></div></td><td><div onclick=\"change_tri('im_pics');\" onmouseout=\"change_image(this,'out','im_pics');\" onmouseover=\"change_image(this,'over','im_pics');\"><span class=\"spriteorig sp_digikam\" onmouseout=\"info_b2('notshow','');\" onmouseover=\"info_b2('show','Sorted by number of &lt;b&gt;Pictures&lt;/b&gt;');\"></span><span class=\"spriteorig sp_s_asc\" id=\"im_pics\" style=\"display:none;\"></span></div></td><td><div onclick=\"change_tri('im_intens');\" onmouseout=\"change_image(this,'out','im_intens');\" onmouseover=\"change_image(this,'over','im_intens');\"><span class=\"spriteorig sp_IntensityMap\" onmouseout=\"info_b2('notshow','');\" onmouseover=\"info_b2('show','Sorted by &lt;b&gt;Macroseismic Intensity&lt;/b&gt;');\"></span><span class=\"spriteorig sp_s_asc\" id=\"im_intens\" style=\"display:none;\"></span></div></td></tr></table></th><th class=\"th2\" onclick=\"change_tri('im_time');\" onmouseout=\"change_image(this,'out','im_time');\" onmouseover=\"change_image(this,'over','im_time');\">Date &amp; Time <span class=\"spriteorig sp_s_desc\" id=\"im_select\"></span><div style=\"font-weight:normal;\">UTC</div></th><th class=\"th2\" colspan=\"2\" onclick=\"change_tri('im_lat');\" onmouseout=\"change_image(this,'out','im_lat');\" onmouseover=\"change_image(this,'over','im_lat');\">Latitude <span class=\"spriteorig sp_s_asc\" id=\"im_lat\" style=\"display:none;\"></span><div style=\"font-weight:normal;\">degrees</div></th><th class=\"th2\" colspan=\"2\" onclick=\"change_tri('im_lon');\" onmouseout=\"change_image(this,'out','im_lon');\" onmouseover=\"change_image(this,'over','im_lon');\">Longitude <span class=\"spriteorig sp_s_asc\" id=\"im_lon\" style=\"display:none;\"></span><div style=\"font-weight:normal;\">degrees</div></th><th class=\"th2\" onclick=\"change_tri('im_depth');\" onmouseout=\"change_image(this,'out','im_depth');\" onmouseover=\"change_image(this,'over','im_depth');\">Depth <span class=\"spriteorig sp_s_asc\" id=\"im_depth\" style=\"display:none;\"></span><div style=\"font-weight: normal\">km</div></th><th class=\"th2\" colspan=\"1\" id=\"thmag\"><div onclick=\"change_tri('im_mag');\" onmouseout=\"change_image(this,'out','im_mag');\" onmouseover=\"change_image(this,'over','im_mag');\" style=\"float:left;\">Mag <span class=\"spriteorig sp_s_asc\" id=\"im_mag\" style=\"display:none;\"></span></div><div id=\"magplus2\" style=\"float:left;\"> <a href=\"javascript:hide_magni();\" id=\"magplus\" style=\"color:white;\">[+]</a></div></th><th class=\"th2\" id=\"ex_th2\"><div onclick=\"change_tri('im_reg');\" onmouseout=\"change_image(this,'out','im_reg');\" onmouseover=\"change_image(this,'over','im_reg');\" style=\"float:left;\">Region name <span class=\"spriteorig sp_s_asc\" id=\"im_reg\" style=\"display:none;\"></span></div><div id=\"upda\" onmouseout=\"info_b2('notshow','');\" onmouseover=\"info_b2('show','Show last update');\"> <a href=\"javascript:hide_upd();\" style=\"color:white;\">[+]</a></div></th><th class=\"th2 updatetimeno\" id=\"upd\"><div id=\"labupd\" onclick=\"change_tri('im_upd');\" onmouseout=\"change_image(this,'out','im_upd');\" onmouseover=\"change_image(this,'over','im_upd');\" style=\"float:left;text-align:right;\">Last update <span class=\"spriteorig sp_s_asc\" id=\"im_upd\" style=\"display:none;\"></span></div><div id=\"hideupda\" onmouseout=\"info_b2('notshow','');\" onmouseover=\"info_b2('show','Hide last update');\" style=\"float:left;\"><a href=\"javascript:hide_upd();\" style=\"color:white;\">[-]</a></div></th></tr>\n",
       "<tr><td colspan=\"13\" style=\"background: white;height: 1px\"></td></tr>\n",
       "<tr class=\"npages\" id=\"my_pagelist_0\"><td colspan=\"13\"><a class=\"sublink sublinka\" href=\"javascript:void()\" rel=\"nofollow\">1</a><a class=\"sublink\" href=\"/Earthquake/?view=2\">2</a><a class=\"sublink\" href=\"/Earthquake/?view=3\">3</a><a class=\"sublink\" href=\"/Earthquake/?view=4\">4</a><a class=\"sublink\" href=\"/Earthquake/?view=5\">5</a><a class=\"sublink\" href=\"/Earthquake/?view=6\">6</a><a class=\"sublink\" href=\"/Earthquake/?view=7\">7</a><a class=\"sublink\" href=\"/Earthquake/?view=8\">8</a><a class=\"sublink\" href=\"/Earthquake/?view=9\">9</a><a class=\"sublink\" href=\"/Earthquake/?view=10\">10</a><a alt=\"Next page\" class=\"sublink\" href=\"/Earthquake/?view=2\"></a><a alt=\"Next 10 pages\" class=\"sublink\" href=\"/Earthquake/?view=11\">»</a></td></tr></thead><tbody id=\"tbody\"><tr class=\"ligne1 normal\" id=\"915985\" onclick=\"go_details(event,915985);\"><td class=\"tabev0\"></td><td class=\"tabev0\"></td><td class=\"tabev0\"></td><td class=\"tabev6\"><b><i style=\"display:none;\">earthquake</i><a href=\"/Earthquake/earthquake.php?id=915985\">2020-10-30   17:02:37.0</a></b><i class=\"ago\" id=\"ago0\">13min ago</i></td><td class=\"tabev1\">37.79 </td><td class=\"tabev2\">N  </td><td class=\"tabev1\">26.86 </td><td class=\"tabev2\">E  </td><td class=\"tabev3\">5</td><td class=\"tabev5\" id=\"magtyp0\">ML</td><td class=\"tabev2\">3.1</td><td class=\"tb_region\" id=\"reg0\"> DODECANESE ISLANDS, GREECE</td><td class=\"comment updatetimeno\" id=\"upd0\" style=\"text-align:right;\">2020-10-30 17:11</td></tr>\n",
       "<tr class=\"ligne2 normal\" id=\"915979\" onclick=\"go_details(event,915979);\"><td class=\"tabev0\"></td><td class=\"tabev0\"></td><td class=\"tabev0\"><span class=\"intensity\" onclick=\"go_details(event,null,'https://www.emsc-csem.org/Earthquake/popup_intensmap.php?id=915979&amp;f=/FELTREPORTS/91/915979/IntensityMap.png');\" onmouseout=\"info_b2('notshow','');\" onmouseover=\"info_b2('show','See the &lt;b&gt; Intensity map&lt;/b&gt;');\" style=\"background-color:#FFFFFF;\">F</span></td><td class=\"tabev6\"><b><i style=\"display:none;\">earthquake</i><a href=\"/Earthquake/earthquake.php?id=915979\">2020-10-30   17:00:51.7</a></b><i class=\"ago\" id=\"ago1\">15min ago</i></td><td class=\"tabev1\">37.87 </td><td class=\"tabev2\">N  </td><td class=\"tabev1\">26.94 </td><td class=\"tabev2\">E  </td><td class=\"tabev3\">12</td><td class=\"tabev5\" id=\"magtyp1\">ML</td><td class=\"tabev2\">3.6</td><td class=\"tb_region\" id=\"reg1\"> DODECANESE ISLANDS, GREECE</td><td class=\"comment updatetimeno\" id=\"upd1\" style=\"text-align:right;\">2020-10-30 17:06</td></tr>\n",
       "<tr class=\"ligne1 normal\" id=\"915987\" onclick=\"go_details(event,915987);\"><td class=\"tabev0\"></td><td class=\"tabev0\"></td><td class=\"tabev0\"></td><td class=\"tabev6\"><b><i style=\"display:none;\">earthquake</i><a href=\"/Earthquake/earthquake.php?id=915987\">2020-10-30   16:54:43.4</a></b><i class=\"ago\" id=\"ago2\">21min ago</i></td><td class=\"tabev1\">37.88 </td><td class=\"tabev2\">N  </td><td class=\"tabev1\">26.49 </td><td class=\"tabev2\">E  </td><td class=\"tabev3\">7</td><td class=\"tabev5\" id=\"magtyp2\">ML</td><td class=\"tabev2\">3.0</td><td class=\"tb_region\" id=\"reg2\"> DODECANESE ISLANDS, GREECE</td><td class=\"comment updatetimeno\" id=\"upd2\" style=\"text-align:right;\">2020-10-30 17:13</td></tr>\n",
       "<tr class=\"ligne2 normal\" id=\"915984\" onclick=\"go_details(event,915984);\"><td class=\"tabev0\"></td><td class=\"tabev0\"></td><td class=\"tabev0\"><span class=\"intensity\" onclick=\"go_details(event,null,'https://www.emsc-csem.org/Earthquake/popup_intensmap.php?id=915984&amp;f=/FELTREPORTS/91/915984/IntensityMap.png');\" onmouseout=\"info_b2('notshow','');\" onmouseover=\"info_b2('show','See the &lt;b&gt; Intensity map&lt;/b&gt;');\" style=\"background-color:#FFFFFF;\">F</span></td><td class=\"tabev6\"><b><i style=\"display:none;\">earthquake</i><a href=\"/Earthquake/earthquake.php?id=915984\">2020-10-30   16:53:11.6</a></b><i class=\"ago\" id=\"ago3\">23min ago</i></td><td class=\"tabev1\">37.76 </td><td class=\"tabev2\">N  </td><td class=\"tabev1\">26.74 </td><td class=\"tabev2\">E  </td><td class=\"tabev3\">7</td><td class=\"tabev5\" id=\"magtyp3\">ML</td><td class=\"tabev2\">2.7</td><td class=\"tb_region\" id=\"reg3\"> DODECANESE ISLANDS, GREECE</td><td class=\"comment updatetimeno\" id=\"upd3\" style=\"text-align:right;\">2020-10-30 17:10</td></tr>\n",
       "<tr class=\"ligne1 normal\" id=\"915974\" onclick=\"go_details(event,915974);\"><td class=\"tabev0\"></td><td class=\"tabev0\"></td><td class=\"tabev0\"></td><td class=\"tabev6\"><b><i style=\"display:none;\">earthquake</i><a href=\"/Earthquake/earthquake.php?id=915974\">2020-10-30   16:49:16.8</a></b><i class=\"ago\" id=\"ago4\">27min ago</i></td><td class=\"tabev1\">37.85 </td><td class=\"tabev2\">N  </td><td class=\"tabev1\">27.00 </td><td class=\"tabev2\">E  </td><td class=\"tabev3\">10</td><td class=\"tabev5\" id=\"magtyp4\">ML</td><td class=\"tabev2\">3.3</td><td class=\"tb_region\" id=\"reg4\"> WESTERN TURKEY</td><td class=\"comment updatetimeno\" id=\"upd4\" style=\"text-align:right;\">2020-10-30 16:56</td></tr>\n",
       "<tr class=\"ligne2 normal\" id=\"915972\" onclick=\"go_details(event,915972);\"><td class=\"tabev0\"></td><td class=\"tabev0\"></td><td class=\"tabev0\"></td><td class=\"tabev6\"><b><i style=\"display:none;\">earthquake</i><a href=\"/Earthquake/earthquake.php?id=915972\">2020-10-30   16:47:59.8</a></b><i class=\"ago\" id=\"ago5\">28min ago</i></td><td class=\"tabev1\">37.90 </td><td class=\"tabev2\">N  </td><td class=\"tabev1\">26.92 </td><td class=\"tabev2\">E  </td><td class=\"tabev3\">0</td><td class=\"tabev5\" id=\"magtyp5\">ML</td><td class=\"tabev2\">3.0</td><td class=\"tb_region\" id=\"reg5\"> DODECANESE ISLANDS, GREECE</td><td class=\"comment updatetimeno\" id=\"upd5\" style=\"text-align:right;\">2020-10-30 16:51</td></tr>\n",
       "<tr class=\"ligne1 normal\" id=\"915982\" onclick=\"go_details(event,915982);\"><td class=\"tabev0\"></td><td class=\"tabev0\"></td><td class=\"tabev0\"></td><td class=\"tabev6\"><b><i style=\"display:none;\">earthquake</i><a href=\"/Earthquake/earthquake.php?id=915982\">2020-10-30   16:45:28.2</a></b><i class=\"ago\" id=\"ago6\">30min ago</i></td><td class=\"tabev1\">37.88 </td><td class=\"tabev2\">N  </td><td class=\"tabev1\">26.86 </td><td class=\"tabev2\">E  </td><td class=\"tabev3\">15</td><td class=\"tabev5\" id=\"magtyp6\">ML</td><td class=\"tabev2\">2.8</td><td class=\"tb_region\" id=\"reg6\"> DODECANESE ISLANDS, GREECE</td><td class=\"comment updatetimeno\" id=\"upd6\" style=\"text-align:right;\">2020-10-30 17:09</td></tr>\n",
       "<tr class=\"ligne2 normal\" id=\"915983\" onclick=\"go_details(event,915983);\"><td class=\"tabev0\"></td><td class=\"tabev0\"></td><td class=\"tabev0\"></td><td class=\"tabev6\"><b><i style=\"display:none;\">earthquake</i><a href=\"/Earthquake/earthquake.php?id=915983\">2020-10-30   16:43:35.0</a></b><i class=\"ago\" id=\"ago7\">32min ago</i></td><td class=\"tabev1\">37.86 </td><td class=\"tabev2\">N  </td><td class=\"tabev1\">26.93 </td><td class=\"tabev2\">E  </td><td class=\"tabev3\">7</td><td class=\"tabev5\" id=\"magtyp7\">ML</td><td class=\"tabev2\">2.6</td><td class=\"tb_region\" id=\"reg7\"> DODECANESE ISLANDS, GREECE</td><td class=\"comment updatetimeno\" id=\"upd7\" style=\"text-align:right;\">2020-10-30 17:07</td></tr>\n",
       "<tr class=\"ligne1 normal\" id=\"915977\" onclick=\"go_details(event,915977);\"><td class=\"tabev0\"></td><td class=\"tabev0\"></td><td class=\"tabev0\"></td><td class=\"tabev6\"><b><i style=\"display:none;\">earthquake</i><a href=\"/Earthquake/earthquake.php?id=915977\">2020-10-30   16:41:41.0</a></b><i class=\"ago\" id=\"ago8\">34min ago</i></td><td class=\"tabev1\">2.91 </td><td class=\"tabev2\">S  </td><td class=\"tabev1\">127.58 </td><td class=\"tabev2\">E  </td><td class=\"tabev3\">44</td><td class=\"tabev5\" id=\"magtyp8\"> M</td><td class=\"tabev2\">2.6</td><td class=\"tb_region\" id=\"reg8\"> CERAM SEA, INDONESIA</td><td class=\"comment updatetimeno\" id=\"upd8\" style=\"text-align:right;\">2020-10-30 17:00</td></tr>\n",
       "<tr class=\"ligne2 normal\" id=\"915967\" onclick=\"go_details(event,915967);\"><td class=\"tabev0\"></td><td class=\"tabev0\"></td><td class=\"tabev0\"><span class=\"intensity\" onclick=\"go_details(event,null,'https://www.emsc-csem.org/Earthquake/popup_intensmap.php?id=915967&amp;f=/FELTREPORTS/91/915967/IntensityMap.png');\" onmouseout=\"info_b2('notshow','');\" onmouseover=\"info_b2('show','See the &lt;b&gt; Intensity map&lt;/b&gt;');\" style=\"background-color:#FFFFFF;\">F</span></td><td class=\"tabev6\"><b><i style=\"display:none;\">earthquake</i><a href=\"/Earthquake/earthquake.php?id=915967\">2020-10-30   16:40:17.6</a></b><i class=\"ago\" id=\"ago9\">36min ago</i></td><td class=\"tabev1\">37.85 </td><td class=\"tabev2\">N  </td><td class=\"tabev1\">26.99 </td><td class=\"tabev2\">E  </td><td class=\"tabev3\">2</td><td class=\"tabev5\" id=\"magtyp9\">ML</td><td class=\"tabev2\">3.8</td><td class=\"tb_region\" id=\"reg9\"> DODECANESE ISLANDS, GREECE</td><td class=\"comment updatetimeno\" id=\"upd9\" style=\"text-align:right;\">2020-10-30 16:54</td></tr>\n",
       "<tr class=\"ligne1 normal\" id=\"915973\" onclick=\"go_details(event,915973);\"><td class=\"tabev0\"></td><td class=\"tabev0\"></td><td class=\"tabev0\"></td><td class=\"tabev6\"><b><i style=\"display:none;\">earthquake</i><a href=\"/Earthquake/earthquake.php?id=915973\">2020-10-30   16:39:30.0</a></b><i class=\"ago\" id=\"ago10\">36min ago</i></td><td class=\"tabev1\">37.50 </td><td class=\"tabev2\">N  </td><td class=\"tabev1\">141.40 </td><td class=\"tabev2\">E  </td><td class=\"tabev3\">40</td><td class=\"tabev5\" id=\"magtyp10\"> M</td><td class=\"tabev2\">3.8</td><td class=\"tb_region\" id=\"reg10\"> NEAR EAST COAST OF HONSHU, JAPAN</td><td class=\"comment updatetimeno\" id=\"upd10\" style=\"text-align:right;\">2020-10-30 16:50</td></tr>\n",
       "<tr class=\"ligne2 normal\" id=\"915965\" onclick=\"go_details(event,915965);\"><td class=\"tabev0\"></td><td class=\"tabev0\"></td><td class=\"tabev0\"><span class=\"intensity\" onclick=\"go_details(event,null,'https://www.emsc-csem.org/Earthquake/popup_intensmap.php?id=915965&amp;f=/FELTREPORTS/91/915965/IntensityMap.png');\" onmouseout=\"info_b2('notshow','');\" onmouseover=\"info_b2('show','See the &lt;b&gt; Intensity map&lt;/b&gt;');\" style=\"background-color:#FFFFFF;\">F</span></td><td class=\"tabev6\"><b><i style=\"display:none;\">earthquake</i><a href=\"/Earthquake/earthquake.php?id=915965\">2020-10-30   16:37:12.4</a></b><i class=\"ago\" id=\"ago11\">39min ago</i></td><td class=\"tabev1\">37.92 </td><td class=\"tabev2\">N  </td><td class=\"tabev1\">26.03 </td><td class=\"tabev2\">E  </td><td class=\"tabev3\">2</td><td class=\"tabev5\" id=\"magtyp11\">ML</td><td class=\"tabev2\">3.6</td><td class=\"tb_region\" id=\"reg11\"> DODECANESE ISLANDS, GREECE</td><td class=\"comment updatetimeno\" id=\"upd11\" style=\"text-align:right;\">2020-10-30 16:41</td></tr>\n",
       "<tr class=\"ligne1 normal\" id=\"915971\" onclick=\"go_details(event,915971);\"><td class=\"tabev0\"></td><td class=\"tabev0\"></td><td class=\"tabev0\"></td><td class=\"tabev6\"><b><i style=\"display:none;\">earthquake</i><a href=\"/Earthquake/earthquake.php?id=915971\">2020-10-30   16:35:15.0</a></b><i class=\"ago\" id=\"ago12\">41min ago</i></td><td class=\"tabev1\">9.26 </td><td class=\"tabev2\">N  </td><td class=\"tabev1\">126.88 </td><td class=\"tabev2\">E  </td><td class=\"tabev3\">17</td><td class=\"tabev5\" id=\"magtyp12\"> M</td><td class=\"tabev2\">3.6</td><td class=\"tb_region\" id=\"reg12\"> MINDANAO, PHILIPPINES</td><td class=\"comment updatetimeno\" id=\"upd12\" style=\"text-align:right;\">2020-10-30 16:45</td></tr>\n",
       "<tr class=\"ligne2 normal\" id=\"915976\" onclick=\"go_details(event,915976);\"><td class=\"tabev0\"></td><td class=\"tabev0\"></td><td class=\"tabev0\"></td><td class=\"tabev6\"><b><i style=\"display:none;\">earthquake</i><a href=\"/Earthquake/earthquake.php?id=915976\">2020-10-30   16:33:18.4</a></b><i class=\"ago\" id=\"ago13\">43min ago</i></td><td class=\"tabev1\">37.86 </td><td class=\"tabev2\">N  </td><td class=\"tabev1\">27.00 </td><td class=\"tabev2\">E  </td><td class=\"tabev3\">13</td><td class=\"tabev5\" id=\"magtyp13\">ML</td><td class=\"tabev2\">2.8</td><td class=\"tb_region\" id=\"reg13\"> WESTERN TURKEY</td><td class=\"comment updatetimeno\" id=\"upd13\" style=\"text-align:right;\">2020-10-30 16:58</td></tr>\n",
       "<tr class=\"ligne1 normal\" id=\"915980\" onclick=\"go_details(event,915980);\"><td class=\"tabev0\"></td><td class=\"tabev0\"></td><td class=\"tabev0\"></td><td class=\"tabev6\"><b><i style=\"display:none;\">earthquake</i><a href=\"/Earthquake/earthquake.php?id=915980\">2020-10-30   16:31:10.6</a></b><i class=\"ago\" id=\"ago14\">45min ago</i></td><td class=\"tabev1\">37.78 </td><td class=\"tabev2\">N  </td><td class=\"tabev1\">26.89 </td><td class=\"tabev2\">E  </td><td class=\"tabev3\">7</td><td class=\"tabev5\" id=\"magtyp14\">ML</td><td class=\"tabev2\">2.9</td><td class=\"tb_region\" id=\"reg14\"> DODECANESE ISLANDS, GREECE</td><td class=\"comment updatetimeno\" id=\"upd14\" style=\"text-align:right;\">2020-10-30 17:05</td></tr>\n",
       "<tr class=\"ligne2 normal\" id=\"915978\" onclick=\"go_details(event,915978);\"><td class=\"tabev0\"></td><td class=\"tabev0\"></td><td class=\"tabev0\"></td><td class=\"tabev6\"><b><i style=\"display:none;\">earthquake</i><a href=\"/Earthquake/earthquake.php?id=915978\">2020-10-30   16:30:05.2</a></b><i class=\"ago\" id=\"ago15\">46min ago</i></td><td class=\"tabev1\">37.83 </td><td class=\"tabev2\">N  </td><td class=\"tabev1\">26.89 </td><td class=\"tabev2\">E  </td><td class=\"tabev3\">7</td><td class=\"tabev5\" id=\"magtyp15\">ML</td><td class=\"tabev2\">3.0</td><td class=\"tb_region\" id=\"reg15\"> DODECANESE ISLANDS, GREECE</td><td class=\"comment updatetimeno\" id=\"upd15\" style=\"text-align:right;\">2020-10-30 17:02</td></tr>\n",
       "<tr class=\"ligne1 normal\" id=\"915958\" onclick=\"go_details(event,915958);\"><td class=\"tabev0\"></td><td class=\"tabev0\"></td><td class=\"tabev0\"></td><td class=\"tabev6\"><b><i style=\"display:none;\">earthquake</i><a href=\"/Earthquake/earthquake.php?id=915958\">2020-10-30   16:28:47.5</a></b><i class=\"ago\" id=\"ago16\">47min ago</i></td><td class=\"tabev1\">37.80 </td><td class=\"tabev2\">N  </td><td class=\"tabev1\">26.82 </td><td class=\"tabev2\">E  </td><td class=\"tabev3\">5</td><td class=\"tabev5\" id=\"magtyp16\">ML</td><td class=\"tabev2\">3.6</td><td class=\"tb_region\" id=\"reg16\"> DODECANESE ISLANDS, GREECE</td><td class=\"comment updatetimeno\" id=\"upd16\" style=\"text-align:right;\">2020-10-30 17:02</td></tr>\n",
       "<tr class=\"ligne2 normal\" id=\"915970\" onclick=\"go_details(event,915970);\"><td class=\"tabev0\"></td><td class=\"tabev0\"></td><td class=\"tabev0\"></td><td class=\"tabev6\"><b><i style=\"display:none;\">earthquake</i><a href=\"/Earthquake/earthquake.php?id=915970\">2020-10-30   16:25:32.7</a></b><i class=\"ago\" id=\"ago17\">50min ago</i></td><td class=\"tabev1\">37.76 </td><td class=\"tabev2\">N  </td><td class=\"tabev1\">26.76 </td><td class=\"tabev2\">E  </td><td class=\"tabev3\">5</td><td class=\"tabev5\" id=\"magtyp17\">ML</td><td class=\"tabev2\">2.7</td><td class=\"tb_region\" id=\"reg17\"> DODECANESE ISLANDS, GREECE</td><td class=\"comment updatetimeno\" id=\"upd17\" style=\"text-align:right;\">2020-10-30 16:45</td></tr>\n",
       "<tr class=\"ligne1 normal\" id=\"915954\" onclick=\"go_details(event,915954);\"><td class=\"tabev0\" style=\"text-align:center;\"><a href=\"https://www.emsc-csem.org/Earthquake/Testimonies/comments.php?id=915954\" onmouseout=\"info_b2('notshow','');\" onmouseover=\"info_b2('show','See the &lt;b&gt;13 testimonies&lt;/b&gt; for this earthquake');\"><span class=\"\" style=\"vertical-align:middle;\">13</span></a></td><td class=\"tabev0\"></td><td class=\"tabev0\"><span class=\"intensity\" onclick=\"go_details(event,null,'https://www.emsc-csem.org/Earthquake/popup_intensmap.php?id=915954&amp;f=/FELTREPORTS/91/915954/IntensityMap.png');\" onmouseout=\"info_b2('notshow','');\" onmouseover=\"info_b2('show','See the &lt;b&gt; Intensity map&lt;/b&gt;');\" style=\"background-color:#00FFFF;\">IV</span></td><td class=\"tabev6\"><b><i style=\"display:none;\">earthquake</i><a href=\"/Earthquake/earthquake.php?id=915954\">2020-10-30   16:18:28.3</a></b><i class=\"ago\" id=\"ago18\">57min ago</i></td><td class=\"tabev1\">37.67 </td><td class=\"tabev2\">N  </td><td class=\"tabev1\">27.21 </td><td class=\"tabev2\">E  </td><td class=\"tabev3\">12</td><td class=\"tabev5\" id=\"magtyp18\">ML</td><td class=\"tabev2\">3.9</td><td class=\"tb_region\" id=\"reg18\"> WESTERN TURKEY</td><td class=\"comment updatetimeno\" id=\"upd18\" style=\"text-align:right;\">2020-10-30 16:26</td></tr>\n",
       "<tr class=\"ligne2 normal\" id=\"915969\" onclick=\"go_details(event,915969);\"><td class=\"tabev0\"></td><td class=\"tabev0\"></td><td class=\"tabev0\"></td><td class=\"tabev6\"><b><i style=\"display:none;\">earthquake</i><a href=\"/Earthquake/earthquake.php?id=915969\">2020-10-30   16:15:22.5</a></b><i class=\"ago\" id=\"ago19\">1hr 01min ago</i></td><td class=\"tabev1\">37.81 </td><td class=\"tabev2\">N  </td><td class=\"tabev1\">27.01 </td><td class=\"tabev2\">E  </td><td class=\"tabev3\">7</td><td class=\"tabev5\" id=\"magtyp19\">ML</td><td class=\"tabev2\">2.6</td><td class=\"tb_region\" id=\"reg19\"> WESTERN TURKEY</td><td class=\"comment updatetimeno\" id=\"upd19\" style=\"text-align:right;\">2020-10-30 16:43</td></tr>\n",
       "<tr class=\"ligne1 normal\" id=\"915975\" onclick=\"go_details(event,915975);\"><td class=\"tabev0\"></td><td class=\"tabev0\"></td><td class=\"tabev0\"><span class=\"intensity\" onclick=\"go_details(event,null,'https://www.emsc-csem.org/Earthquake/popup_intensmap.php?id=915975&amp;f=/FELTREPORTS/91/915975/IntensityMap.png');\" onmouseout=\"info_b2('notshow','');\" onmouseover=\"info_b2('show','See the &lt;b&gt; Intensity map&lt;/b&gt;');\" style=\"background-color:#FFFFFF;\">F</span></td><td class=\"tabev6\"><b><i style=\"display:none;\">earthquake</i><a href=\"/Earthquake/earthquake.php?id=915975\">2020-10-30   16:14:38.2</a></b><i class=\"ago\" id=\"ago20\">1hr 01min ago</i></td><td class=\"tabev1\">37.84 </td><td class=\"tabev2\">N  </td><td class=\"tabev1\">26.95 </td><td class=\"tabev2\">E  </td><td class=\"tabev3\">9</td><td class=\"tabev5\" id=\"magtyp20\">ML</td><td class=\"tabev2\">2.6</td><td class=\"tb_region\" id=\"reg20\"> DODECANESE ISLANDS, GREECE</td><td class=\"comment updatetimeno\" id=\"upd20\" style=\"text-align:right;\">2020-10-30 16:57</td></tr>\n",
       "<tr class=\"ligne2 normal\" id=\"915956\" onclick=\"go_details(event,915956);\"><td class=\"tabev0\"></td><td class=\"tabev0\"></td><td class=\"tabev0\"></td><td class=\"tabev6\"><b><i style=\"display:none;\">earthquake</i><a href=\"/Earthquake/earthquake.php?id=915956\">2020-10-30   16:11:53.0</a></b><i class=\"ago\" id=\"ago21\">1hr 04min ago</i></td><td class=\"tabev1\">5.63 </td><td class=\"tabev2\">N  </td><td class=\"tabev1\">125.78 </td><td class=\"tabev2\">E  </td><td class=\"tabev3\">183</td><td class=\"tabev5\" id=\"magtyp21\"> M</td><td class=\"tabev2\">3.3</td><td class=\"tb_region\" id=\"reg21\"> MINDANAO, PHILIPPINES</td><td class=\"comment updatetimeno\" id=\"upd21\" style=\"text-align:right;\">2020-10-30 16:20</td></tr>\n",
       "<tr class=\"ligne1 normal\" id=\"915960\" onclick=\"go_details(event,915960);\"><td class=\"tabev0\"></td><td class=\"tabev0\"></td><td class=\"tabev0\"></td><td class=\"tabev6\"><b><i style=\"display:none;\">earthquake</i><a href=\"/Earthquake/earthquake.php?id=915960\">2020-10-30   16:10:40.6</a></b><i class=\"ago\" id=\"ago22\">1hr 05min ago</i></td><td class=\"tabev1\">37.83 </td><td class=\"tabev2\">N  </td><td class=\"tabev1\">26.82 </td><td class=\"tabev2\">E  </td><td class=\"tabev3\">7</td><td class=\"tabev5\" id=\"magtyp22\">ML</td><td class=\"tabev2\">3.2</td><td class=\"tb_region\" id=\"reg22\"> DODECANESE ISLANDS, GREECE</td><td class=\"comment updatetimeno\" id=\"upd22\" style=\"text-align:right;\">2020-10-30 16:48</td></tr>\n",
       "<tr class=\"ligne2 normal\" id=\"915962\" onclick=\"go_details(event,915962);\"><td class=\"tabev0\"></td><td class=\"tabev0\"></td><td class=\"tabev0\"></td><td class=\"tabev6\"><b><i style=\"display:none;\">earthquake</i><a href=\"/Earthquake/earthquake.php?id=915962\">2020-10-30   16:08:57.6</a></b><i class=\"ago\" id=\"ago23\">1hr 07min ago</i></td><td class=\"tabev1\">37.89 </td><td class=\"tabev2\">N  </td><td class=\"tabev1\">26.98 </td><td class=\"tabev2\">E  </td><td class=\"tabev3\">10</td><td class=\"tabev5\" id=\"magtyp23\">ML</td><td class=\"tabev2\">2.8</td><td class=\"tb_region\" id=\"reg23\"> DODECANESE ISLANDS, GREECE</td><td class=\"comment updatetimeno\" id=\"upd23\" style=\"text-align:right;\">2020-10-30 16:46</td></tr>\n",
       "<tr class=\"ligne1 normal\" id=\"915963\" onclick=\"go_details(event,915963);\"><td class=\"tabev0\"></td><td class=\"tabev0\"></td><td class=\"tabev0\"></td><td class=\"tabev6\"><b><i style=\"display:none;\">earthquake</i><a href=\"/Earthquake/earthquake.php?id=915963\">2020-10-30   16:06:45.6</a></b><i class=\"ago\" id=\"ago24\">1hr 09min ago</i></td><td class=\"tabev1\">37.90 </td><td class=\"tabev2\">N  </td><td class=\"tabev1\">26.94 </td><td class=\"tabev2\">E  </td><td class=\"tabev3\">7</td><td class=\"tabev5\" id=\"magtyp24\">ML</td><td class=\"tabev2\">2.7</td><td class=\"tb_region\" id=\"reg24\"> DODECANESE ISLANDS, GREECE</td><td class=\"comment updatetimeno\" id=\"upd24\" style=\"text-align:right;\">2020-10-30 16:37</td></tr>\n",
       "<tr class=\"ligne2 normal\" id=\"915943\" onclick=\"go_details(event,915943);\"><td class=\"tabev0\"></td><td class=\"tabev0\"></td><td class=\"tabev0\"></td><td class=\"tabev6\"><b><i style=\"display:none;\">earthquake</i><a href=\"/Earthquake/earthquake.php?id=915943\">2020-10-30   16:05:57.7</a></b><i class=\"ago\" id=\"ago25\">1hr 10min ago</i></td><td class=\"tabev1\">36.18 </td><td class=\"tabev2\">N  </td><td class=\"tabev1\">117.39 </td><td class=\"tabev2\">W  </td><td class=\"tabev3\">2</td><td class=\"tabev5\" id=\"magtyp25\">ML</td><td class=\"tabev2\">2.1</td><td class=\"tb_region\" id=\"reg25\"> CENTRAL CALIFORNIA</td><td class=\"comment updatetimeno\" id=\"upd25\" style=\"text-align:right;\">2020-10-30 16:09</td></tr>\n",
       "<tr class=\"ligne1 normal\" id=\"915959\" onclick=\"go_details(event,915959);\"><td class=\"tabev0\"></td><td class=\"tabev0\"></td><td class=\"tabev0\"></td><td class=\"tabev6\"><b><i style=\"display:none;\">earthquake</i><a href=\"/Earthquake/earthquake.php?id=915959\">2020-10-30   16:05:46.0</a></b><i class=\"ago\" id=\"ago26\">1hr 10min ago</i></td><td class=\"tabev1\">24.25 </td><td class=\"tabev2\">S  </td><td class=\"tabev1\">67.74 </td><td class=\"tabev2\">W  </td><td class=\"tabev3\">203</td><td class=\"tabev5\" id=\"magtyp26\">ML</td><td class=\"tabev2\">3.1</td><td class=\"tb_region\" id=\"reg26\"> SALTA, ARGENTINA</td><td class=\"comment updatetimeno\" id=\"upd26\" style=\"text-align:right;\">2020-10-30 16:34</td></tr>\n",
       "<tr class=\"ligne2 normal\" id=\"915964\" onclick=\"go_details(event,915964);\"><td class=\"tabev0\"></td><td class=\"tabev0\"></td><td class=\"tabev0\"></td><td class=\"tabev6\"><b><i style=\"display:none;\">earthquake</i><a href=\"/Earthquake/earthquake.php?id=915964\">2020-10-30   16:04:34.3</a></b><i class=\"ago\" id=\"ago27\">1hr 11min ago</i></td><td class=\"tabev1\">37.88 </td><td class=\"tabev2\">N  </td><td class=\"tabev1\">26.84 </td><td class=\"tabev2\">E  </td><td class=\"tabev3\">7</td><td class=\"tabev5\" id=\"magtyp27\">ML</td><td class=\"tabev2\">2.3</td><td class=\"tb_region\" id=\"reg27\"> DODECANESE ISLANDS, GREECE</td><td class=\"comment updatetimeno\" id=\"upd27\" style=\"text-align:right;\">2020-10-30 16:38</td></tr>\n",
       "<tr class=\"ligne1 normal\" id=\"915966\" onclick=\"go_details(event,915966);\"><td class=\"tabev0\"></td><td class=\"tabev0\"></td><td class=\"tabev0\"><span class=\"intensity\" onclick=\"go_details(event,null,'https://www.emsc-csem.org/Earthquake/popup_intensmap.php?id=915966&amp;f=/FELTREPORTS/91/915966/IntensityMap.png');\" onmouseout=\"info_b2('notshow','');\" onmouseover=\"info_b2('show','See the &lt;b&gt; Intensity map&lt;/b&gt;');\" style=\"background-color:#FFFFFF;\">F</span></td><td class=\"tabev6\"><b><i style=\"display:none;\">earthquake</i><a href=\"/Earthquake/earthquake.php?id=915966\">2020-10-30   16:02:50.5</a></b><i class=\"ago\" id=\"ago28\">1hr 13min ago</i></td><td class=\"tabev1\">37.87 </td><td class=\"tabev2\">N  </td><td class=\"tabev1\">26.78 </td><td class=\"tabev2\">E  </td><td class=\"tabev3\">7</td><td class=\"tabev5\" id=\"magtyp28\">ML</td><td class=\"tabev2\">2.8</td><td class=\"tb_region\" id=\"reg28\"> DODECANESE ISLANDS, GREECE</td><td class=\"comment updatetimeno\" id=\"upd28\" style=\"text-align:right;\">2020-10-30 16:41</td></tr>\n",
       "<tr class=\"ligne2 normal\" id=\"915968\" onclick=\"go_details(event,915968);\"><td class=\"tabev0\"></td><td class=\"tabev0\"></td><td class=\"tabev0\"></td><td class=\"tabev6\"><b><i style=\"display:none;\">earthquake</i><a href=\"/Earthquake/earthquake.php?id=915968\">2020-10-30   16:01:35.6</a></b><i class=\"ago\" id=\"ago29\">1hr 14min ago</i></td><td class=\"tabev1\">37.90 </td><td class=\"tabev2\">N  </td><td class=\"tabev1\">26.84 </td><td class=\"tabev2\">E  </td><td class=\"tabev3\">8</td><td class=\"tabev5\" id=\"magtyp29\">ML</td><td class=\"tabev2\">2.8</td><td class=\"tb_region\" id=\"reg29\"> DODECANESE ISLANDS, GREECE</td><td class=\"comment updatetimeno\" id=\"upd29\" style=\"text-align:right;\">2020-10-30 16:43</td></tr>\n",
       "<tr class=\"ligne1 normal\" id=\"915952\" onclick=\"go_details(event,915952);\"><td class=\"tabev0\"></td><td class=\"tabev0\"></td><td class=\"tabev0\"></td><td class=\"tabev6\"><b><i style=\"display:none;\">earthquake</i><a href=\"/Earthquake/earthquake.php?id=915952\">2020-10-30   16:01:06.0</a></b><i class=\"ago\" id=\"ago30\">1hr 15min ago</i></td><td class=\"tabev1\">20.93 </td><td class=\"tabev2\">S  </td><td class=\"tabev1\">70.44 </td><td class=\"tabev2\">W  </td><td class=\"tabev3\">60</td><td class=\"tabev5\" id=\"magtyp30\">ML</td><td class=\"tabev2\">3.1</td><td class=\"tb_region\" id=\"reg30\"> OFFSHORE TARAPACA, CHILE</td><td class=\"comment updatetimeno\" id=\"upd30\" style=\"text-align:right;\">2020-10-30 16:17</td></tr>\n",
       "<tr class=\"ligne2 normal\" id=\"915947\" onclick=\"go_details(event,915947);\"><td class=\"tabev0\"></td><td class=\"tabev0\"></td><td class=\"tabev0\"></td><td class=\"tabev6\"><b><i style=\"display:none;\">earthquake</i><a href=\"/Earthquake/earthquake.php?id=915947\">2020-10-30   15:58:24.1</a></b><i class=\"ago\" id=\"ago31\">1hr 17min ago</i></td><td class=\"tabev1\">37.82 </td><td class=\"tabev2\">N  </td><td class=\"tabev1\">26.78 </td><td class=\"tabev2\">E  </td><td class=\"tabev3\">5</td><td class=\"tabev5\" id=\"magtyp31\">ML</td><td class=\"tabev2\">3.0</td><td class=\"tb_region\" id=\"reg31\"> DODECANESE ISLANDS, GREECE</td><td class=\"comment updatetimeno\" id=\"upd31\" style=\"text-align:right;\">2020-10-30 16:34</td></tr>\n",
       "<tr class=\"ligne1 normal\" id=\"915948\" onclick=\"go_details(event,915948);\"><td class=\"tabev0\"></td><td class=\"tabev0\"></td><td class=\"tabev0\"></td><td class=\"tabev6\"><b><i style=\"display:none;\">earthquake</i><a href=\"/Earthquake/earthquake.php?id=915948\">2020-10-30   15:54:05.1</a></b><i class=\"ago\" id=\"ago32\">1hr 22min ago</i></td><td class=\"tabev1\">37.76 </td><td class=\"tabev2\">N  </td><td class=\"tabev1\">26.77 </td><td class=\"tabev2\">E  </td><td class=\"tabev3\">8</td><td class=\"tabev5\" id=\"magtyp32\">ML</td><td class=\"tabev2\">2.7</td><td class=\"tb_region\" id=\"reg32\"> DODECANESE ISLANDS, GREECE</td><td class=\"comment updatetimeno\" id=\"upd32\" style=\"text-align:right;\">2020-10-30 16:31</td></tr>\n",
       "<tr class=\"ligne2 normal\" id=\"915957\" onclick=\"go_details(event,915957);\"><td class=\"tabev0\"></td><td class=\"tabev0\"></td><td class=\"tabev0\"></td><td class=\"tabev6\"><b><i style=\"display:none;\">earthquake</i><a href=\"/Earthquake/earthquake.php?id=915957\">2020-10-30   15:52:47.8</a></b><i class=\"ago\" id=\"ago33\">1hr 23min ago</i></td><td class=\"tabev1\">37.72 </td><td class=\"tabev2\">N  </td><td class=\"tabev1\">27.11 </td><td class=\"tabev2\">E  </td><td class=\"tabev3\">7</td><td class=\"tabev5\" id=\"magtyp33\">ML</td><td class=\"tabev2\">3.3</td><td class=\"tb_region\" id=\"reg33\"> WESTERN TURKEY</td><td class=\"comment updatetimeno\" id=\"upd33\" style=\"text-align:right;\">2020-10-30 16:27</td></tr>\n",
       "<tr class=\"ligne1 normal\" id=\"915949\" onclick=\"go_details(event,915949);\"><td class=\"tabev0\"></td><td class=\"tabev0\"></td><td class=\"tabev0\"></td><td class=\"tabev6\"><b><i style=\"display:none;\">earthquake</i><a href=\"/Earthquake/earthquake.php?id=915949\">2020-10-30   15:51:43.1</a></b><i class=\"ago\" id=\"ago34\">1hr 24min ago</i></td><td class=\"tabev1\">37.96 </td><td class=\"tabev2\">N  </td><td class=\"tabev1\">26.76 </td><td class=\"tabev2\">E  </td><td class=\"tabev3\">2</td><td class=\"tabev5\" id=\"magtyp34\">ML</td><td class=\"tabev2\">2.9</td><td class=\"tb_region\" id=\"reg34\"> DODECANESE ISLANDS, GREECE</td><td class=\"comment updatetimeno\" id=\"upd34\" style=\"text-align:right;\">2020-10-30 16:26</td></tr>\n",
       "<tr class=\"ligne2 normal\" id=\"915951\" onclick=\"go_details(event,915951);\"><td class=\"tabev0\"></td><td class=\"tabev0\"></td><td class=\"tabev0\"></td><td class=\"tabev6\"><b><i style=\"display:none;\">earthquake</i><a href=\"/Earthquake/earthquake.php?id=915951\">2020-10-30   15:49:45.2</a></b><i class=\"ago\" id=\"ago35\">1hr 26min ago</i></td><td class=\"tabev1\">37.82 </td><td class=\"tabev2\">N  </td><td class=\"tabev1\">26.85 </td><td class=\"tabev2\">E  </td><td class=\"tabev3\">7</td><td class=\"tabev5\" id=\"magtyp35\">ML</td><td class=\"tabev2\">3.3</td><td class=\"tb_region\" id=\"reg35\"> DODECANESE ISLANDS, GREECE</td><td class=\"comment updatetimeno\" id=\"upd35\" style=\"text-align:right;\">2020-10-30 16:21</td></tr>\n",
       "<tr class=\"ligne1 normal\" id=\"915942\" onclick=\"go_details(event,915942);\"><td class=\"tabev0\"></td><td class=\"tabev0\"></td><td class=\"tabev0\"></td><td class=\"tabev6\"><b><i style=\"display:none;\">earthquake</i><a href=\"/Earthquake/earthquake.php?id=915942\">2020-10-30   15:47:55.9</a></b><i class=\"ago\" id=\"ago36\">1hr 28min ago</i></td><td class=\"tabev1\">37.82 </td><td class=\"tabev2\">N  </td><td class=\"tabev1\">26.90 </td><td class=\"tabev2\">E  </td><td class=\"tabev3\">10</td><td class=\"tabev5\" id=\"magtyp36\">ML</td><td class=\"tabev2\">3.0</td><td class=\"tb_region\" id=\"reg36\"> DODECANESE ISLANDS, GREECE</td><td class=\"comment updatetimeno\" id=\"upd36\" style=\"text-align:right;\">2020-10-30 16:16</td></tr>\n",
       "<tr class=\"ligne2 normal\" id=\"915945\" onclick=\"go_details(event,915945);\"><td class=\"tabev0\"></td><td class=\"tabev0\"></td><td class=\"tabev0\"><span class=\"intensity\" onclick=\"go_details(event,null,'https://www.emsc-csem.org/Earthquake/popup_intensmap.php?id=915945&amp;f=/FELTREPORTS/91/915945/IntensityMap.png');\" onmouseout=\"info_b2('notshow','');\" onmouseover=\"info_b2('show','See the &lt;b&gt; Intensity map&lt;/b&gt;');\" style=\"background-color:#FFFFFF;\">F</span></td><td class=\"tabev6\"><b><i style=\"display:none;\">earthquake</i><a href=\"/Earthquake/earthquake.php?id=915945\">2020-10-30   15:46:50.4</a></b><i class=\"ago\" id=\"ago37\">1hr 29min ago</i></td><td class=\"tabev1\">37.83 </td><td class=\"tabev2\">N  </td><td class=\"tabev1\">26.97 </td><td class=\"tabev2\">E  </td><td class=\"tabev3\">2</td><td class=\"tabev5\" id=\"magtyp37\">ML</td><td class=\"tabev2\">2.9</td><td class=\"tb_region\" id=\"reg37\"> DODECANESE ISLANDS, GREECE</td><td class=\"comment updatetimeno\" id=\"upd37\" style=\"text-align:right;\">2020-10-30 16:11</td></tr>\n",
       "<tr class=\"ligne1 normal\" id=\"915953\" onclick=\"go_details(event,915953);\"><td class=\"tabev0\"></td><td class=\"tabev0\"></td><td class=\"tabev0\"><span class=\"intensity\" onclick=\"go_details(event,null,'https://www.emsc-csem.org/Earthquake/popup_intensmap.php?id=915953&amp;f=/FELTREPORTS/91/915953/IntensityMap.png');\" onmouseout=\"info_b2('notshow','');\" onmouseover=\"info_b2('show','See the &lt;b&gt; Intensity map&lt;/b&gt;');\" style=\"background-color:#FFFFFF;\">F</span></td><td class=\"tabev6\"><b><i style=\"display:none;\">earthquake</i><a href=\"/Earthquake/earthquake.php?id=915953\">2020-10-30   15:44:04.0</a></b><i class=\"ago\" id=\"ago38\">1hr 32min ago</i></td><td class=\"tabev1\">37.89 </td><td class=\"tabev2\">N  </td><td class=\"tabev1\">26.80 </td><td class=\"tabev2\">E  </td><td class=\"tabev3\">7</td><td class=\"tabev5\" id=\"magtyp38\">ML</td><td class=\"tabev2\">2.8</td><td class=\"tb_region\" id=\"reg38\"> DODECANESE ISLANDS, GREECE</td><td class=\"comment updatetimeno\" id=\"upd38\" style=\"text-align:right;\">2020-10-30 16:18</td></tr>\n",
       "<tr class=\"ligne2 normal\" id=\"915955\" onclick=\"go_details(event,915955);\"><td class=\"tabev0\"></td><td class=\"tabev0\"></td><td class=\"tabev0\"><span class=\"intensity\" onclick=\"go_details(event,null,'https://www.emsc-csem.org/Earthquake/popup_intensmap.php?id=915955&amp;f=/FELTREPORTS/91/915955/IntensityMap.png');\" onmouseout=\"info_b2('notshow','');\" onmouseover=\"info_b2('show','See the &lt;b&gt; Intensity map&lt;/b&gt;');\" style=\"background-color:#FFFFFF;\">F</span></td><td class=\"tabev6\"><b><i style=\"display:none;\">earthquake</i><a href=\"/Earthquake/earthquake.php?id=915955\">2020-10-30   15:40:23.6</a></b><i class=\"ago\" id=\"ago39\">1hr 35min ago</i></td><td class=\"tabev1\">37.86 </td><td class=\"tabev2\">N  </td><td class=\"tabev1\">26.93 </td><td class=\"tabev2\">E  </td><td class=\"tabev3\">7</td><td class=\"tabev5\" id=\"magtyp39\">ML</td><td class=\"tabev2\">2.5</td><td class=\"tb_region\" id=\"reg39\"> DODECANESE ISLANDS, GREECE</td><td class=\"comment updatetimeno\" id=\"upd39\" style=\"text-align:right;\">2020-10-30 16:20</td></tr>\n",
       "<tr class=\"ligne1 normal\" id=\"915941\" onclick=\"go_details(event,915941);\"><td class=\"tabev0\"></td><td class=\"tabev0\"></td><td class=\"tabev0\"><span class=\"intensity\" onclick=\"go_details(event,null,'https://www.emsc-csem.org/Earthquake/popup_intensmap.php?id=915941&amp;f=/FELTREPORTS/91/915941/IntensityMap.png');\" onmouseout=\"info_b2('notshow','');\" onmouseover=\"info_b2('show','See the &lt;b&gt; Intensity map&lt;/b&gt;');\" style=\"background-color:#FFFFFF;\">F</span></td><td class=\"tabev6\"><b><i style=\"display:none;\">earthquake</i><a href=\"/Earthquake/earthquake.php?id=915941\">2020-10-30   15:33:23.3</a></b><i class=\"ago\" id=\"ago40\">1hr 42min ago</i></td><td class=\"tabev1\">37.85 </td><td class=\"tabev2\">N  </td><td class=\"tabev1\">26.90 </td><td class=\"tabev2\">E  </td><td class=\"tabev3\">10</td><td class=\"tabev5\" id=\"magtyp40\">ML</td><td class=\"tabev2\">3.0</td><td class=\"tb_region\" id=\"reg40\"> DODECANESE ISLANDS, GREECE</td><td class=\"comment updatetimeno\" id=\"upd40\" style=\"text-align:right;\">2020-10-30 16:15</td></tr>\n",
       "<tr class=\"ligne2 normal\" id=\"915930\" onclick=\"go_details(event,915930);\"><td class=\"tabev0\"></td><td class=\"tabev0\"></td><td class=\"tabev0\"><span class=\"intensity\" onclick=\"go_details(event,null,'https://www.emsc-csem.org/Earthquake/popup_intensmap.php?id=915930&amp;f=/FELTREPORTS/91/915930/IntensityMap.png');\" onmouseout=\"info_b2('notshow','');\" onmouseover=\"info_b2('show','See the &lt;b&gt; Intensity map&lt;/b&gt;');\" style=\"background-color:#FFFFFF;\">F</span></td><td class=\"tabev6\"><b><i style=\"display:none;\">earthquake</i><a href=\"/Earthquake/earthquake.php?id=915930\">2020-10-30   15:30:47.3</a></b><i class=\"ago\" id=\"ago41\">1hr 45min ago</i></td><td class=\"tabev1\">37.76 </td><td class=\"tabev2\">N  </td><td class=\"tabev1\">27.10 </td><td class=\"tabev2\">E  </td><td class=\"tabev3\">6</td><td class=\"tabev5\" id=\"magtyp41\">ML</td><td class=\"tabev2\">3.1</td><td class=\"tb_region\" id=\"reg41\"> WESTERN TURKEY</td><td class=\"comment updatetimeno\" id=\"upd41\" style=\"text-align:right;\">2020-10-30 15:35</td></tr>\n",
       "<tr class=\"ligne1 normal\" id=\"915934\" onclick=\"go_details(event,915934);\"><td class=\"tabev0\"></td><td class=\"tabev0\"></td><td class=\"tabev0\"></td><td class=\"tabev6\"><b><i style=\"display:none;\">earthquake</i><a href=\"/Earthquake/earthquake.php?id=915934\">2020-10-30   15:26:27.0</a></b><i class=\"ago\" id=\"ago42\">1hr 49min ago</i></td><td class=\"tabev1\">38.68 </td><td class=\"tabev2\">N  </td><td class=\"tabev1\">30.60 </td><td class=\"tabev2\">W  </td><td class=\"tabev3\">10</td><td class=\"tabev5\" id=\"magtyp42\">ML</td><td class=\"tabev2\">4.0</td><td class=\"tb_region\" id=\"reg42\"> AZORES ISLANDS, PORTUGAL</td><td class=\"comment updatetimeno\" id=\"upd42\" style=\"text-align:right;\">2020-10-30 15:38</td></tr>\n",
       "<tr class=\"ligne2 normal\" id=\"915932\" onclick=\"go_details(event,915932);\"><td class=\"tabev0\"></td><td class=\"tabev0\"></td><td class=\"tabev0\"></td><td class=\"tabev6\"><b><i style=\"display:none;\">earthquake</i><a href=\"/Earthquake/earthquake.php?id=915932\">2020-10-30   15:25:53.2</a></b><i class=\"ago\" id=\"ago43\">1hr 50min ago</i></td><td class=\"tabev1\">37.89 </td><td class=\"tabev2\">N  </td><td class=\"tabev1\">26.90 </td><td class=\"tabev2\">E  </td><td class=\"tabev3\">10</td><td class=\"tabev5\" id=\"magtyp43\">ML</td><td class=\"tabev2\">3.4</td><td class=\"tb_region\" id=\"reg43\"> DODECANESE ISLANDS, GREECE</td><td class=\"comment updatetimeno\" id=\"upd43\" style=\"text-align:right;\">2020-10-30 15:36</td></tr>\n",
       "<tr class=\"ligne1 normal\" id=\"915927\" onclick=\"go_details(event,915927);\"><td class=\"tabev0\" style=\"text-align:center;\"><a href=\"https://www.emsc-csem.org/Earthquake/Testimonies/comments.php?id=915927\" onmouseout=\"info_b2('notshow','');\" onmouseover=\"info_b2('show','See the &lt;b&gt;3 testimonies&lt;/b&gt; for this earthquake');\"><span class=\"\" style=\"vertical-align:middle;\">3</span></a></td><td class=\"tabev0\"></td><td class=\"tabev0\"><span class=\"intensity\" onclick=\"go_details(event,null,'https://www.emsc-csem.org/Earthquake/popup_intensmap.php?id=915927&amp;f=/FELTREPORTS/91/915927/IntensityMap.png');\" onmouseout=\"info_b2('notshow','');\" onmouseover=\"info_b2('show','See the &lt;b&gt; Intensity map&lt;/b&gt;');\" style=\"background-color:#FFFF00;\">VI</span></td><td class=\"tabev6\"><b><i style=\"display:none;\">earthquake</i><a href=\"/Earthquake/earthquake.php?id=915927\">2020-10-30   15:24:34.6</a></b><i class=\"ago\" id=\"ago44\">1hr 51min ago</i></td><td class=\"tabev1\">37.88 </td><td class=\"tabev2\">N  </td><td class=\"tabev1\">26.87 </td><td class=\"tabev2\">E  </td><td class=\"tabev3\">5</td><td class=\"tabev5\" id=\"magtyp44\">ML</td><td class=\"tabev2\">4.0</td><td class=\"tb_region\" id=\"reg44\"> DODECANESE ISLANDS, GREECE</td><td class=\"comment updatetimeno\" id=\"upd44\" style=\"text-align:right;\">2020-10-30 15:34</td></tr>\n",
       "<tr class=\"ligne2 normal\" id=\"915937\" onclick=\"go_details(event,915937);\"><td class=\"tabev0\"></td><td class=\"tabev0\"></td><td class=\"tabev0\"><span class=\"intensity\" onclick=\"go_details(event,null,'https://www.emsc-csem.org/Earthquake/popup_intensmap.php?id=915937&amp;f=/FELTREPORTS/91/915937/IntensityMap.png');\" onmouseout=\"info_b2('notshow','');\" onmouseover=\"info_b2('show','See the &lt;b&gt; Intensity map&lt;/b&gt;');\" style=\"background-color:#FFFFFF;\">F</span></td><td class=\"tabev6\"><b><i style=\"display:none;\">earthquake</i><a href=\"/Earthquake/earthquake.php?id=915937\">2020-10-30   15:22:27.5</a></b><i class=\"ago\" id=\"ago45\">1hr 53min ago</i></td><td class=\"tabev1\">37.86 </td><td class=\"tabev2\">N  </td><td class=\"tabev1\">26.95 </td><td class=\"tabev2\">E  </td><td class=\"tabev3\">5</td><td class=\"tabev5\" id=\"magtyp45\">ML</td><td class=\"tabev2\">3.6</td><td class=\"tb_region\" id=\"reg45\"> DODECANESE ISLANDS, GREECE</td><td class=\"comment updatetimeno\" id=\"upd45\" style=\"text-align:right;\">2020-10-30 15:47</td></tr>\n",
       "<tr class=\"ligne1 bold\" id=\"915922\" onclick=\"go_details(event,915922);\"><td class=\"tabev0\"></td><td class=\"tabev0\"></td><td class=\"tabev0\"><span class=\"intensity\" onclick=\"go_details(event,null,'https://www.emsc-csem.org/Earthquake/popup_intensmap.php?id=915922&amp;f=/FELTREPORTS/91/915922/IntensityMap.png');\" onmouseout=\"info_b2('notshow','');\" onmouseover=\"info_b2('show','See the &lt;b&gt; Intensity map&lt;/b&gt;');\" style=\"background-color:#FFFFFF;\">F</span></td><td class=\"tabev6\"><b><i style=\"display:none;\">earthquake</i><a href=\"/Earthquake/earthquake.php?id=915922\">2020-10-30   15:19:17.4</a></b><i class=\"ago\" id=\"ago46\">1hr 57min ago</i></td><td class=\"tabev1\">37.84 </td><td class=\"tabev2\">N  </td><td class=\"tabev1\">26.91 </td><td class=\"tabev2\">E  </td><td class=\"tabev3\">10</td><td class=\"tabev5\" id=\"magtyp46\">ML</td><td class=\"tabev2\">4.6</td><td class=\"tb_region\" id=\"reg46\"> DODECANESE ISLANDS, GREECE</td><td class=\"comment updatetimeno\" id=\"upd46\" style=\"text-align:right;\">2020-10-30 15:50</td></tr>\n",
       "<tr class=\"ligne2 normal\" id=\"915924\" onclick=\"go_details(event,915924);\"><td class=\"tabev0\"></td><td class=\"tabev0\"></td><td class=\"tabev0\"></td><td class=\"tabev6\"><b><i style=\"display:none;\">earthquake</i><a href=\"/Earthquake/earthquake.php?id=915924\">2020-10-30   15:18:07.9</a></b><i class=\"ago\" id=\"ago47\">1hr 58min ago</i></td><td class=\"tabev1\">36.36 </td><td class=\"tabev2\">N  </td><td class=\"tabev1\">97.34 </td><td class=\"tabev2\">W  </td><td class=\"tabev3\">3</td><td class=\"tabev5\" id=\"magtyp47\">ML</td><td class=\"tabev2\">2.0</td><td class=\"tb_region\" id=\"reg47\"> OKLAHOMA</td><td class=\"comment updatetimeno\" id=\"upd47\" style=\"text-align:right;\">2020-10-30 15:22</td></tr>\n",
       "<tr class=\"ligne1 info\" id=\"915921\" onclick=\"go_details(event,915921);\"><td class=\"tabev0\" style=\"text-align:center;\"><a href=\"https://www.emsc-csem.org/Earthquake/Testimonies/comments.php?id=915921\" onmouseout=\"info_b2('notshow','');\" onmouseover=\"info_b2('show','See the &lt;b&gt;59 testimonies&lt;/b&gt; for this earthquake');\"><span class=\"\" style=\"vertical-align:middle;\">59</span></a></td><td class=\"tabev0\"></td><td class=\"tabev0\"><span class=\"intensity\" onclick=\"go_details(event,null,'https://www.emsc-csem.org/Earthquake/popup_intensmap.php?id=915921&amp;f=/FELTREPORTS/91/915921/IntensityMap.png');\" onmouseout=\"info_b2('notshow','');\" onmouseover=\"info_b2('show','See the &lt;b&gt; Intensity map&lt;/b&gt;');\" style=\"background-color:#00FFFF;\">IV</span></td><td class=\"tabev6\"><b><i style=\"display:none;\">earthquake</i><a href=\"/Earthquake/earthquake.php?id=915921\">2020-10-30   15:14:56.3</a></b><i class=\"ago\" id=\"ago48\">2hr 01min ago</i></td><td class=\"tabev1\">37.80 </td><td class=\"tabev2\">N  </td><td class=\"tabev1\">26.80 </td><td class=\"tabev2\">E  </td><td class=\"tabev3\">5</td><td class=\"tabev5\" id=\"magtyp48\">mb</td><td class=\"tabev2\">5.2</td><td class=\"tb_region\" id=\"reg48\"> DODECANESE ISLANDS, GREECE</td><td class=\"comment updatetimeno\" id=\"upd48\" style=\"text-align:right;\">2020-10-30 15:21</td></tr>\n",
       "<tr class=\"ligne2 normal\" id=\"915950\" onclick=\"go_details(event,915950);\"><td class=\"tabev0\"></td><td class=\"tabev0\"></td><td class=\"tabev0\"></td><td class=\"tabev6\"><b><i style=\"display:none;\">earthquake</i><a href=\"/Earthquake/earthquake.php?id=915950\">2020-10-30   15:13:39.0</a></b><i class=\"ago\" id=\"ago49\">2hr 02min ago</i></td><td class=\"tabev1\">37.88 </td><td class=\"tabev2\">N  </td><td class=\"tabev1\">26.80 </td><td class=\"tabev2\">E  </td><td class=\"tabev3\">5</td><td class=\"tabev5\" id=\"magtyp49\">ML</td><td class=\"tabev2\">2.6</td><td class=\"tb_region\" id=\"reg49\"> DODECANESE ISLANDS, GREECE</td><td class=\"comment updatetimeno\" id=\"upd49\" style=\"text-align:right;\">2020-10-30 16:15</td></tr>\n",
       "</tbody><tfoot><tr><td colspan=\"13\" style=\"height:3px\"></td></tr> <tr class=\"npages\" id=\"my_pagelist_1\"><td colspan=\"13\"><a class=\"sublink sublinka\" href=\"javascript:void()\" rel=\"nofollow\">1</a><a class=\"sublink\" href=\"/Earthquake/?view=2\">2</a><a class=\"sublink\" href=\"/Earthquake/?view=3\">3</a><a class=\"sublink\" href=\"/Earthquake/?view=4\">4</a><a class=\"sublink\" href=\"/Earthquake/?view=5\">5</a><a class=\"sublink\" href=\"/Earthquake/?view=6\">6</a><a class=\"sublink\" href=\"/Earthquake/?view=7\">7</a><a class=\"sublink\" href=\"/Earthquake/?view=8\">8</a><a class=\"sublink\" href=\"/Earthquake/?view=9\">9</a><a class=\"sublink\" href=\"/Earthquake/?view=10\">10</a><a alt=\"Next page\" class=\"sublink\" href=\"/Earthquake/?view=2\"></a><a alt=\"Next 10 pages\" class=\"sublink\" href=\"/Earthquake/?view=11\">»</a></td></tr><tr><td colspan=\"13\" style=\"border-bottom:1px solid #000;\"></td></tr></tfoot></table>"
      ]
     },
     "execution_count": 49,
     "metadata": {},
     "output_type": "execute_result"
    }
   ],
   "source": [
    "# cdict = {'class':'sortable wikitable'}\n",
    "table = soup.find_all('table')[3]\n",
    "table"
   ]
  },
  {
   "cell_type": "code",
   "execution_count": 129,
   "metadata": {},
   "outputs": [
    {
     "data": {
      "text/plain": [
       "['earthquake2020-10-30',\n",
       " '16:39:30.036min',\n",
       " 'ago37.50',\n",
       " 'N',\n",
       " '141.40',\n",
       " 'E',\n",
       " '40',\n",
       " 'M3.8',\n",
       " 'NEAR',\n",
       " 'EAST',\n",
       " 'COAST',\n",
       " 'OF',\n",
       " 'HONSHU,',\n",
       " 'JAPAN2020-10-30',\n",
       " '16:50']"
      ]
     },
     "execution_count": 129,
     "metadata": {},
     "output_type": "execute_result"
    }
   ],
   "source": [
    "# Not finished, I probably doing something wrong as I get compliely unstructured data which takes hours to be aligned.\n",
    "\n",
    "rows = table.find_all('tr')\n",
    "rows\n",
    "# for row in rows:\n",
    "# #     print(row.text)\n",
    "rows = [row.text.replace('\\xa0', ' ').split('\\n') for row in rows]\n",
    "del rows[2:5]\n",
    "del rows[0]\n",
    "rows = rows[:21]\n",
    "final_rows = [rows[i][0].split() for i in range(len(rows))]\n",
    "# final_rows[1]\n",
    "final_rows[0] = ['CitizenResponseDate', 'Time', 'UTCLatitude', 'Lat', 'degreesLongitude', 'Long', 'degreesDepth & kmMag',\n",
    "            'Region name1', 'Region name2', 'Region name3', 'Last update']\n",
    "# final_rows\n",
    "final_rows[11]\n",
    "# for i in final_rows:\n",
    "#     print(len(i))"
   ]
  },
  {
   "cell_type": "code",
   "execution_count": 126,
   "metadata": {},
   "outputs": [
    {
     "ename": "ValueError",
     "evalue": "11 columns passed, passed data had 15 columns",
     "output_type": "error",
     "traceback": [
      "\u001b[1;31m---------------------------------------------------------------------------\u001b[0m",
      "\u001b[1;31mAssertionError\u001b[0m                            Traceback (most recent call last)",
      "\u001b[1;32m~\\anaconda3\\lib\\site-packages\\pandas\\core\\internals\\construction.py\u001b[0m in \u001b[0;36m_list_to_arrays\u001b[1;34m(data, columns, coerce_float, dtype)\u001b[0m\n\u001b[0;32m    495\u001b[0m     \u001b[1;32mtry\u001b[0m\u001b[1;33m:\u001b[0m\u001b[1;33m\u001b[0m\u001b[1;33m\u001b[0m\u001b[0m\n\u001b[1;32m--> 496\u001b[1;33m         result = _convert_object_array(\n\u001b[0m\u001b[0;32m    497\u001b[0m             \u001b[0mcontent\u001b[0m\u001b[1;33m,\u001b[0m \u001b[0mcolumns\u001b[0m\u001b[1;33m,\u001b[0m \u001b[0mdtype\u001b[0m\u001b[1;33m=\u001b[0m\u001b[0mdtype\u001b[0m\u001b[1;33m,\u001b[0m \u001b[0mcoerce_float\u001b[0m\u001b[1;33m=\u001b[0m\u001b[0mcoerce_float\u001b[0m\u001b[1;33m\u001b[0m\u001b[1;33m\u001b[0m\u001b[0m\n",
      "\u001b[1;32m~\\anaconda3\\lib\\site-packages\\pandas\\core\\internals\\construction.py\u001b[0m in \u001b[0;36m_convert_object_array\u001b[1;34m(content, columns, coerce_float, dtype)\u001b[0m\n\u001b[0;32m    579\u001b[0m             \u001b[1;31m# caller's responsibility to check for this...\u001b[0m\u001b[1;33m\u001b[0m\u001b[1;33m\u001b[0m\u001b[1;33m\u001b[0m\u001b[0m\n\u001b[1;32m--> 580\u001b[1;33m             raise AssertionError(\n\u001b[0m\u001b[0;32m    581\u001b[0m                 \u001b[1;34mf\"{len(columns)} columns passed, passed data had \"\u001b[0m\u001b[1;33m\u001b[0m\u001b[1;33m\u001b[0m\u001b[0m\n",
      "\u001b[1;31mAssertionError\u001b[0m: 11 columns passed, passed data had 15 columns",
      "\nThe above exception was the direct cause of the following exception:\n",
      "\u001b[1;31mValueError\u001b[0m                                Traceback (most recent call last)",
      "\u001b[1;32m<ipython-input-126-ee6d701c71e3>\u001b[0m in \u001b[0;36m<module>\u001b[1;34m\u001b[0m\n\u001b[0;32m      1\u001b[0m \u001b[0mcolnames\u001b[0m \u001b[1;33m=\u001b[0m \u001b[0mfinal_rows\u001b[0m\u001b[1;33m[\u001b[0m\u001b[1;36m0\u001b[0m\u001b[1;33m]\u001b[0m\u001b[1;33m\u001b[0m\u001b[1;33m\u001b[0m\u001b[0m\n\u001b[0;32m      2\u001b[0m \u001b[0mdata\u001b[0m \u001b[1;33m=\u001b[0m \u001b[0mfinal_rows\u001b[0m\u001b[1;33m[\u001b[0m\u001b[1;36m1\u001b[0m\u001b[1;33m:\u001b[0m\u001b[1;33m]\u001b[0m\u001b[1;33m\u001b[0m\u001b[1;33m\u001b[0m\u001b[0m\n\u001b[1;32m----> 3\u001b[1;33m \u001b[0mdf\u001b[0m \u001b[1;33m=\u001b[0m \u001b[0mpd\u001b[0m\u001b[1;33m.\u001b[0m\u001b[0mDataFrame\u001b[0m\u001b[1;33m(\u001b[0m\u001b[0mdata\u001b[0m\u001b[1;33m,\u001b[0m \u001b[0mcolumns\u001b[0m\u001b[1;33m=\u001b[0m\u001b[0mcolnames\u001b[0m\u001b[1;33m)\u001b[0m\u001b[1;33m\u001b[0m\u001b[1;33m\u001b[0m\u001b[0m\n\u001b[0m\u001b[0;32m      4\u001b[0m \u001b[0mdf\u001b[0m\u001b[1;33m\u001b[0m\u001b[1;33m\u001b[0m\u001b[0m\n",
      "\u001b[1;32m~\\anaconda3\\lib\\site-packages\\pandas\\core\\frame.py\u001b[0m in \u001b[0;36m__init__\u001b[1;34m(self, data, index, columns, dtype, copy)\u001b[0m\n\u001b[0;32m    472\u001b[0m                     \u001b[1;32mif\u001b[0m \u001b[0mis_named_tuple\u001b[0m\u001b[1;33m(\u001b[0m\u001b[0mdata\u001b[0m\u001b[1;33m[\u001b[0m\u001b[1;36m0\u001b[0m\u001b[1;33m]\u001b[0m\u001b[1;33m)\u001b[0m \u001b[1;32mand\u001b[0m \u001b[0mcolumns\u001b[0m \u001b[1;32mis\u001b[0m \u001b[1;32mNone\u001b[0m\u001b[1;33m:\u001b[0m\u001b[1;33m\u001b[0m\u001b[1;33m\u001b[0m\u001b[0m\n\u001b[0;32m    473\u001b[0m                         \u001b[0mcolumns\u001b[0m \u001b[1;33m=\u001b[0m \u001b[0mdata\u001b[0m\u001b[1;33m[\u001b[0m\u001b[1;36m0\u001b[0m\u001b[1;33m]\u001b[0m\u001b[1;33m.\u001b[0m\u001b[0m_fields\u001b[0m\u001b[1;33m\u001b[0m\u001b[1;33m\u001b[0m\u001b[0m\n\u001b[1;32m--> 474\u001b[1;33m                     \u001b[0marrays\u001b[0m\u001b[1;33m,\u001b[0m \u001b[0mcolumns\u001b[0m \u001b[1;33m=\u001b[0m \u001b[0mto_arrays\u001b[0m\u001b[1;33m(\u001b[0m\u001b[0mdata\u001b[0m\u001b[1;33m,\u001b[0m \u001b[0mcolumns\u001b[0m\u001b[1;33m,\u001b[0m \u001b[0mdtype\u001b[0m\u001b[1;33m=\u001b[0m\u001b[0mdtype\u001b[0m\u001b[1;33m)\u001b[0m\u001b[1;33m\u001b[0m\u001b[1;33m\u001b[0m\u001b[0m\n\u001b[0m\u001b[0;32m    475\u001b[0m                     \u001b[0mcolumns\u001b[0m \u001b[1;33m=\u001b[0m \u001b[0mensure_index\u001b[0m\u001b[1;33m(\u001b[0m\u001b[0mcolumns\u001b[0m\u001b[1;33m)\u001b[0m\u001b[1;33m\u001b[0m\u001b[1;33m\u001b[0m\u001b[0m\n\u001b[0;32m    476\u001b[0m \u001b[1;33m\u001b[0m\u001b[0m\n",
      "\u001b[1;32m~\\anaconda3\\lib\\site-packages\\pandas\\core\\internals\\construction.py\u001b[0m in \u001b[0;36mto_arrays\u001b[1;34m(data, columns, coerce_float, dtype)\u001b[0m\n\u001b[0;32m    459\u001b[0m         \u001b[1;32mreturn\u001b[0m \u001b[1;33m[\u001b[0m\u001b[1;33m]\u001b[0m\u001b[1;33m,\u001b[0m \u001b[1;33m[\u001b[0m\u001b[1;33m]\u001b[0m  \u001b[1;31m# columns if columns is not None else []\u001b[0m\u001b[1;33m\u001b[0m\u001b[1;33m\u001b[0m\u001b[0m\n\u001b[0;32m    460\u001b[0m     \u001b[1;32mif\u001b[0m \u001b[0misinstance\u001b[0m\u001b[1;33m(\u001b[0m\u001b[0mdata\u001b[0m\u001b[1;33m[\u001b[0m\u001b[1;36m0\u001b[0m\u001b[1;33m]\u001b[0m\u001b[1;33m,\u001b[0m \u001b[1;33m(\u001b[0m\u001b[0mlist\u001b[0m\u001b[1;33m,\u001b[0m \u001b[0mtuple\u001b[0m\u001b[1;33m)\u001b[0m\u001b[1;33m)\u001b[0m\u001b[1;33m:\u001b[0m\u001b[1;33m\u001b[0m\u001b[1;33m\u001b[0m\u001b[0m\n\u001b[1;32m--> 461\u001b[1;33m         \u001b[1;32mreturn\u001b[0m \u001b[0m_list_to_arrays\u001b[0m\u001b[1;33m(\u001b[0m\u001b[0mdata\u001b[0m\u001b[1;33m,\u001b[0m \u001b[0mcolumns\u001b[0m\u001b[1;33m,\u001b[0m \u001b[0mcoerce_float\u001b[0m\u001b[1;33m=\u001b[0m\u001b[0mcoerce_float\u001b[0m\u001b[1;33m,\u001b[0m \u001b[0mdtype\u001b[0m\u001b[1;33m=\u001b[0m\u001b[0mdtype\u001b[0m\u001b[1;33m)\u001b[0m\u001b[1;33m\u001b[0m\u001b[1;33m\u001b[0m\u001b[0m\n\u001b[0m\u001b[0;32m    462\u001b[0m     \u001b[1;32melif\u001b[0m \u001b[0misinstance\u001b[0m\u001b[1;33m(\u001b[0m\u001b[0mdata\u001b[0m\u001b[1;33m[\u001b[0m\u001b[1;36m0\u001b[0m\u001b[1;33m]\u001b[0m\u001b[1;33m,\u001b[0m \u001b[0mabc\u001b[0m\u001b[1;33m.\u001b[0m\u001b[0mMapping\u001b[0m\u001b[1;33m)\u001b[0m\u001b[1;33m:\u001b[0m\u001b[1;33m\u001b[0m\u001b[1;33m\u001b[0m\u001b[0m\n\u001b[0;32m    463\u001b[0m         return _list_of_dict_to_arrays(\n",
      "\u001b[1;32m~\\anaconda3\\lib\\site-packages\\pandas\\core\\internals\\construction.py\u001b[0m in \u001b[0;36m_list_to_arrays\u001b[1;34m(data, columns, coerce_float, dtype)\u001b[0m\n\u001b[0;32m    498\u001b[0m         )\n\u001b[0;32m    499\u001b[0m     \u001b[1;32mexcept\u001b[0m \u001b[0mAssertionError\u001b[0m \u001b[1;32mas\u001b[0m \u001b[0me\u001b[0m\u001b[1;33m:\u001b[0m\u001b[1;33m\u001b[0m\u001b[1;33m\u001b[0m\u001b[0m\n\u001b[1;32m--> 500\u001b[1;33m         \u001b[1;32mraise\u001b[0m \u001b[0mValueError\u001b[0m\u001b[1;33m(\u001b[0m\u001b[0me\u001b[0m\u001b[1;33m)\u001b[0m \u001b[1;32mfrom\u001b[0m \u001b[0me\u001b[0m\u001b[1;33m\u001b[0m\u001b[1;33m\u001b[0m\u001b[0m\n\u001b[0m\u001b[0;32m    501\u001b[0m     \u001b[1;32mreturn\u001b[0m \u001b[0mresult\u001b[0m\u001b[1;33m\u001b[0m\u001b[1;33m\u001b[0m\u001b[0m\n\u001b[0;32m    502\u001b[0m \u001b[1;33m\u001b[0m\u001b[0m\n",
      "\u001b[1;31mValueError\u001b[0m: 11 columns passed, passed data had 15 columns"
     ]
    }
   ],
   "source": [
    "colnames = final_rows[0]\n",
    "data = final_rows[1:]\n",
    "df = pd.DataFrame(data, columns=colnames)\n",
    "df"
   ]
  },
  {
   "cell_type": "code",
   "execution_count": null,
   "metadata": {},
   "outputs": [],
   "source": []
  },
  {
   "cell_type": "markdown",
   "metadata": {},
   "source": [
    "#### Count the number of tweets by a given Twitter account.\n",
    "Ask the user for the handle (@handle) of a twitter account. You will need to include a ***try/except block*** for account names not found. \n",
    "<br>***Hint:*** the program should count the number of tweets for any provided account."
   ]
  },
  {
   "cell_type": "code",
   "execution_count": null,
   "metadata": {},
   "outputs": [],
   "source": [
    "# This is the url you will scrape in this exercise \n",
    "# You will need to add the account credentials to this url\n",
    "url = 'https://twitter.com/'"
   ]
  },
  {
   "cell_type": "code",
   "execution_count": null,
   "metadata": {},
   "outputs": [],
   "source": [
    "# your code here"
   ]
  },
  {
   "cell_type": "markdown",
   "metadata": {},
   "source": [
    "#### Number of followers of a given twitter account\n",
    "Ask the user for the handle (@handle) of a twitter account. You will need to include a ***try/except block*** for account names not found. \n",
    "<br>***Hint:*** the program should count the followers for any provided account."
   ]
  },
  {
   "cell_type": "code",
   "execution_count": null,
   "metadata": {},
   "outputs": [],
   "source": [
    "# This is the url you will scrape in this exercise \n",
    "# You will need to add the account credentials to this url\n",
    "url = 'https://twitter.com/'"
   ]
  },
  {
   "cell_type": "code",
   "execution_count": null,
   "metadata": {},
   "outputs": [],
   "source": [
    "# your code here"
   ]
  },
  {
   "cell_type": "markdown",
   "metadata": {},
   "source": [
    "#### List all language names and number of related articles in the order they appear in wikipedia.org."
   ]
  },
  {
   "cell_type": "code",
   "execution_count": null,
   "metadata": {},
   "outputs": [],
   "source": [
    "# This is the url you will scrape in this exercise\n",
    "url = 'https://www.wikipedia.org/'"
   ]
  },
  {
   "cell_type": "code",
   "execution_count": null,
   "metadata": {},
   "outputs": [],
   "source": [
    "# your code here"
   ]
  },
  {
   "cell_type": "markdown",
   "metadata": {},
   "source": [
    "#### A list with the different kind of datasets available in data.gov.uk."
   ]
  },
  {
   "cell_type": "code",
   "execution_count": null,
   "metadata": {},
   "outputs": [],
   "source": [
    "# This is the url you will scrape in this exercise\n",
    "url = 'https://data.gov.uk/'"
   ]
  },
  {
   "cell_type": "code",
   "execution_count": null,
   "metadata": {},
   "outputs": [],
   "source": [
    "# your code here"
   ]
  },
  {
   "cell_type": "markdown",
   "metadata": {},
   "source": [
    "#### Display the top 10 languages by number of native speakers stored in a pandas dataframe."
   ]
  },
  {
   "cell_type": "code",
   "execution_count": null,
   "metadata": {},
   "outputs": [],
   "source": [
    "# This is the url you will scrape in this exercise\n",
    "url = 'https://en.wikipedia.org/wiki/List_of_languages_by_number_of_native_speakers'"
   ]
  },
  {
   "cell_type": "code",
   "execution_count": null,
   "metadata": {},
   "outputs": [],
   "source": [
    "# your code here"
   ]
  },
  {
   "cell_type": "markdown",
   "metadata": {},
   "source": [
    "## Bonus\n",
    "#### Scrape a certain number of tweets of a given Twitter account."
   ]
  },
  {
   "cell_type": "code",
   "execution_count": null,
   "metadata": {},
   "outputs": [],
   "source": [
    "# This is the url you will scrape in this exercise \n",
    "# You will need to add the account credentials to this url\n",
    "url = 'https://twitter.com/'"
   ]
  },
  {
   "cell_type": "code",
   "execution_count": null,
   "metadata": {},
   "outputs": [],
   "source": [
    "# your code here"
   ]
  },
  {
   "cell_type": "markdown",
   "metadata": {},
   "source": [
    "#### Display IMDB's top 250 data (movie name, initial release, director name and stars) as a pandas dataframe."
   ]
  },
  {
   "cell_type": "code",
   "execution_count": null,
   "metadata": {},
   "outputs": [],
   "source": [
    "# This is the url you will scrape in this exercise \n",
    "url = 'https://www.imdb.com/chart/top'"
   ]
  },
  {
   "cell_type": "code",
   "execution_count": null,
   "metadata": {},
   "outputs": [],
   "source": [
    "# your code here"
   ]
  },
  {
   "cell_type": "markdown",
   "metadata": {},
   "source": [
    "#### Display the movie name, year and a brief summary of the top 10 random movies (IMDB) as a pandas dataframe."
   ]
  },
  {
   "cell_type": "code",
   "execution_count": null,
   "metadata": {},
   "outputs": [],
   "source": [
    "#This is the url you will scrape in this exercise\n",
    "url = 'http://www.imdb.com/chart/top'"
   ]
  },
  {
   "cell_type": "code",
   "execution_count": null,
   "metadata": {},
   "outputs": [],
   "source": [
    "# your code here"
   ]
  },
  {
   "cell_type": "markdown",
   "metadata": {},
   "source": [
    "#### Find the live weather report (temperature, wind speed, description and weather) of a given city."
   ]
  },
  {
   "cell_type": "code",
   "execution_count": null,
   "metadata": {},
   "outputs": [],
   "source": [
    "#https://openweathermap.org/current\n",
    "city = input('Enter the city: ')\n",
    "url = 'http://api.openweathermap.org/data/2.5/weather?'+'q='+city+'&APPID=b35975e18dc93725acb092f7272cc6b8&units=metric'"
   ]
  },
  {
   "cell_type": "code",
   "execution_count": null,
   "metadata": {},
   "outputs": [],
   "source": [
    "# your code here"
   ]
  },
  {
   "cell_type": "markdown",
   "metadata": {},
   "source": [
    "#### Find the book name, price and stock availability as a pandas dataframe."
   ]
  },
  {
   "cell_type": "code",
   "execution_count": null,
   "metadata": {},
   "outputs": [],
   "source": [
    "# This is the url you will scrape in this exercise. \n",
    "# It is a fictional bookstore created to be scraped. \n",
    "url = 'http://books.toscrape.com/'"
   ]
  },
  {
   "cell_type": "code",
   "execution_count": null,
   "metadata": {},
   "outputs": [],
   "source": [
    "# your code here"
   ]
  }
 ],
 "metadata": {
  "kernelspec": {
   "display_name": "Python 3",
   "language": "python",
   "name": "python3"
  },
  "language_info": {
   "codemirror_mode": {
    "name": "ipython",
    "version": 3
   },
   "file_extension": ".py",
   "mimetype": "text/x-python",
   "name": "python",
   "nbconvert_exporter": "python",
   "pygments_lexer": "ipython3",
   "version": "3.8.3"
  }
 },
 "nbformat": 4,
 "nbformat_minor": 2
}
