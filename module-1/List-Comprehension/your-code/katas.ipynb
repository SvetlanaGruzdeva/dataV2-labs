{
 "cells": [
  {
   "cell_type": "code",
   "execution_count": 1,
   "metadata": {},
   "outputs": [
    {
     "data": {
      "text/plain": [
       "[-1, -2, -3, -4, -5]"
      ]
     },
     "execution_count": 1,
     "metadata": {},
     "output_type": "execute_result"
    }
   ],
   "source": [
    "'''Given a set of numbers, return the additive inverse of each. Each positive becomes negatives, and the negatives become\n",
    "positives.\n",
    "invert([1,2,3,4,5]) == [-1,-2,-3,-4,-5]\n",
    "invert([1,-2,3,-4,5]) == [-1,2,-3,4,-5]\n",
    "invert([]) == []'''\n",
    "\n",
    "my_list = [1, 2, 3, 4, 5]\n",
    "\n",
    "def invert(lst):\n",
    "    new_list = [-i for i in lst]\n",
    "    return(new_list)\n",
    "\n",
    "invert(my_list)"
   ]
  },
  {
   "cell_type": "code",
   "execution_count": 2,
   "metadata": {},
   "outputs": [
    {
     "data": {
      "text/plain": [
       "9"
      ]
     },
     "execution_count": 2,
     "metadata": {},
     "output_type": "execute_result"
    }
   ],
   "source": [
    "'''Complete the square sum function so that it squares each number passed into it and then sums the results together.\n",
    "For example, for [1, 2, 2] it should return 9 because 1^2 + 2^2 + 2^2 = 9.'''\n",
    "\n",
    "my_list = [1, 2, 2]\n",
    "\n",
    "def square_sum(numbers):\n",
    "    x = sum([i**2 for i in numbers])\n",
    "    return(x)\n",
    "\n",
    "square_sum(my_list)"
   ]
  },
  {
   "cell_type": "code",
   "execution_count": 3,
   "metadata": {},
   "outputs": [
    {
     "data": {
      "text/plain": [
       "[8, 6, 7, 5, 3, 0, 9]"
      ]
     },
     "execution_count": 3,
     "metadata": {},
     "output_type": "execute_result"
    }
   ],
   "source": [
    "'''Given a non-negative integer, return an array / a list of the individual digits in order.\n",
    "Examples:\n",
    "123 => [1,2,3]\n",
    "1 => [1]\n",
    "8675309 => [8,6,7,5,3,0,9]'''\n",
    "\n",
    "my_int = 8675309\n",
    "\n",
    "def digitize(n):\n",
    "    my_list = [int(i) for i in list(str(n))]\n",
    "    return(my_list)\n",
    "\n",
    "digitize(my_int)"
   ]
  },
  {
   "cell_type": "code",
   "execution_count": 4,
   "metadata": {},
   "outputs": [
    {
     "data": {
      "text/plain": [
       "[1, 2, 123]"
      ]
     },
     "execution_count": 4,
     "metadata": {},
     "output_type": "execute_result"
    }
   ],
   "source": [
    "'''In this kata you will create a function that takes a list of non-negative integers and strings and returns a new list with\n",
    "the strings filtered out.\n",
    "Example\n",
    "filter_list([1,2,'a','b']) == [1,2]\n",
    "filter_list([1,'a','b',0,15]) == [1,0,15]\n",
    "filter_list([1,2,'aasf','1','123',123]) == [1,2,123]'''\n",
    "\n",
    "my_list = [1,2,'aasf','1','123',123]\n",
    "\n",
    "def filter_list(l):\n",
    "    new_list = [i for i in l if isinstance(i, int)]\n",
    "    return(new_list)\n",
    "\n",
    "filter_list(my_list)"
   ]
  },
  {
   "cell_type": "code",
   "execution_count": 5,
   "metadata": {},
   "outputs": [
    {
     "data": {
      "text/plain": [
       "\"I couldn't figure out how to solve it using list comprehension. I saw and understood other solutions but will keep my version\\nfor history.\""
      ]
     },
     "execution_count": 5,
     "metadata": {},
     "output_type": "execute_result"
    }
   ],
   "source": [
    "'''In this kata, you will write an arithmetic list which is basically a list that contains consecutive terms in the sequence.\n",
    "You will be given three parameters :\n",
    "first the first term in the sequence\n",
    "c the constant that you are going to ADD ( since it is an arithmetic sequence...)\n",
    "l the number of terms that should be returned'''\n",
    "\n",
    "def seqlist(first, c, l):\n",
    "    my_list = [first]\n",
    "    for i in range(l):\n",
    "        my_list.append(my_list[i]+c)\n",
    "    return(my_list[:l])\n",
    "\n",
    "seqlist(100, -5, 20)\n",
    "'''I couldn't figure out how to solve it using list comprehension. I saw and understood other solutions but will keep my version\n",
    "for history.'''"
   ]
  },
  {
   "cell_type": "code",
   "execution_count": 6,
   "metadata": {},
   "outputs": [
    {
     "data": {
      "text/plain": [
       "33"
      ]
     },
     "execution_count": 6,
     "metadata": {},
     "output_type": "execute_result"
    }
   ],
   "source": [
    "'''If we list all the natural numbers below 10 that are multiples of 3 or 5, we get 3, 5, 6 and 9. The sum of these multiples is\n",
    "23.\n",
    "Finish the solution so that it returns the sum of all the multiples of 3 or 5 below the number passed in.\n",
    "Note: If the number is a multiple of both 3 and 5, only count it once. Also, if a number is negative, return 0(for languages\n",
    "that do have them)'''\n",
    "\n",
    "def solution(number):\n",
    "    my_list = [i for i in range(number) if i%3 == 0 or i%5 == 0]\n",
    "    return(sum(my_list))\n",
    "    \n",
    "solution(12)"
   ]
  },
  {
   "cell_type": "code",
   "execution_count": 7,
   "metadata": {},
   "outputs": [
    {
     "data": {
      "text/plain": [
       "[]"
      ]
     },
     "execution_count": 7,
     "metadata": {},
     "output_type": "execute_result"
    }
   ],
   "source": [
    "'''Given an array of integers.\n",
    "Return an array, where the first element is the count of positives numbers and the second element is sum of negative numbers.\n",
    "If the input array is empty or null, return an empty array.\n",
    "Example\n",
    "For input [1, 2, 3, 4, 5, 6, 7, 8, 9, 10, -11, -12, -13, -14, -15], you should return [10, -65].'''\n",
    "\n",
    "input_list = []\n",
    "\n",
    "def count_positives_sum_negatives(arr):\n",
    "    if arr is None or arr == []:\n",
    "        result_list = []\n",
    "    else:\n",
    "        p_list = [i for i in arr if i > 0]\n",
    "        n_list = [i for i in arr if i < 0]\n",
    "        result_list = [len(p_list), sum(n_list)]\n",
    "    return(result_list)\n",
    "    \n",
    "count_positives_sum_negatives(input_list)"
   ]
  },
  {
   "cell_type": "code",
   "execution_count": 8,
   "metadata": {},
   "outputs": [
    {
     "data": {
      "text/plain": [
       "['Open', 'Open', 'Senior', 'Open', 'Open', 'Senior']"
      ]
     },
     "execution_count": 8,
     "metadata": {},
     "output_type": "execute_result"
    }
   ],
   "source": [
    "'''The Western Suburbs Croquet Club has two categories of membership, Senior and Open. They would like your help with an\n",
    "application form that will tell prospective members which category they will be placed.\n",
    "To be a senior, a member must be at least 55 years old and have a handicap greater than 7. In this croquet club, handicaps\n",
    "range from -2 to +26; the better the player the lower the handicap.\n",
    "Input\n",
    "Input will consist of a list of lists containing two items each. Each list contains information for a single potential member.\n",
    "Information consists of an integer for the person's age and an integer for the person's handicap.\n",
    "Note for F#: The input will be of (int list list) which is a List<List>\n",
    "Example Input\n",
    "[[18, 20],[45, 2],[61, 12],[37, 6],[21, 21],[78, 9]]\n",
    "Output\n",
    "Output will consist of a list of string values (in Haskell: Open or Senior) stating whether the respective member is to be\n",
    "placed in the senior or open category.\n",
    "Example Output\n",
    "[\"Open\", \"Open\", \"Senior\", \"Open\", \"Open\", \"Senior\"]'''\n",
    "\n",
    "list1 = [(45, 12), (55,21), (19, -2), (104, 20)]\n",
    "list2 = [(16, 23), (73,1), (56, 20), (1, -1)]\n",
    "def open_or_senior(data):\n",
    "    assessment_list = [\"Senior\" if i[0] >= 55 and i[1] > 7 else \"Open\" for i in data ]\n",
    "    return(assessment_list)\n",
    "\n",
    "open_or_senior([[18, 20],[45, 2],[61, 12],[37, 6],[21, 21],[78, 9]])"
   ]
  },
  {
   "cell_type": "code",
   "execution_count": 9,
   "metadata": {},
   "outputs": [
    {
     "data": {
      "text/plain": [
       "6"
      ]
     },
     "execution_count": 9,
     "metadata": {},
     "output_type": "execute_result"
    }
   ],
   "source": [
    "'''You managed to send your friend to queue for tickets in your stead, but there is a catch: he will get there only if you tell\n",
    "him how much that is going to take. And everybody can only take one ticket at a time, then they go back in the last position of\n",
    "the queue if they need more (or go home if they are fine).\n",
    "\n",
    "Each ticket takes one minutes to emit, the queue is well disciplined, Brit-style, and so it moves smoothly, with no waste of\n",
    "time.\n",
    "\n",
    "You will be given an array/list/vector with all the people queuing and the initial position of your buddy, so for example,\n",
    "knowing that your friend is in the third position (that we will consider equal to the index, 2: he is the guy that wants 3\n",
    "tickets!) and the initial queue is [2, 5, 3, 4, 6].\n",
    "\n",
    "The first dude gets his ticket and the queue goes now like this [5, 3, 4, 6, 1], then [3, 4, 6, 1, 4] and so on. In the end,\n",
    "our buddy will be queuing for 12 minutes, true story!\n",
    "\n",
    "Build a function to compute it, resting assured that only positive integers are going to be there and you will be always given\n",
    "a valid index; but we also want to go to pretty popular events, so be ready for big queues with people getting plenty of\n",
    "tickets.'''\n",
    "\n",
    "\n",
    "# I couldn't come up with solution. Solution below is copied from codewars site to be understood later.\n",
    "def queue(queuers,pos):\n",
    "        \n",
    "    return sum(min(queuer, queuers[pos] - (place > pos)) for place, queuer in enumerate(queuers))\n",
    "    \n",
    "queue([2, 5, 3, 6, 4], 0)"
   ]
  },
  {
   "cell_type": "code",
   "execution_count": null,
   "metadata": {},
   "outputs": [],
   "source": []
  }
 ],
 "metadata": {
  "kernelspec": {
   "display_name": "Python 3",
   "language": "python",
   "name": "python3"
  },
  "language_info": {
   "codemirror_mode": {
    "name": "ipython",
    "version": 3
   },
   "file_extension": ".py",
   "mimetype": "text/x-python",
   "name": "python",
   "nbconvert_exporter": "python",
   "pygments_lexer": "ipython3",
   "version": "3.8.3"
  }
 },
 "nbformat": 4,
 "nbformat_minor": 4
}
