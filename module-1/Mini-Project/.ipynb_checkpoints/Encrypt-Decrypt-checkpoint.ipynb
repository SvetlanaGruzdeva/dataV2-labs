{
 "cells": [
  {
   "cell_type": "markdown",
   "metadata": {},
   "source": [
    "# Message Encryption & Decryption\n",
    "\n",
    "- ask if user wants to decrypt or encrypt\n",
    "- get messages (cleartext or encrypted)\n",
    "- apply decryption or encryption as appropriate\n",
    "- print resulting message"
   ]
  },
  {
   "cell_type": "code",
   "execution_count": 1,
   "metadata": {},
   "outputs": [],
   "source": [
    "# Encrypt\n",
    "def encrypt(text, n):\n",
    "    import string\n",
    "    import re\n",
    "    \n",
    "    alph = string.printable\n",
    "    alph_list = [i for i in alph]\n",
    "    alph_except = ''\n",
    "    for i in range (93, 99):\n",
    "        alph_except += alph_list[i]\n",
    "    alph = re.sub(alph_except, '', alph)+' '\n",
    "    result = ''\n",
    "    # Shift each letter within the alphabet\n",
    "    for l in text:\n",
    "        if l in alph:\n",
    "            result = result + alph[(alph.index(l)+n)%len(alph)] # Takes remaining of division to always stay within the lengh.\n",
    "    # Type message backwards\n",
    "    return (result[::-1])"
   ]
  },
  {
   "cell_type": "code",
   "execution_count": 2,
   "metadata": {},
   "outputs": [],
   "source": [
    "# Decrypt\n",
    "def decrypt(text, n):\n",
    "    import string\n",
    "    import re\n",
    "    \n",
    "    alph = string.printable\n",
    "    alph_list = [i for i in alph]\n",
    "    alph_except = ''\n",
    "    for i in range (93, 99):\n",
    "        alph_except += alph_list[i]\n",
    "    alph = re.sub(alph_except, '', alph)+' '\n",
    "    result = ''\n",
    "    # Shift each letter within the alphabet\n",
    "    for l in text:\n",
    "        if l in alph:\n",
    "            result = result + alph[(alph.index(l)-n)%len(alph)] # Takes remaining of division to always stay within the lengh.\n",
    "    # Type message backwards\n",
    "    return (result[::-1])"
   ]
  },
  {
   "cell_type": "code",
   "execution_count": 9,
   "metadata": {},
   "outputs": [],
   "source": [
    "def ask_message():\n",
    "# Ask user's input for text\n",
    "    message = ''\n",
    "    message = input(\"Please submit message to be processed: \")\n",
    "    return(message)"
   ]
  },
  {
   "cell_type": "markdown",
   "metadata": {},
   "source": [
    "***Version 1 - user gives instructions to encrypt or decrypt message.***"
   ]
  },
  {
   "cell_type": "code",
   "execution_count": null,
   "metadata": {},
   "outputs": [],
   "source": [
    "def ask_action():\n",
    "# Ask user's input for actions\n",
    "    action_list = ['d', 'e']\n",
    "    action = ''\n",
    "\n",
    "    print(\"Would you like to Encrypt or Decrypt your message?\")\n",
    "    while action not in action_list:\n",
    "        action = input(\"Please choose E for encrypt and D for decrypt: \").lower()\n",
    "        if action not in action_list:\n",
    "            print(\"Unknown command, please choose D or E.\")\n",
    "    return(action)\n",
    "print(ask_action())"
   ]
  },
  {
   "cell_type": "code",
   "execution_count": null,
   "metadata": {},
   "outputs": [],
   "source": [
    "# Ask user what to do\n",
    "action = ask_action()\n",
    "# Ask user for a message\n",
    "message = ask_message()\n",
    "# Perform requested actions and give a result\n",
    "if action == 'e':\n",
    "    print(f\"Your message was: {message}. Encrypted version is: {encrypt(message, 5)}.\")\n",
    "else:\n",
    "    print(f\"Your message was: {message}. Dencrypted version is: {decrypt(message, 5)}.\")"
   ]
  },
  {
   "cell_type": "code",
   "execution_count": 11,
   "metadata": {},
   "outputs": [],
   "source": [
    "def machine_guess(message):\n",
    "    from nltk.corpus import words\n",
    "\n",
    "    word_list = words.words()\n",
    "    message_list = message.split()\n",
    "    action_list = ['e', 'd']\n",
    "    action = ''\n",
    "    conf = ''\n",
    "\n",
    "    while action not in action_list:    \n",
    "        if message_list[0] in word_list:\n",
    "            conf = input('The message is probably a clear text, please confirm (Y/N): ').lower()\n",
    "            if conf == 'y':\n",
    "                action = 'e'\n",
    "            elif conf == 'n':\n",
    "                action = 'd'\n",
    "            else:\n",
    "                print(\"Unknown command, please choose Y or N.\")\n",
    "        else:\n",
    "            conf = input('The message is probably encrypted, please confirm (Y/N): ').lower()\n",
    "            if conf == 'y':\n",
    "                action = 'd'\n",
    "            elif conf == 'n':\n",
    "                action = 'e'\n",
    "            else:\n",
    "                print(\"Unknown command, please choose Y or N.\")\n",
    "    return (action)"
   ]
  },
  {
   "cell_type": "markdown",
   "metadata": {},
   "source": [
    "***Version 2 - program assess if message provided is encrypted or clear text.***"
   ]
  },
  {
   "cell_type": "code",
   "execution_count": 13,
   "metadata": {},
   "outputs": [
    {
     "name": "stdout",
     "output_type": "stream",
     "text": [
      "Please submit message to be processed: &swthnsz4Dkkzqk4f4jAfm4N\n",
      "The message is probably encrypted, please confirm (Y/N): n\n",
      "Your message was: &swthnsz4Dkkzqk4f4jAfm4N. Encrypted version is: S9rkFo9k9pvEppI9ExsmyBx+.\n"
     ]
    }
   ],
   "source": [
    "# Ask user for a message\n",
    "message = ask_message()\n",
    "# Ask user to confirm machine guess\n",
    "action = machine_guess(message)\n",
    "# Perform requested actions and give a result\n",
    "if action == 'e':\n",
    "    print(f\"Your message was: {message}. Encrypted version is: {encrypt(message, 5)}.\")\n",
    "else:\n",
    "    print(f\"Your message was: {message}. Dencrypted version is: {decrypt(message, 5)}.\")"
   ]
  },
  {
   "cell_type": "code",
   "execution_count": null,
   "metadata": {},
   "outputs": [],
   "source": [
    "# message = 'I have a fluffy unicorn!'\n",
    "# message = 'Ihavea fluffly unicorn!'\n",
    "# message = '&swthnsz4Dkkzqk4f4jAfm4N'"
   ]
  }
 ],
 "metadata": {
  "kernelspec": {
   "display_name": "Python 3",
   "language": "python",
   "name": "python3"
  },
  "language_info": {
   "codemirror_mode": {
    "name": "ipython",
    "version": 3
   },
   "file_extension": ".py",
   "mimetype": "text/x-python",
   "name": "python",
   "nbconvert_exporter": "python",
   "pygments_lexer": "ipython3",
   "version": "3.8.3"
  }
 },
 "nbformat": 4,
 "nbformat_minor": 4
}
