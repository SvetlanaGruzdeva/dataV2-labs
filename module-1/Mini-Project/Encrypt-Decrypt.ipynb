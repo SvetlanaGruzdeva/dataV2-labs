{
 "cells": [
  {
   "cell_type": "markdown",
   "metadata": {},
   "source": [
    "# Message Encryption & Decryption\n",
    "\n",
    "- ask if user wants to decrypt or encrypt\n",
    "- get messages (cleartext or encrypted)\n",
    "- apply decryption or encryption as appropriate\n",
    "- print resulting message"
   ]
  },
  {
   "cell_type": "markdown",
   "metadata": {},
   "source": [
    "***Def functions for each action, then group them in one function calling other functions.***"
   ]
  },
  {
   "cell_type": "markdown",
   "metadata": {},
   "source": [
    "***Create algorithm for machine guess if message is encrypted.***"
   ]
  },
  {
   "cell_type": "code",
   "execution_count": 2,
   "metadata": {},
   "outputs": [
    {
     "name": "stdout",
     "output_type": "stream",
     "text": [
      "Would you like to Encrypt or Decrypt your message?\n",
      "Please choose E for encrypt and D for decrypt: e\n"
     ]
    }
   ],
   "source": [
    "# Ask user's input for actions\n",
    "action_list = ['d', 'e']\n",
    "action = ''\n",
    "\n",
    "while action not in action_list:\n",
    "    action = input('''Would you like to Encrypt or Decrypt your message?\n",
    "Please choose E for encrypt and D for decrypt: ''').lower()\n",
    "    if not action:\n",
    "        print(\"Unknown command, please choose D or E: \")"
   ]
  },
  {
   "cell_type": "code",
   "execution_count": 3,
   "metadata": {},
   "outputs": [
    {
     "name": "stdout",
     "output_type": "stream",
     "text": [
      "Please submit message to be processed: I have a fluffy unicorn!\n"
     ]
    }
   ],
   "source": [
    "# Ask user's input for text\n",
    "# Print choice of action (probably need a dictionary instead of action_list)\n",
    "\n",
    "message = ''\n",
    "message = input(\"Please submit message to be processed: \")"
   ]
  },
  {
   "cell_type": "code",
   "execution_count": null,
   "metadata": {},
   "outputs": [],
   "source": [
    "# For testing and debugging purposes to save time.\n",
    "# message = 'I have a fluffy %unicorn%'"
   ]
  },
  {
   "cell_type": "code",
   "execution_count": 4,
   "metadata": {},
   "outputs": [],
   "source": [
    "# n = 5                 # It's a multiplier alphabet shift in both functions."
   ]
  },
  {
   "cell_type": "code",
   "execution_count": 15,
   "metadata": {},
   "outputs": [],
   "source": [
    "### Encrypt\n",
    "def encrypt(text, n):\n",
    "    import string\n",
    "    alp = string.printable\n",
    "    result = ''\n",
    "    # Shift each letter within the alphabet\n",
    "    for l in text:\n",
    "        if l in alp:\n",
    "            result = result + alp[(alp.index(l)+n)%len(alp)] # Takes remaining of division to always stay within the lengh.\n",
    "    # Type message backwards\n",
    "    return (result[::-1])"
   ]
  },
  {
   "cell_type": "code",
   "execution_count": 16,
   "metadata": {},
   "outputs": [],
   "source": [
    "# Debugging\n",
    "# print(encrypt(message, 5))\n",
    "# print(len(encrypt(message, 5)))\n",
    "# print(len(message))"
   ]
  },
  {
   "cell_type": "code",
   "execution_count": 17,
   "metadata": {},
   "outputs": [],
   "source": [
    "# Decrypt\n",
    "def decrypt(text, n):\n",
    "    import string\n",
    "    alp = string.printable\n",
    "    result = ''\n",
    "    # Shift each letter within the alphabet\n",
    "    for l in text:\n",
    "        if l in alp:\n",
    "            result = result + alp[(alp.index(l)-n)%len(alp)] # Takes remaining of division to always stay within the lengh.\n",
    "    # Type message backwards\n",
    "    return (result[::-1])"
   ]
  },
  {
   "cell_type": "code",
   "execution_count": 18,
   "metadata": {},
   "outputs": [],
   "source": [
    "# Debugging\n",
    "# print(decrypt(message1))\n",
    "# print(len(decrypt(message1)))\n",
    "# print(len(message1))"
   ]
  },
  {
   "cell_type": "code",
   "execution_count": 19,
   "metadata": {},
   "outputs": [
    {
     "name": "stdout",
     "output_type": "stream",
     "text": [
      "Your message was: I have a fluffy unicorn!. Encrypted version is: &swthnsz\f",
      "Dkkzqk\f",
      "f\f",
      "jAfm\f",
      "N.\n"
     ]
    }
   ],
   "source": [
    "# Run function based on user's input & print out the result\n",
    "if action == 'e':\n",
    "    print(f\"Your message was: {message}. Encrypted version is: {encrypt(message, 5)}.\")\n",
    "else:\n",
    "    print(f\"Your message was: {message}. Dencrypted version is: {decrypt(message, 5)}.\")"
   ]
  },
  {
   "cell_type": "code",
   "execution_count": null,
   "metadata": {},
   "outputs": [],
   "source": []
  }
 ],
 "metadata": {
  "kernelspec": {
   "display_name": "Python 3",
   "language": "python",
   "name": "python3"
  },
  "language_info": {
   "codemirror_mode": {
    "name": "ipython",
    "version": 3
   },
   "file_extension": ".py",
   "mimetype": "text/x-python",
   "name": "python",
   "nbconvert_exporter": "python",
   "pygments_lexer": "ipython3",
   "version": "3.8.3"
  }
 },
 "nbformat": 4,
 "nbformat_minor": 4
}
