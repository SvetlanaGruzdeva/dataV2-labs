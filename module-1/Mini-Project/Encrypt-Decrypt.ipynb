{
 "cells": [
  {
   "cell_type": "markdown",
   "metadata": {},
   "source": [
    "# Message Encryption & Decryption\n",
    "\n",
    "- ask if user wants to decrypt or encrypt\n",
    "- get messages (cleartext or encrypted)\n",
    "- apply decryption or encryption as appropriate\n",
    "- print resulting message"
   ]
  },
  {
   "cell_type": "code",
   "execution_count": 1,
   "metadata": {},
   "outputs": [],
   "source": [
    "import string"
   ]
  },
  {
   "cell_type": "code",
   "execution_count": 2,
   "metadata": {},
   "outputs": [
    {
     "name": "stdout",
     "output_type": "stream",
     "text": [
      "Would you like to Encrypt or Decrypt your message?\n",
      "Please choose E for encrypt and D for decrypt: d\n"
     ]
    }
   ],
   "source": [
    "# Ask user's input for actions\n",
    "action_list = ['d', 'e']\n",
    "action = ''\n",
    "\n",
    "while action not in action_list:\n",
    "    action = input('''Would you like to Encrypt or Decrypt your message?\n",
    "Please choose E for encrypt and D for decrypt: ''').lower()\n",
    "    if not action:\n",
    "        print(\"Unknown command, please choose D or E: \")"
   ]
  },
  {
   "cell_type": "code",
   "execution_count": 3,
   "metadata": {},
   "outputs": [
    {
     "name": "stdout",
     "output_type": "stream",
     "text": [
      "Please submit message to be processed: mimimi\n"
     ]
    }
   ],
   "source": [
    "# Ask user's input for text\n",
    "# Print choice of action (probably need a dictionary instead of action_list)\n",
    "\n",
    "message = ''\n",
    "message = input(\"Please submit message to be processed: \")"
   ]
  },
  {
   "cell_type": "code",
   "execution_count": 51,
   "metadata": {},
   "outputs": [],
   "source": [
    "message = 'I have a fluffy %unicorn%'"
   ]
  },
  {
   "cell_type": "code",
   "execution_count": 52,
   "metadata": {},
   "outputs": [],
   "source": [
    "n = 5 # It's a multiplier alphabet shift in both functions."
   ]
  },
  {
   "cell_type": "code",
   "execution_count": 53,
   "metadata": {},
   "outputs": [],
   "source": [
    "### Encrypt\n",
    "def encrypt(text):\n",
    "    alp = string.printable\n",
    "    result = ''\n",
    "\n",
    "    # Shift each letter to 4 in alphabet\n",
    "    for l in text:\n",
    "        if l in alp:\n",
    "            result = result + alp[(alp.index(l)+n)%len(alp)] # Takes remaining of division to always stay within the lengh.\n",
    "    # Type message backwards\n",
    "    return(result[::-1])"
   ]
  },
  {
   "cell_type": "code",
   "execution_count": 54,
   "metadata": {},
   "outputs": [
    {
     "name": "stdout",
     "output_type": "stream",
     "text": [
      "*swthnsz*\f",
      "Dkkzqk\f",
      "f\f",
      "jAfm\f",
      "N\n",
      "25\n",
      "25\n"
     ]
    }
   ],
   "source": [
    "print(encrypt(message))\n",
    "print(len(encrypt(message)))\n",
    "print(len(message))"
   ]
  },
  {
   "cell_type": "code",
   "execution_count": 55,
   "metadata": {},
   "outputs": [
    {
     "name": "stdout",
     "output_type": "stream",
     "text": [
      "*swthnsz*\f",
      "Dkkzqk\f",
      "f\f",
      "jAfm\f",
      "N\n"
     ]
    }
   ],
   "source": [
    "# Debugging\n",
    "message1 = encrypt(message)\n",
    "print(message1)\n",
    "# text = encrypt(message)"
   ]
  },
  {
   "cell_type": "code",
   "execution_count": 56,
   "metadata": {},
   "outputs": [],
   "source": [
    "# Decrypt\n",
    "def decrypt(text):\n",
    "    alp = string.printable\n",
    "    result = ''\n",
    "\n",
    "    # Shift each letter to 4 in alphabet\n",
    "    for l in text:\n",
    "        if l in alp:\n",
    "            result = result + alp[(alp.index(l)-n)%len(alp)]\n",
    "    #         print(l)\n",
    "    #         print(l, alp.index(l), alp[alp.index(l)], alp[(alp.index(l)-n)])\n",
    "    print(result[::-1])\n",
    "    # Type message backwards\n",
    "    return(result[::-1])"
   ]
  },
  {
   "cell_type": "code",
   "execution_count": 57,
   "metadata": {},
   "outputs": [
    {
     "name": "stdout",
     "output_type": "stream",
     "text": [
      "I have a fluffy %unicorn%\n",
      "I have a fluffy %unicorn%\n",
      "I have a fluffy %unicorn%\n",
      "25\n",
      "25\n"
     ]
    }
   ],
   "source": [
    "# Debugging\n",
    "print(decrypt(message1))\n",
    "print(len(decrypt(message1)))\n",
    "print(len(message1))"
   ]
  },
  {
   "cell_type": "code",
   "execution_count": 20,
   "metadata": {},
   "outputs": [
    {
     "name": "stdout",
     "output_type": "stream",
     "text": [
      "0123456789abcdefghijklmnopqrstuvwxyzABCDEFGHIJKLMNOPQRSTUVWXYZ!\"#$%&'()*+,-./:;<=>?@[\\]^_`{|}~ \t\n",
      "\r",
      "\u000b",
      "\f",
      "\n"
     ]
    }
   ],
   "source": [
    "alp = string.printable\n",
    "print(alp)\n",
    "# i = 0\n",
    "# print(a[i], a[i+1], a[i-7])\n",
    "\n",
    "# result = ''\n",
    "# for l in message:\n",
    "#     if l in alp:\n",
    "#         result = result + alp[(alp.index(l)+1)]\n",
    "#         print(alp.index(l), alp[alp.index(l)], alp[alp.index(l)+1], alp[alp.index(l)-1])"
   ]
  },
  {
   "cell_type": "code",
   "execution_count": 41,
   "metadata": {},
   "outputs": [
    {
     "ename": "IndexError",
     "evalue": "string index out of range",
     "output_type": "error",
     "traceback": [
      "\u001b[1;31m---------------------------------------------------------------------------\u001b[0m",
      "\u001b[1;31mIndexError\u001b[0m                                Traceback (most recent call last)",
      "\u001b[1;32m<ipython-input-41-a3da7d0a3780>\u001b[0m in \u001b[0;36m<module>\u001b[1;34m\u001b[0m\n\u001b[0;32m      5\u001b[0m \u001b[1;32mfor\u001b[0m \u001b[0mc\u001b[0m \u001b[1;32min\u001b[0m \u001b[0ms\u001b[0m\u001b[1;33m:\u001b[0m\u001b[1;33m\u001b[0m\u001b[1;33m\u001b[0m\u001b[0m\n\u001b[0;32m      6\u001b[0m     \u001b[1;32mif\u001b[0m \u001b[0mc\u001b[0m \u001b[1;32min\u001b[0m \u001b[0mascii_letters\u001b[0m\u001b[1;33m:\u001b[0m\u001b[1;33m\u001b[0m\u001b[1;33m\u001b[0m\u001b[0m\n\u001b[1;32m----> 7\u001b[1;33m         \u001b[0mns\u001b[0m\u001b[1;33m=\u001b[0m\u001b[0mns\u001b[0m\u001b[1;33m+\u001b[0m\u001b[0mascii_letters\u001b[0m\u001b[1;33m[\u001b[0m\u001b[1;33m(\u001b[0m\u001b[0mascii_letters\u001b[0m\u001b[1;33m.\u001b[0m\u001b[0mindex\u001b[0m\u001b[1;33m(\u001b[0m\u001b[0mc\u001b[0m\u001b[1;33m)\u001b[0m\u001b[1;33m+\u001b[0m\u001b[1;36m1\u001b[0m\u001b[1;33m)\u001b[0m\u001b[1;33m]\u001b[0m\u001b[1;33m\u001b[0m\u001b[1;33m\u001b[0m\u001b[0m\n\u001b[0m\u001b[0;32m      8\u001b[0m     \u001b[1;32melse\u001b[0m\u001b[1;33m:\u001b[0m\u001b[1;33m\u001b[0m\u001b[1;33m\u001b[0m\u001b[0m\n\u001b[0;32m      9\u001b[0m         \u001b[0mns\u001b[0m\u001b[1;33m+=\u001b[0m\u001b[0mc\u001b[0m\u001b[1;33m\u001b[0m\u001b[1;33m\u001b[0m\u001b[0m\n",
      "\u001b[1;31mIndexError\u001b[0m: string index out of range"
     ]
    }
   ],
   "source": [
    "from string import ascii_letters\n",
    "\n",
    "s='ZZZZ'\n",
    "ns=''\n",
    "for c in s:\n",
    "    if c in ascii_letters:\n",
    "        ns=ns+ascii_letters[(ascii_letters.index(c)+1)%len(ascii_letters)]\n",
    "    else:\n",
    "        ns+=c\n",
    "print(ns)"
   ]
  },
  {
   "cell_type": "code",
   "execution_count": 40,
   "metadata": {},
   "outputs": [],
   "source": [
    "# Run function based on user's input"
   ]
  },
  {
   "cell_type": "code",
   "execution_count": null,
   "metadata": {},
   "outputs": [],
   "source": [
    "# Print out the result"
   ]
  }
 ],
 "metadata": {
  "kernelspec": {
   "display_name": "Python 3",
   "language": "python",
   "name": "python3"
  },
  "language_info": {
   "codemirror_mode": {
    "name": "ipython",
    "version": 3
   },
   "file_extension": ".py",
   "mimetype": "text/x-python",
   "name": "python",
   "nbconvert_exporter": "python",
   "pygments_lexer": "ipython3",
   "version": "3.8.3"
  }
 },
 "nbformat": 4,
 "nbformat_minor": 4
}
