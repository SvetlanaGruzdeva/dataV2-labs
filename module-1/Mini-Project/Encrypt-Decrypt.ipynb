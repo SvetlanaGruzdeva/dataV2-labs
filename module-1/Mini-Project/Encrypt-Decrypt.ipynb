{
 "cells": [
  {
   "cell_type": "markdown",
   "metadata": {},
   "source": [
    "# Message Encryption & Decryption\n",
    "\n",
    "- ask if user wants to decrypt or encrypt\n",
    "- get messages (cleartext or encrypted)\n",
    "- apply decryption or encryption as appropriate\n",
    "- print resulting message"
   ]
  },
  {
   "cell_type": "markdown",
   "metadata": {},
   "source": [
    "***Create an algorithm for machine guess if message is encrypted.***"
   ]
  },
  {
   "cell_type": "markdown",
   "metadata": {},
   "source": [
    "***Print choice of action (probably need a dictionary instead of action_list)***"
   ]
  },
  {
   "cell_type": "code",
   "execution_count": 1,
   "metadata": {},
   "outputs": [],
   "source": [
    "def ask_action():\n",
    "# Ask user's input for actions\n",
    "    action_list = ['d', 'e']\n",
    "    action = ''\n",
    "\n",
    "    while action not in action_list:\n",
    "        action = input('''Would you like to Encrypt or Decrypt your message?\n",
    "Please choose E for encrypt and D for decrypt: ''').lower()\n",
    "        if not action:\n",
    "            print(\"Unknown command, please choose D or E: \")\n",
    "    return(action)"
   ]
  },
  {
   "cell_type": "code",
   "execution_count": 2,
   "metadata": {},
   "outputs": [],
   "source": [
    "def ask_message():\n",
    "# Ask user's input for text\n",
    "    message = ''\n",
    "    message = input(\"Please submit message to be processed: \")\n",
    "    return(message)"
   ]
  },
  {
   "cell_type": "code",
   "execution_count": 3,
   "metadata": {},
   "outputs": [],
   "source": [
    "# Encrypt\n",
    "def encrypt(text, n):\n",
    "    import string\n",
    "    import re\n",
    "    \n",
    "    alph = string.printable\n",
    "    alph_list = [i for i in alph]\n",
    "    alph_except = ''\n",
    "    for i in range (93, 99):\n",
    "        alph_except += alph_list[i]\n",
    "    alph = re.sub(alph_except, '', alph)+' '\n",
    "    result = ''\n",
    "    # Shift each letter within the alphabet\n",
    "    for l in text:\n",
    "        if l in alph:\n",
    "            result = result + alph[(alph.index(l)+n)%len(alph)] # Takes remaining of division to always stay within the lengh.\n",
    "    # Type message backwards\n",
    "    return (result[::-1])"
   ]
  },
  {
   "cell_type": "code",
   "execution_count": 4,
   "metadata": {},
   "outputs": [],
   "source": [
    "# Decrypt\n",
    "def decrypt(text, n):\n",
    "    import string\n",
    "    import re\n",
    "    \n",
    "    alph = string.printable\n",
    "    alph_list = [i for i in alph]\n",
    "    alph_except = ''\n",
    "    for i in range (93, 99):\n",
    "        alph_except += alph_list[i]\n",
    "    alph = re.sub(alph_except, '', alph)+' '\n",
    "    result = ''\n",
    "    # Shift each letter within the alphabet\n",
    "    for l in text:\n",
    "        if l in alph:\n",
    "            result = result + alph[(alph.index(l)-n)%len(alph)] # Takes remaining of division to always stay within the lengh.\n",
    "    # Type message backwards\n",
    "    return (result[::-1])"
   ]
  },
  {
   "cell_type": "code",
   "execution_count": 9,
   "metadata": {},
   "outputs": [
    {
     "name": "stdout",
     "output_type": "stream",
     "text": [
      "Would you like to Encrypt or Decrypt your message?\n",
      "Please choose E for encrypt and D for decrypt: d\n",
      "Please submit message to be processed: &swthnsz4Dkkzqk4f4jAfm4N\n",
      "Your message was: &swthnsz4Dkkzqk4f4jAfm4N. Dencrypted version is: I have a fluffy unicorn!.\n"
     ]
    }
   ],
   "source": [
    "# Ask user what to do\n",
    "action = ask_action()\n",
    "# Ask user for a message\n",
    "message = ask_message()\n",
    "# Perform requested actions and give a result\n",
    "if action == 'e':\n",
    "    print(f\"Your message was: {message}. Encrypted version is: {encrypt(message, 5)}.\")\n",
    "else:\n",
    "    print(f\"Your message was: {message}. Dencrypted version is: {decrypt(message, 5)}.\")"
   ]
  },
  {
   "cell_type": "code",
   "execution_count": null,
   "metadata": {},
   "outputs": [],
   "source": []
  }
 ],
 "metadata": {
  "kernelspec": {
   "display_name": "Python 3",
   "language": "python",
   "name": "python3"
  },
  "language_info": {
   "codemirror_mode": {
    "name": "ipython",
    "version": 3
   },
   "file_extension": ".py",
   "mimetype": "text/x-python",
   "name": "python",
   "nbconvert_exporter": "python",
   "pygments_lexer": "ipython3",
   "version": "3.8.3"
  }
 },
 "nbformat": 4,
 "nbformat_minor": 4
}
