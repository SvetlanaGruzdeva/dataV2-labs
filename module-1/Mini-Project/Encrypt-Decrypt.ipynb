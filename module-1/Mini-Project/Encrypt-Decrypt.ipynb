{
 "cells": [
  {
   "cell_type": "markdown",
   "metadata": {},
   "source": [
    "# Message Encryption & Decryption\n",
    "\n",
    "- ask if user wants to decrypt or encrypt\n",
    "- get messages (cleartext or encrypted)\n",
    "- apply decryption or encryption as appropriate\n",
    "- print resulting message"
   ]
  },
  {
   "cell_type": "code",
   "execution_count": 1,
   "metadata": {},
   "outputs": [],
   "source": [
    "import string"
   ]
  },
  {
   "cell_type": "code",
   "execution_count": 2,
   "metadata": {},
   "outputs": [
    {
     "name": "stdout",
     "output_type": "stream",
     "text": [
      "Would you like to Encrypt or Decrypt your message?\n",
      "Please choose E for encrypt and D for decrypt: d\n"
     ]
    }
   ],
   "source": [
    "# Ask user's input for actions\n",
    "action_list = ['d', 'e']\n",
    "action = ''\n",
    "\n",
    "while action not in action_list:\n",
    "    action = input('''Would you like to Encrypt or Decrypt your message?\n",
    "Please choose E for encrypt and D for decrypt: ''').lower()\n",
    "    if not action:\n",
    "        print(\"Unknown command, please choose D or E: \")"
   ]
  },
  {
   "cell_type": "code",
   "execution_count": 3,
   "metadata": {},
   "outputs": [
    {
     "name": "stdout",
     "output_type": "stream",
     "text": [
      "Please submit message to be processed: &yxDqfsf\f",
      "fyfi\f",
      "jrtxBf\f",
      "sf\f",
      "jg\f",
      "qqnB\f",
      "N\n"
     ]
    }
   ],
   "source": [
    "# Ask user's input for text\n",
    "# Print choice of action (probably need a dictionary instead of action_list)\n",
    "\n",
    "message = ''\n",
    "message = input(\"Please submit message to be processed: \")"
   ]
  },
  {
   "cell_type": "code",
   "execution_count": 4,
   "metadata": {},
   "outputs": [],
   "source": [
    "# For testing and debugging purposes to save time.\n",
    "# message = 'I have a fluffy %unicorn%'"
   ]
  },
  {
   "cell_type": "code",
   "execution_count": 5,
   "metadata": {},
   "outputs": [],
   "source": [
    "n = 5                 # It's a multiplier alphabet shift in both functions.\n",
    "alp = string.printable\n",
    "result = ''"
   ]
  },
  {
   "cell_type": "markdown",
   "metadata": {},
   "source": [
    "**If I want to use global variables, should I pass them all to function or can I directly make reference?**"
   ]
  },
  {
   "cell_type": "markdown",
   "metadata": {},
   "source": [
    "**Is it better to keep each function as autonomus as possible? I.e. import libraries and define all variables within a function even if thery are the same for both functions I have in my current program?**"
   ]
  },
  {
   "cell_type": "markdown",
   "metadata": {},
   "source": [
    "**Is it a good idea to cobmine both actions in one function?**"
   ]
  },
  {
   "cell_type": "code",
   "execution_count": 6,
   "metadata": {},
   "outputs": [],
   "source": [
    "### Encrypt\n",
    "def encrypt(text, result):\n",
    "    # Shift each letter to 4 in alphabet\n",
    "    for l in text:\n",
    "        if l in alp:\n",
    "            result = result + alp[(alp.index(l)+n)%len(alp)] # Takes remaining of division to always stay within the lengh.\n",
    "    # Type message backwards\n",
    "    return (result[::-1])"
   ]
  },
  {
   "cell_type": "code",
   "execution_count": 7,
   "metadata": {},
   "outputs": [],
   "source": [
    "# Debugging\n",
    "# print(encrypt(message, result))\n",
    "# print(len(encrypt(message, result)))\n",
    "# print(len(message, result))"
   ]
  },
  {
   "cell_type": "code",
   "execution_count": 8,
   "metadata": {},
   "outputs": [],
   "source": [
    "# Decrypt\n",
    "def decrypt(text, result):\n",
    "    # Shift each letter to 4 in alphabet\n",
    "    for l in text:\n",
    "        if l in alp:\n",
    "            result = result + alp[(alp.index(l)-n)%len(alp)] # Takes remaining of division to always stay within the lengh.\n",
    "    # Type message backwards\n",
    "    return (result[::-1])"
   ]
  },
  {
   "cell_type": "code",
   "execution_count": 9,
   "metadata": {},
   "outputs": [],
   "source": [
    "# Debugging\n",
    "# print(decrypt(message1))\n",
    "# print(len(decrypt(message1)))\n",
    "# print(len(message1))"
   ]
  },
  {
   "cell_type": "code",
   "execution_count": 10,
   "metadata": {},
   "outputs": [
    {
     "name": "stdout",
     "output_type": "stream",
     "text": [
      "Your message was: &yxDqfsf\f",
      "fyfi\f",
      "jrtxBf\f",
      "sf\f",
      "jg\f",
      "qqnB\f",
      "N. Dencrypted version is: I will be an awsome data analyst!.\n"
     ]
    }
   ],
   "source": [
    "# Run function based on user's input & print out the result\n",
    "if action == 'e':\n",
    "    print(f\"Your message was: {message}. Encrypted version is: {encrypt(message, result)}.\")\n",
    "else:\n",
    "    print(f\"Your message was: {message}. Dencrypted version is: {decrypt(message, result)}.\")"
   ]
  },
  {
   "cell_type": "code",
   "execution_count": null,
   "metadata": {},
   "outputs": [],
   "source": []
  }
 ],
 "metadata": {
  "kernelspec": {
   "display_name": "Python 3",
   "language": "python",
   "name": "python3"
  },
  "language_info": {
   "codemirror_mode": {
    "name": "ipython",
    "version": 3
   },
   "file_extension": ".py",
   "mimetype": "text/x-python",
   "name": "python",
   "nbconvert_exporter": "python",
   "pygments_lexer": "ipython3",
   "version": "3.8.3"
  }
 },
 "nbformat": 4,
 "nbformat_minor": 4
}
