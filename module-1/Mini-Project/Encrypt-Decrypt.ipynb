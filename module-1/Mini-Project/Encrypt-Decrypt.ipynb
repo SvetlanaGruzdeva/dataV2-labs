{
 "cells": [
  {
   "cell_type": "markdown",
   "metadata": {},
   "source": [
    "# Message Encryption & Decryption\n",
    "\n",
    "- ask if user wants to decrypt or encrypt\n",
    "- get messages (cleartext or encrypted)\n",
    "- apply decryption or encryption as appropriate\n",
    "- print resulting message"
   ]
  },
  {
   "cell_type": "code",
   "execution_count": 1,
   "metadata": {},
   "outputs": [],
   "source": [
    "import string"
   ]
  },
  {
   "cell_type": "code",
   "execution_count": 1,
   "metadata": {},
   "outputs": [
    {
     "name": "stdout",
     "output_type": "stream",
     "text": [
      "Would you like to Encrypt or Decrypt your message?\n",
      "Please choose E for encrypt and D for decrypt: r\n",
      "Would you like to Encrypt or Decrypt your message?\n",
      "Please choose E for encrypt and D for decrypt: E\n"
     ]
    }
   ],
   "source": [
    "# Ask user's input for actions\n",
    "action_list = ['d', 'e']\n",
    "action = ''\n",
    "\n",
    "while action not in action_list:\n",
    "    action = input('''Would you like to Encrypt or Decrypt your message?\n",
    "Please choose E for encrypt and D for decrypt: ''').lower()\n",
    "    if not action:\n",
    "        print(\"Unknown command, please choose D or E: \")"
   ]
  },
  {
   "cell_type": "code",
   "execution_count": 2,
   "metadata": {},
   "outputs": [
    {
     "name": "stdout",
     "output_type": "stream",
     "text": [
      "Please submit message to be processed: I have an unicorn.\n"
     ]
    }
   ],
   "source": [
    "# Ask user's input for text\n",
    "# Print choice of action (probably need a dictionary instead of action_list)\n",
    "\n",
    "message = ''\n",
    "message = input(\"Please submit message to be processed: \")"
   ]
  },
  {
   "cell_type": "code",
   "execution_count": 103,
   "metadata": {},
   "outputs": [],
   "source": [
    "message = 'I have a fluffy %unicorn%'"
   ]
  },
  {
   "cell_type": "code",
   "execution_count": 107,
   "metadata": {},
   "outputs": [],
   "source": [
    "n = 5 # It's a multiplier alphabet shift in both functions."
   ]
  },
  {
   "cell_type": "code",
   "execution_count": 116,
   "metadata": {},
   "outputs": [],
   "source": [
    "### Encrypt\n",
    "def encrypt(text):\n",
    "    alp = string.printable\n",
    "    result = ''\n",
    "\n",
    "    # Shift each letter to 4 in alphabet\n",
    "    for l in text:\n",
    "        if l in alp:\n",
    "            result = result + alp[(alp.index(l)+n)]\n",
    "    # Type message backwards\n",
    "    return(result[::-1])\n",
    "    return(result)\n",
    "\n",
    "\n",
    "\n",
    "# text = message\n",
    "# alp = string.printable\n",
    "# result = ''\n",
    "\n",
    "# for l in text:\n",
    "#     if l in alp:\n",
    "#         result = result + alp[(alp.index(l)+n)]\n",
    "        \n",
    "# print(result, len(result))"
   ]
  },
  {
   "cell_type": "code",
   "execution_count": 117,
   "metadata": {},
   "outputs": [
    {
     "name": "stdout",
     "output_type": "stream",
     "text": [
      "*swthnsz*\f",
      "Dkkzqk\f",
      "f\f",
      "jAfm\f",
      "N\n",
      "25\n",
      "25\n"
     ]
    }
   ],
   "source": [
    "print(encrypt(message))\n",
    "print(len(encrypt(message)))\n",
    "print(len(message))"
   ]
  },
  {
   "cell_type": "code",
   "execution_count": 118,
   "metadata": {},
   "outputs": [
    {
     "name": "stdout",
     "output_type": "stream",
     "text": [
      "*swthnsz*\f",
      "Dkkzqk\f",
      "f\f",
      "jAfm\f",
      "N\n"
     ]
    }
   ],
   "source": [
    "message1 = encrypt(message)\n",
    "print(message1)\n",
    "text = encrypt(message)"
   ]
  },
  {
   "cell_type": "code",
   "execution_count": 123,
   "metadata": {},
   "outputs": [
    {
     "name": "stdout",
     "output_type": "stream",
     "text": [
      "*swthnsz*\f",
      "Dkkzqk\f",
      "f\f",
      "jAfm\f",
      "N\n",
      "I have a fluffy %unicorn%\n"
     ]
    }
   ],
   "source": [
    "# Decrypt\n",
    "# def decrypt(text):\n",
    "alp = string.printable\n",
    "result = ''\n",
    "\n",
    "# Shift each letter to 4 in alphabet\n",
    "# text = '(xqlfruq('\n",
    "print(text)\n",
    "for l in text:\n",
    "    if l in alp:\n",
    "        result = result + alp[(alp.index(l)-n)]\n",
    "#         print(l)\n",
    "#         print(l, alp.index(l), alp[alp.index(l)], alp[(alp.index(l)-n)])\n",
    "print(result[::-1])\n",
    "    # Type message backwards\n",
    "#     return(result[::-1])\n",
    "#         return(result)"
   ]
  },
  {
   "cell_type": "code",
   "execution_count": 74,
   "metadata": {},
   "outputs": [
    {
     "name": "stdout",
     "output_type": "stream",
     "text": [
      "K\n",
      "jcxg\n",
      "c\n",
      "hnwhhA\n",
      "'wpkeqtp'\n",
      "25\n",
      "25\n"
     ]
    }
   ],
   "source": [
    "print(encrypt(message1))\n",
    "print(len(encrypt(message1)))\n",
    "print(len(message1))"
   ]
  },
  {
   "cell_type": "code",
   "execution_count": 62,
   "metadata": {},
   "outputs": [
    {
     "name": "stdout",
     "output_type": "stream",
     "text": [
      "0123456789abcdefghijklmnopqrstuvwxyzABCDEFGHIJKLMNOPQRSTUVWXYZ!\"#$%&'()*+,-./:;<=>?@[\\]^_`{|}~ \t\n",
      "\r",
      "\u000b",
      "\f",
      "\n",
      "0 1 ~\n",
      "44 I J H\n",
      "94   \t ~\n",
      "17 h i g\n",
      "10 a b 9\n",
      "31 v w u\n",
      "14 e f d\n",
      "94   \t ~\n",
      "10 a b 9\n",
      "94   \t ~\n",
      "15 f g e\n",
      "21 l m k\n",
      "30 u v t\n",
      "15 f g e\n",
      "15 f g e\n",
      "34 y z x\n",
      "94   \t ~\n",
      "66 % & $\n",
      "30 u v t\n",
      "23 n o m\n",
      "18 i j h\n",
      "12 c d b\n",
      "24 o p n\n",
      "27 r s q\n",
      "23 n o m\n",
      "66 % & $\n"
     ]
    }
   ],
   "source": [
    "alp = string.printable\n",
    "print(a)\n",
    "i = 0\n",
    "print(a[i], a[i+1], a[i-7])\n",
    "\n",
    "result = ''\n",
    "for l in message:\n",
    "    if l in alp:\n",
    "        result = result + alp[(alp.index(l)+1)]\n",
    "        print(alp.index(l), alp[alp.index(l)], alp[alp.index(l)+1], alp[alp.index(l)-1])"
   ]
  },
  {
   "cell_type": "code",
   "execution_count": null,
   "metadata": {},
   "outputs": [],
   "source": [
    "# Run function based on user's input"
   ]
  },
  {
   "cell_type": "code",
   "execution_count": null,
   "metadata": {},
   "outputs": [],
   "source": [
    "# Print out the result"
   ]
  }
 ],
 "metadata": {
  "kernelspec": {
   "display_name": "Python 3",
   "language": "python",
   "name": "python3"
  },
  "language_info": {
   "codemirror_mode": {
    "name": "ipython",
    "version": 3
   },
   "file_extension": ".py",
   "mimetype": "text/x-python",
   "name": "python",
   "nbconvert_exporter": "python",
   "pygments_lexer": "ipython3",
   "version": "3.8.3"
  }
 },
 "nbformat": 4,
 "nbformat_minor": 4
}
