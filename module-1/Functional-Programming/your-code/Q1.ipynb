{
 "cells": [
  {
   "cell_type": "markdown",
   "metadata": {},
   "source": [
    "In the cell below, create a Python function that wraps your previous solution for the Bag of Words lab.\n",
    "\n",
    "Requirements:\n",
    "\n",
    "1. Your function should accept the following parameters:\n",
    "    * `docs` [REQUIRED] - array of document paths.\n",
    "    * `stop_words` [OPTIONAL] - array of stop words. The default value is an empty array.\n",
    "\n",
    "1. Your function should return a Python object that contains the following:\n",
    "    * `bag_of_words` - array of strings of normalized unique words in the corpus.\n",
    "    * `term_freq` - array of the term-frequency vectors."
   ]
  },
  {
   "cell_type": "code",
   "execution_count": 5,
   "metadata": {},
   "outputs": [
    {
     "name": "stdout",
     "output_type": "stream",
     "text": [
      "{'bag_of_words': ['ironhack', 'is', 'cool', 'i', 'love', 'am', 'a', 'student', 'at'], 'term_freq': [[1, 1, 1, 0, 0, 0, 0, 0, 0], [1, 0, 0, 1, 1, 0, 0, 0, 0], [1, 0, 0, 1, 0, 1, 1, 1, 1]]}\n"
     ]
    }
   ],
   "source": [
    "# Import required libraries\n",
    "import re\n",
    "\n",
    "docslist = [\"Ironhack is cool!\", \"I love Ironhack.\", \"I am a student at Ironhack.\"]\n",
    "\n",
    "# Define function\n",
    "def get_bow_from_docs(docs, stop_words=[]):\n",
    "    \n",
    "    # In the function, first define the variables you will use such as `corpus`, `bag_of_words`, and `term_freq`.\n",
    "    bag_of_words = []\n",
    "    term_freq = []\n",
    "    \n",
    "    \"\"\"\n",
    "    Loop `docs` and read the content of each doc into a string in `corpus`.\n",
    "    Remember to convert the doc content to lowercases and remove punctuation.\n",
    "    \"\"\"\n",
    "    corpus = docs\n",
    "    \n",
    "    \"\"\"\n",
    "    Loop `corpus`. Append the terms in each doc into the `bag_of_words` array. The terms in `bag_of_words` \n",
    "    should be unique which means before adding each term you need to check if it's already added to the array.\n",
    "    In addition, check if each term is in the `stop_words` array. Only append the term to `bag_of_words`\n",
    "    if it is not a stop word.\n",
    "    \"\"\"\n",
    "    for sent in corpus:\n",
    "        for word in re.sub(r'[^\\w\\s]','',sent).lower().split():\n",
    "            if word not in stop_words and word not in bag_of_words:\n",
    "                bag_of_words.append(word)\n",
    "    \n",
    "    \"\"\"\n",
    "    Loop `corpus` again. For each doc string, count the number of occurrences of each term in `bag_of_words`. \n",
    "    Create an array for each doc's term frequency and append it to `term_freq`.\n",
    "    \"\"\"\n",
    "    for sent in corpus:\n",
    "        counter_list = []\n",
    "        for word in bag_of_words:\n",
    "            counter = 0\n",
    "            if word in re.sub(r'[^\\w\\s]','',sent).lower().split():\n",
    "                counter += 1\n",
    "            counter_list.append(counter)\n",
    "        term_freq.append(counter_list)\n",
    "    \n",
    "    # Now return your output as an object\n",
    "    return {\n",
    "        \"bag_of_words\": bag_of_words,\n",
    "        \"term_freq\": term_freq\n",
    "    }\n",
    "    \n",
    "print(get_bow_from_docs(docslist))"
   ]
  },
  {
   "cell_type": "markdown",
   "metadata": {},
   "source": [
    "Test your function without stop words. You should see the output like below:\n",
    "\n",
    "```{'bag_of_words': ['ironhack', 'is', 'cool', 'i', 'love', 'am', 'a', 'student', 'at'], 'term_freq': [[1, 1, 1, 0, 0, 0, 0, 0, 0], [1, 0, 0, 1, 1, 0, 0, 0, 0], [1, 0, 0, 1, 0, 1, 1, 1, 1]]}```"
   ]
  },
  {
   "cell_type": "code",
   "execution_count": 2,
   "metadata": {},
   "outputs": [
    {
     "name": "stdout",
     "output_type": "stream",
     "text": [
      "{'bag_of_words': ['ironhack', 'is', 'cool', 'i', 'love', 'am', 'a', 'student', 'at'], 'term_freq': [[1, 1, 1, 0, 0, 0, 0, 0, 0], [1, 0, 0, 1, 1, 0, 0, 0, 0], [1, 0, 0, 1, 0, 1, 1, 1, 1]]}\n"
     ]
    }
   ],
   "source": [
    "# Define doc paths array\n",
    "docs = [\"Ironhack is cool!\", \"I love Ironhack.\", \"I am a student at Ironhack.\"]\n",
    "\n",
    "# Obtain BoW from your function\n",
    "bow = get_bow_from_docs(docs)\n",
    "\n",
    "# Print BoW\n",
    "print(bow)"
   ]
  },
  {
   "cell_type": "markdown",
   "metadata": {},
   "source": [
    "If your attempt above is successful, nice work done!\n",
    "\n",
    "Now test your function again with the stop words. In the previous lab we defined the stop words in a large array. In this lab, we'll import the stop words from Scikit-Learn."
   ]
  },
  {
   "cell_type": "code",
   "execution_count": 3,
   "metadata": {},
   "outputs": [
    {
     "name": "stdout",
     "output_type": "stream",
     "text": [
      "frozenset({'by', 'already', 'after', 'so', 'moreover', 'eg', 'co', 'whose', 'we', 'anyone', 'together', 'everyone', 'them', 'same', 'of', 'anyhow', 'none', 'con', 'un', 'bill', 'found', 'towards', 'perhaps', 'ours', 'yourselves', 'cry', 'inc', 'up', 'alone', 'an', 'only', 'six', 'seemed', 'fifteen', 'every', 'ltd', 'myself', 'until', 'its', 'thus', 'eight', 'becoming', 'beyond', 'somehow', 'everywhere', 'noone', 'else', 'was', 'through', 'without', 'further', 'along', 'onto', 'or', 'yourself', 'throughout', 'due', 'here', 'see', 'being', 'therein', 'whenever', 'seeming', 'his', 'whatever', 'because', 'would', 'hers', 'at', 'him', 'her', 'others', 'seems', 'interest', 'too', 'bottom', 'becomes', 'whereafter', 'than', 'again', 'empty', 'give', 'and', 'meanwhile', 'sixty', 'while', 'per', 'front', 'cannot', 'whereas', 'my', 'well', 'became', 'against', 'enough', 'last', 'eleven', 'hasnt', 'thereupon', 'whereupon', 'nevertheless', 'least', 'before', 'three', 'latterly', 'next', 'off', 'those', 'few', 'our', 'whom', 'go', 'much', 'done', 'below', 'four', 'what', 'themselves', 'side', 'herein', 'each', 'find', 'one', 'besides', 'forty', 'but', 'more', 'seem', 'also', 'whole', 're', 'system', 'to', 'they', 'since', 'out', 'hundred', 'the', 'then', 'all', 'ever', 'someone', 'who', 'put', 'about', 'two', 'when', 'upon', 'etc', 'why', 'elsewhere', 'there', 'mine', 'have', 'if', 'mill', 'whoever', 'ourselves', 'therefore', 'under', 'via', 'take', 'indeed', 'five', 'couldnt', 'itself', 'do', 'beforehand', 'though', 'across', 'name', 'anywhere', 'although', 'twenty', 'can', 'formerly', 'been', 'whether', 'some', 'rather', 'could', 'he', 'yet', 'afterwards', 'former', 'any', 'among', 'hereby', 'with', 'should', 'hereafter', 'nine', 'above', 'yours', 'whereby', 'amount', 'where', 'you', 'however', 'she', 'were', 'nothing', 'in', 'either', 'whence', 'call', 'is', 'these', 'hence', 'fill', 'very', 'from', 'may', 'once', 'another', 'thick', 'fifty', 'describe', 'during', 'how', 'detail', 'herself', 'amongst', 'often', 'still', 'not', 'thereafter', 'fire', 'several', 'will', 'me', 'such', 'full', 'whither', 'other', 'i', 'even', 'that', 'always', 'except', 'both', 'for', 'serious', 'hereupon', 'this', 'third', 'between', 'never', 'twelve', 'cant', 'everything', 'become', 'thin', 'almost', 'own', 'around', 'himself', 'many', 'thence', 'us', 'as', 'has', 'down', 'nor', 'anyway', 'nowhere', 'top', 'on', 'ie', 'part', 'nobody', 'behind', 'move', 'no', 'had', 'namely', 'please', 'latter', 'less', 'now', 'something', 'sincere', 'which', 'toward', 'wherever', 'otherwise', 'show', 'de', 'wherein', 'neither', 'thereby', 'sometime', 'keep', 'a', 'am', 'most', 'thru', 'made', 'are', 'back', 'sometimes', 'anything', 'first', 'their', 'beside', 'within', 'mostly', 'be', 'get', 'might', 'somewhere', 'ten', 'your', 'into', 'it', 'over', 'amoungst', 'must'})\n"
     ]
    },
    {
     "name": "stderr",
     "output_type": "stream",
     "text": [
      "C:\\Users\\gruzd\\anaconda3\\lib\\site-packages\\sklearn\\utils\\deprecation.py:143: FutureWarning: The sklearn.feature_extraction.stop_words module is  deprecated in version 0.22 and will be removed in version 0.24. The corresponding classes / functions should instead be imported from sklearn.feature_extraction.text. Anything that cannot be imported from sklearn.feature_extraction.text is now part of the private API.\n",
      "  warnings.warn(message, FutureWarning)\n"
     ]
    }
   ],
   "source": [
    "from sklearn.feature_extraction import stop_words\n",
    "print(stop_words.ENGLISH_STOP_WORDS)"
   ]
  },
  {
   "cell_type": "markdown",
   "metadata": {},
   "source": [
    "You should have seen a large list of words that looks like:\n",
    "\n",
    "```frozenset({'across', 'mine', 'cannot', ...})```\n",
    "\n",
    "`frozenset` is a type of Python object that is immutable. In this lab you can use it just like an array without conversion."
   ]
  },
  {
   "cell_type": "markdown",
   "metadata": {},
   "source": [
    "Next, test your function with supplying `stop_words.ENGLISH_STOP_WORDS` as the second parameter."
   ]
  },
  {
   "cell_type": "code",
   "execution_count": 4,
   "metadata": {
    "scrolled": true
   },
   "outputs": [
    {
     "name": "stdout",
     "output_type": "stream",
     "text": [
      "{'bag_of_words': ['ironhack', 'cool', 'love', 'student'], 'term_freq': [[1, 1, 0, 0], [1, 0, 1, 0], [1, 0, 0, 1]]}\n"
     ]
    }
   ],
   "source": [
    "bow = get_bow_from_docs(docs, stop_words.ENGLISH_STOP_WORDS)\n",
    "\n",
    "print(bow)"
   ]
  },
  {
   "cell_type": "markdown",
   "metadata": {},
   "source": [
    "You should have seen:\n",
    "\n",
    "```{'bag_of_words': ['ironhack', 'cool', 'love', 'student'], 'term_freq': [[1, 1, 0, 0], [1, 0, 1, 0], [1, 0, 0, 1]]}```"
   ]
  },
  {
   "cell_type": "code",
   "execution_count": null,
   "metadata": {},
   "outputs": [],
   "source": []
  }
 ],
 "metadata": {
  "kernelspec": {
   "display_name": "Python 3",
   "language": "python",
   "name": "python3"
  },
  "language_info": {
   "codemirror_mode": {
    "name": "ipython",
    "version": 3
   },
   "file_extension": ".py",
   "mimetype": "text/x-python",
   "name": "python",
   "nbconvert_exporter": "python",
   "pygments_lexer": "ipython3",
   "version": "3.8.3"
  }
 },
 "nbformat": 4,
 "nbformat_minor": 2
}
